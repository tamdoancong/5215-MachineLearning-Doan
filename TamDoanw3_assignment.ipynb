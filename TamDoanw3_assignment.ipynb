{
  "nbformat": 4,
  "nbformat_minor": 0,
  "metadata": {
    "colab": {
      "name": "TamDoanw3-assignment.ipynb",
      "provenance": [],
      "collapsed_sections": [],
      "authorship_tag": "ABX9TyMgr7wRjfGaSn75j+tY3UUx",
      "include_colab_link": true
    },
    "kernelspec": {
      "name": "python3",
      "display_name": "Python 3"
    }
  },
  "cells": [
    {
      "cell_type": "markdown",
      "metadata": {
        "id": "view-in-github",
        "colab_type": "text"
      },
      "source": [
        "<a href=\"https://colab.research.google.com/github/tamdoancong/5215-MachineLearning-Doan/blob/master/TamDoanw3_assignment.ipynb\" target=\"_parent\"><img src=\"https://colab.research.google.com/assets/colab-badge.svg\" alt=\"Open In Colab\"/></a>"
      ]
    },
    {
      "cell_type": "code",
      "metadata": {
        "id": "QKAuMMircDBD"
      },
      "source": [
        ""
      ],
      "execution_count": null,
      "outputs": []
    },
    {
      "cell_type": "code",
      "metadata": {
        "id": "hcoQh5W7c7-h",
        "outputId": "aaef6581-ded1-484d-ab8b-4122571407f4",
        "colab": {
          "base_uri": "https://localhost:8080/",
          "height": 459
        }
      },
      "source": [
        "#Download the dataset and uzip it\n",
        "!wget -O data.zip https://drive.google.com/u/0/uc?id=1DEMhy3x7ws8Eyv0VGzJNFeYkuXhFDXhC&export=download\n",
        "!unzip -o data.zip "
      ],
      "execution_count": null,
      "outputs": [
        {
          "output_type": "stream",
          "text": [
            "--2020-09-22 09:31:14--  https://drive.google.com/u/0/uc?id=1DEMhy3x7ws8Eyv0VGzJNFeYkuXhFDXhC\n",
            "Resolving drive.google.com (drive.google.com)... 108.177.126.102, 108.177.126.138, 108.177.126.113, ...\n",
            "Connecting to drive.google.com (drive.google.com)|108.177.126.102|:443... connected.\n",
            "HTTP request sent, awaiting response... 302 Moved Temporarily\n",
            "Location: https://doc-00-4g-docs.googleusercontent.com/docs/securesc/ha0ro937gcuc7l7deffksulhg5h7mbp1/6m0ers2df8nhgk9hmv6nvfqa59qcj8hh/1600767000000/04063593624032689852/*/1DEMhy3x7ws8Eyv0VGzJNFeYkuXhFDXhC [following]\n",
            "Warning: wildcards not supported in HTTP.\n",
            "--2020-09-22 09:31:14--  https://doc-00-4g-docs.googleusercontent.com/docs/securesc/ha0ro937gcuc7l7deffksulhg5h7mbp1/6m0ers2df8nhgk9hmv6nvfqa59qcj8hh/1600767000000/04063593624032689852/*/1DEMhy3x7ws8Eyv0VGzJNFeYkuXhFDXhC\n",
            "Resolving doc-00-4g-docs.googleusercontent.com (doc-00-4g-docs.googleusercontent.com)... 108.177.119.132, 2a00:1450:4013:c00::84\n",
            "Connecting to doc-00-4g-docs.googleusercontent.com (doc-00-4g-docs.googleusercontent.com)|108.177.119.132|:443... connected.\n",
            "HTTP request sent, awaiting response... 200 OK\n",
            "Length: 687986 (672K) [application/x-zip-compressed]\n",
            "Saving to: ‘data.zip’\n",
            "\n",
            "data.zip            100%[===================>] 671.86K  --.-KB/s    in 0.004s  \n",
            "\n",
            "2020-09-22 09:31:15 (176 MB/s) - ‘data.zip’ saved [687986/687986]\n",
            "\n",
            "Archive:  data.zip\n",
            "  inflating: data/random_split/dev.csv  \n",
            "  inflating: data/random_split/test.csv  \n",
            "  inflating: data/random_split/train.csv  \n",
            "  inflating: data/subject_split/dev.csv  \n",
            "  inflating: data/subject_split/test.csv  \n",
            "  inflating: data/subject_split/train.csv  \n"
          ],
          "name": "stdout"
        }
      ]
    },
    {
      "cell_type": "code",
      "metadata": {
        "id": "Gv078AAJeF9x"
      },
      "source": [
        "#import the libraries\n",
        "import pandas as pd\n",
        "import numpy as np\n",
        "from sklearn.linear_model import LinearRegression"
      ],
      "execution_count": null,
      "outputs": []
    },
    {
      "cell_type": "code",
      "metadata": {
        "id": "HK2uOVtnc6CJ"
      },
      "source": [
        "#load training data\n",
        "training=pd.read_csv(\"./data/subject_split/train.csv\")\n",
        "#training"
      ],
      "execution_count": null,
      "outputs": []
    },
    {
      "cell_type": "code",
      "metadata": {
        "id": "o-8_VGyCdQuq"
      },
      "source": [
        "#label training data\n",
        "total_training_target=training['total_UPDRS']\n",
        "motor_training_target=training['motor_UPDRS']"
      ],
      "execution_count": null,
      "outputs": []
    },
    {
      "cell_type": "code",
      "metadata": {
        "id": "LIuZJiEdc59y"
      },
      "source": [
        "#load tuning data\n",
        "tuning=pd.read_csv(\"./data/subject_split/dev.csv\")\n",
        "#tuning\n"
      ],
      "execution_count": null,
      "outputs": []
    },
    {
      "cell_type": "code",
      "metadata": {
        "id": "3cEciN0B4G0C"
      },
      "source": [
        "#label tuning data\n",
        "total_tuning_target=tuning['total_UPDRS']\n",
        "motor_tuning_target=tuning['motor_UPDRS']"
      ],
      "execution_count": null,
      "outputs": []
    },
    {
      "cell_type": "code",
      "metadata": {
        "id": "e7P_w9Vo2a8A"
      },
      "source": [
        "training=training.drop(columns=['subject#','age','sex','test_time','motor_UPDRS','total_UPDRS'])\n",
        "tuning=tuning.drop(columns=['subject#','age','sex','test_time','motor_UPDRS','total_UPDRS'])"
      ],
      "execution_count": null,
      "outputs": []
    },
    {
      "cell_type": "code",
      "metadata": {
        "id": "8dJJ8OxA7V4v",
        "outputId": "e672cdc3-e1c3-4baa-eb3c-07387b2a7f6a",
        "colab": {
          "base_uri": "https://localhost:8080/",
          "height": 87
        }
      },
      "source": [
        "tuning.columns"
      ],
      "execution_count": null,
      "outputs": [
        {
          "output_type": "execute_result",
          "data": {
            "text/plain": [
              "Index(['Jitter(%)', 'Jitter(Abs)', 'Jitter:RAP', 'Jitter:PPQ5', 'Jitter:DDP',\n",
              "       'Shimmer', 'Shimmer(dB)', 'Shimmer:APQ3', 'Shimmer:APQ5',\n",
              "       'Shimmer:APQ11', 'Shimmer:DDA', 'NHR', 'HNR', 'RPDE', 'DFA', 'PPE'],\n",
              "      dtype='object')"
            ]
          },
          "metadata": {
            "tags": []
          },
          "execution_count": 89
        }
      ]
    },
    {
      "cell_type": "code",
      "metadata": {
        "id": "43-jLsGl6pOV",
        "outputId": "2fb9d687-560c-4ce3-ecc0-ff3d86f43b5a",
        "colab": {
          "base_uri": "https://localhost:8080/",
          "height": 263
        }
      },
      "source": [
        "training['x0']=1\n",
        "training=training[['x0','Jitter(%)', 'Jitter(Abs)', 'Jitter:RAP', 'Jitter:PPQ5', 'Jitter:DDP',\n",
        "       'Shimmer', 'Shimmer(dB)', 'Shimmer:APQ3', 'Shimmer:APQ5',\n",
        "       'Shimmer:APQ11', 'Shimmer:DDA', 'NHR', 'HNR', 'RPDE', 'DFA', 'PPE']]\n",
        "training\n",
        "training.describe#"
      ],
      "execution_count": null,
      "outputs": [
        {
          "output_type": "execute_result",
          "data": {
            "text/plain": [
              "<bound method NDFrame.describe of       x0  Jitter(%)  Jitter(Abs)  Jitter:RAP  ...     HNR     RPDE      DFA      PPE\n",
              "0      1    0.00348     0.000022     0.00152  ...  24.885  0.38029  0.62114  0.18399\n",
              "1      1    0.00563     0.000030     0.00287  ...  21.013  0.45259  0.72558  0.14219\n",
              "2      1    0.00354     0.000028     0.00168  ...  22.085  0.56362  0.59660  0.18287\n",
              "3      1    0.00602     0.000046     0.00208  ...  22.663  0.63037  0.69406  0.26387\n",
              "4      1    0.00414     0.000022     0.00183  ...  21.436  0.55022  0.57203  0.26542\n",
              "...   ..        ...          ...         ...  ...     ...      ...      ...      ...\n",
              "2800   1    0.00371     0.000031     0.00147  ...  20.865  0.52891  0.62243  0.20829\n",
              "2801   1    0.00588     0.000034     0.00306  ...  20.162  0.57128  0.62273  0.26681\n",
              "2802   1    0.00398     0.000033     0.00199  ...  22.404  0.44357  0.62159  0.16353\n",
              "2803   1    0.00536     0.000049     0.00214  ...  21.462  0.57086  0.56998  0.23169\n",
              "2804   1    0.00428     0.000047     0.00200  ...  19.554  0.60654  0.63592  0.19203\n",
              "\n",
              "[2805 rows x 17 columns]>"
            ]
          },
          "metadata": {
            "tags": []
          },
          "execution_count": 90
        }
      ]
    },
    {
      "cell_type": "code",
      "metadata": {
        "id": "Z5Es34YI8fDB",
        "outputId": "4f3763df-ede2-4bfa-e1ef-1894a8946330",
        "colab": {
          "base_uri": "https://localhost:8080/",
          "height": 437
        }
      },
      "source": [
        "tuning['x0']=1\n",
        "tuning=tuning[['x0','Jitter(%)', 'Jitter(Abs)', 'Jitter:RAP', 'Jitter:PPQ5', 'Jitter:DDP',\n",
        "       'Shimmer', 'Shimmer(dB)', 'Shimmer:APQ3', 'Shimmer:APQ5',\n",
        "       'Shimmer:APQ11', 'Shimmer:DDA', 'NHR', 'HNR', 'RPDE', 'DFA', 'PPE']]\n",
        "training"
      ],
      "execution_count": null,
      "outputs": [
        {
          "output_type": "execute_result",
          "data": {
            "text/html": [
              "<div>\n",
              "<style scoped>\n",
              "    .dataframe tbody tr th:only-of-type {\n",
              "        vertical-align: middle;\n",
              "    }\n",
              "\n",
              "    .dataframe tbody tr th {\n",
              "        vertical-align: top;\n",
              "    }\n",
              "\n",
              "    .dataframe thead th {\n",
              "        text-align: right;\n",
              "    }\n",
              "</style>\n",
              "<table border=\"1\" class=\"dataframe\">\n",
              "  <thead>\n",
              "    <tr style=\"text-align: right;\">\n",
              "      <th></th>\n",
              "      <th>x0</th>\n",
              "      <th>Jitter(%)</th>\n",
              "      <th>Jitter(Abs)</th>\n",
              "      <th>Jitter:RAP</th>\n",
              "      <th>Jitter:PPQ5</th>\n",
              "      <th>Jitter:DDP</th>\n",
              "      <th>Shimmer</th>\n",
              "      <th>Shimmer(dB)</th>\n",
              "      <th>Shimmer:APQ3</th>\n",
              "      <th>Shimmer:APQ5</th>\n",
              "      <th>Shimmer:APQ11</th>\n",
              "      <th>Shimmer:DDA</th>\n",
              "      <th>NHR</th>\n",
              "      <th>HNR</th>\n",
              "      <th>RPDE</th>\n",
              "      <th>DFA</th>\n",
              "      <th>PPE</th>\n",
              "    </tr>\n",
              "  </thead>\n",
              "  <tbody>\n",
              "    <tr>\n",
              "      <th>0</th>\n",
              "      <td>1</td>\n",
              "      <td>0.00348</td>\n",
              "      <td>0.000022</td>\n",
              "      <td>0.00152</td>\n",
              "      <td>0.00177</td>\n",
              "      <td>0.00457</td>\n",
              "      <td>0.03651</td>\n",
              "      <td>0.388</td>\n",
              "      <td>0.01632</td>\n",
              "      <td>0.02150</td>\n",
              "      <td>0.03624</td>\n",
              "      <td>0.04897</td>\n",
              "      <td>0.008005</td>\n",
              "      <td>24.885</td>\n",
              "      <td>0.38029</td>\n",
              "      <td>0.62114</td>\n",
              "      <td>0.18399</td>\n",
              "    </tr>\n",
              "    <tr>\n",
              "      <th>1</th>\n",
              "      <td>1</td>\n",
              "      <td>0.00563</td>\n",
              "      <td>0.000030</td>\n",
              "      <td>0.00287</td>\n",
              "      <td>0.00292</td>\n",
              "      <td>0.00862</td>\n",
              "      <td>0.03186</td>\n",
              "      <td>0.283</td>\n",
              "      <td>0.01562</td>\n",
              "      <td>0.02046</td>\n",
              "      <td>0.02887</td>\n",
              "      <td>0.04687</td>\n",
              "      <td>0.011275</td>\n",
              "      <td>21.013</td>\n",
              "      <td>0.45259</td>\n",
              "      <td>0.72558</td>\n",
              "      <td>0.14219</td>\n",
              "    </tr>\n",
              "    <tr>\n",
              "      <th>2</th>\n",
              "      <td>1</td>\n",
              "      <td>0.00354</td>\n",
              "      <td>0.000028</td>\n",
              "      <td>0.00168</td>\n",
              "      <td>0.00219</td>\n",
              "      <td>0.00503</td>\n",
              "      <td>0.03045</td>\n",
              "      <td>0.281</td>\n",
              "      <td>0.01594</td>\n",
              "      <td>0.01871</td>\n",
              "      <td>0.02651</td>\n",
              "      <td>0.04781</td>\n",
              "      <td>0.013284</td>\n",
              "      <td>22.085</td>\n",
              "      <td>0.56362</td>\n",
              "      <td>0.59660</td>\n",
              "      <td>0.18287</td>\n",
              "    </tr>\n",
              "    <tr>\n",
              "      <th>3</th>\n",
              "      <td>1</td>\n",
              "      <td>0.00602</td>\n",
              "      <td>0.000046</td>\n",
              "      <td>0.00208</td>\n",
              "      <td>0.00233</td>\n",
              "      <td>0.00624</td>\n",
              "      <td>0.01902</td>\n",
              "      <td>0.168</td>\n",
              "      <td>0.00894</td>\n",
              "      <td>0.01041</td>\n",
              "      <td>0.01606</td>\n",
              "      <td>0.02682</td>\n",
              "      <td>0.011945</td>\n",
              "      <td>22.663</td>\n",
              "      <td>0.63037</td>\n",
              "      <td>0.69406</td>\n",
              "      <td>0.26387</td>\n",
              "    </tr>\n",
              "    <tr>\n",
              "      <th>4</th>\n",
              "      <td>1</td>\n",
              "      <td>0.00414</td>\n",
              "      <td>0.000022</td>\n",
              "      <td>0.00183</td>\n",
              "      <td>0.00233</td>\n",
              "      <td>0.00550</td>\n",
              "      <td>0.03073</td>\n",
              "      <td>0.272</td>\n",
              "      <td>0.01636</td>\n",
              "      <td>0.02040</td>\n",
              "      <td>0.02387</td>\n",
              "      <td>0.04909</td>\n",
              "      <td>0.014141</td>\n",
              "      <td>21.436</td>\n",
              "      <td>0.55022</td>\n",
              "      <td>0.57203</td>\n",
              "      <td>0.26542</td>\n",
              "    </tr>\n",
              "    <tr>\n",
              "      <th>...</th>\n",
              "      <td>...</td>\n",
              "      <td>...</td>\n",
              "      <td>...</td>\n",
              "      <td>...</td>\n",
              "      <td>...</td>\n",
              "      <td>...</td>\n",
              "      <td>...</td>\n",
              "      <td>...</td>\n",
              "      <td>...</td>\n",
              "      <td>...</td>\n",
              "      <td>...</td>\n",
              "      <td>...</td>\n",
              "      <td>...</td>\n",
              "      <td>...</td>\n",
              "      <td>...</td>\n",
              "      <td>...</td>\n",
              "      <td>...</td>\n",
              "    </tr>\n",
              "    <tr>\n",
              "      <th>2800</th>\n",
              "      <td>1</td>\n",
              "      <td>0.00371</td>\n",
              "      <td>0.000031</td>\n",
              "      <td>0.00147</td>\n",
              "      <td>0.00207</td>\n",
              "      <td>0.00440</td>\n",
              "      <td>0.03158</td>\n",
              "      <td>0.274</td>\n",
              "      <td>0.01667</td>\n",
              "      <td>0.01827</td>\n",
              "      <td>0.02287</td>\n",
              "      <td>0.05000</td>\n",
              "      <td>0.013616</td>\n",
              "      <td>20.865</td>\n",
              "      <td>0.52891</td>\n",
              "      <td>0.62243</td>\n",
              "      <td>0.20829</td>\n",
              "    </tr>\n",
              "    <tr>\n",
              "      <th>2801</th>\n",
              "      <td>1</td>\n",
              "      <td>0.00588</td>\n",
              "      <td>0.000034</td>\n",
              "      <td>0.00306</td>\n",
              "      <td>0.00346</td>\n",
              "      <td>0.00918</td>\n",
              "      <td>0.03288</td>\n",
              "      <td>0.314</td>\n",
              "      <td>0.01684</td>\n",
              "      <td>0.01923</td>\n",
              "      <td>0.02618</td>\n",
              "      <td>0.05053</td>\n",
              "      <td>0.021522</td>\n",
              "      <td>20.162</td>\n",
              "      <td>0.57128</td>\n",
              "      <td>0.62273</td>\n",
              "      <td>0.26681</td>\n",
              "    </tr>\n",
              "    <tr>\n",
              "      <th>2802</th>\n",
              "      <td>1</td>\n",
              "      <td>0.00398</td>\n",
              "      <td>0.000033</td>\n",
              "      <td>0.00199</td>\n",
              "      <td>0.00218</td>\n",
              "      <td>0.00598</td>\n",
              "      <td>0.03541</td>\n",
              "      <td>0.309</td>\n",
              "      <td>0.01967</td>\n",
              "      <td>0.01998</td>\n",
              "      <td>0.02526</td>\n",
              "      <td>0.05902</td>\n",
              "      <td>0.011939</td>\n",
              "      <td>22.404</td>\n",
              "      <td>0.44357</td>\n",
              "      <td>0.62159</td>\n",
              "      <td>0.16353</td>\n",
              "    </tr>\n",
              "    <tr>\n",
              "      <th>2803</th>\n",
              "      <td>1</td>\n",
              "      <td>0.00536</td>\n",
              "      <td>0.000049</td>\n",
              "      <td>0.00214</td>\n",
              "      <td>0.00292</td>\n",
              "      <td>0.00643</td>\n",
              "      <td>0.03332</td>\n",
              "      <td>0.298</td>\n",
              "      <td>0.01681</td>\n",
              "      <td>0.02000</td>\n",
              "      <td>0.02854</td>\n",
              "      <td>0.05043</td>\n",
              "      <td>0.035802</td>\n",
              "      <td>21.462</td>\n",
              "      <td>0.57086</td>\n",
              "      <td>0.56998</td>\n",
              "      <td>0.23169</td>\n",
              "    </tr>\n",
              "    <tr>\n",
              "      <th>2804</th>\n",
              "      <td>1</td>\n",
              "      <td>0.00428</td>\n",
              "      <td>0.000047</td>\n",
              "      <td>0.00200</td>\n",
              "      <td>0.00234</td>\n",
              "      <td>0.00599</td>\n",
              "      <td>0.03569</td>\n",
              "      <td>0.325</td>\n",
              "      <td>0.01651</td>\n",
              "      <td>0.02052</td>\n",
              "      <td>0.03584</td>\n",
              "      <td>0.04953</td>\n",
              "      <td>0.017075</td>\n",
              "      <td>19.554</td>\n",
              "      <td>0.60654</td>\n",
              "      <td>0.63592</td>\n",
              "      <td>0.19203</td>\n",
              "    </tr>\n",
              "  </tbody>\n",
              "</table>\n",
              "<p>2805 rows × 17 columns</p>\n",
              "</div>"
            ],
            "text/plain": [
              "      x0  Jitter(%)  Jitter(Abs)  Jitter:RAP  ...     HNR     RPDE      DFA      PPE\n",
              "0      1    0.00348     0.000022     0.00152  ...  24.885  0.38029  0.62114  0.18399\n",
              "1      1    0.00563     0.000030     0.00287  ...  21.013  0.45259  0.72558  0.14219\n",
              "2      1    0.00354     0.000028     0.00168  ...  22.085  0.56362  0.59660  0.18287\n",
              "3      1    0.00602     0.000046     0.00208  ...  22.663  0.63037  0.69406  0.26387\n",
              "4      1    0.00414     0.000022     0.00183  ...  21.436  0.55022  0.57203  0.26542\n",
              "...   ..        ...          ...         ...  ...     ...      ...      ...      ...\n",
              "2800   1    0.00371     0.000031     0.00147  ...  20.865  0.52891  0.62243  0.20829\n",
              "2801   1    0.00588     0.000034     0.00306  ...  20.162  0.57128  0.62273  0.26681\n",
              "2802   1    0.00398     0.000033     0.00199  ...  22.404  0.44357  0.62159  0.16353\n",
              "2803   1    0.00536     0.000049     0.00214  ...  21.462  0.57086  0.56998  0.23169\n",
              "2804   1    0.00428     0.000047     0.00200  ...  19.554  0.60654  0.63592  0.19203\n",
              "\n",
              "[2805 rows x 17 columns]"
            ]
          },
          "metadata": {
            "tags": []
          },
          "execution_count": 91
        }
      ]
    },
    {
      "cell_type": "code",
      "metadata": {
        "id": "2ECSCm4T9YqC"
      },
      "source": [
        "#convert dataFrame to numpy array\n",
        "training=training.to_numpy()\n",
        "total_training_target=total_training_target.to_numpy()\n",
        "motor_training_target=motor_training_target.to_numpy()\n",
        "tuning=tuning.to_numpy()\n",
        "total_tuning_target=total_tuning_target.to_numpy()\n",
        "motor_tuning_target=motor_tuning_target.to_numpy()\n",
        "#total_training_target\n"
      ],
      "execution_count": null,
      "outputs": []
    },
    {
      "cell_type": "markdown",
      "metadata": {
        "id": "Wor6OtfHCYPJ"
      },
      "source": [
        ""
      ]
    },
    {
      "cell_type": "code",
      "metadata": {
        "id": "B1N3a1VIH3u6",
        "outputId": "32484b93-8abf-4913-b116-821133e76a2f",
        "colab": {
          "base_uri": "https://localhost:8080/",
          "height": 105
        }
      },
      "source": [
        "#find value W which lead to the least square error\n",
        "#use numpy.dot\n",
        "from numpy.linalg import inv\n",
        "\n",
        "X=training\n",
        "Y=total_training_target\n",
        "X_transpose =X.T\n",
        "X_transposeX = np.dot(X_transpose,X)\n",
        "X_transposeY = np.dot(X_transpose,Y)\n",
        "A=inv(X_transposeX)\n",
        "w=np.dot(A,X_transposeY)\n",
        "w\n",
        "#np.matmul(a, b)\n",
        "#A=np.matmul(X.T,X).shape\n",
        "\n",
        "#B=inv(A)\n",
        "#np.matmul(inv(A),X.T).shape\n"
      ],
      "execution_count": null,
      "outputs": [
        {
          "output_type": "execute_result",
          "data": {
            "text/plain": [
              "array([ 3.36310981e+01, -2.28181261e+03,  3.00205147e+04, -4.28795911e+04,\n",
              "        5.54414009e+02,  1.51359371e+04,  5.70114394e+02,  3.33607009e+00,\n",
              "        5.62994706e+02, -2.38005419e+02, -6.41596375e+00, -4.44278608e+02,\n",
              "       -1.26918064e+01,  8.57426804e-02,  4.09050293e-01, -9.63485744e+00,\n",
              "        2.23658562e+01])"
            ]
          },
          "metadata": {
            "tags": []
          },
          "execution_count": 93
        }
      ]
    },
    {
      "cell_type": "code",
      "metadata": {
        "id": "2UKPk5BeZAyY",
        "outputId": "ba783c11-2590-4287-8bf6-f10498e126fe",
        "colab": {
          "base_uri": "https://localhost:8080/",
          "height": 105
        }
      },
      "source": [
        "#find value W which lead to the least square error\n",
        "#use np.matmul(a, b)\n",
        "X_transposeX = np.matmul(X_transpose,X)\n",
        "X_transposeY = np.matmul(X_transpose,Y)\n",
        "A=inv(X_transposeX)\n",
        "w=np.matmul(A,X_transposeY)\n",
        "w"
      ],
      "execution_count": null,
      "outputs": [
        {
          "output_type": "execute_result",
          "data": {
            "text/plain": [
              "array([ 3.36310981e+01, -2.28181261e+03,  3.00205147e+04, -4.28795911e+04,\n",
              "        5.54414009e+02,  1.51359371e+04,  5.70114394e+02,  3.33607009e+00,\n",
              "        5.62994706e+02, -2.38005419e+02, -6.41596375e+00, -4.44278608e+02,\n",
              "       -1.26918064e+01,  8.57426804e-02,  4.09050293e-01, -9.63485744e+00,\n",
              "        2.23658562e+01])"
            ]
          },
          "metadata": {
            "tags": []
          },
          "execution_count": 94
        }
      ]
    },
    {
      "cell_type": "code",
      "metadata": {
        "id": "iUb72eXGEljr"
      },
      "source": [
        ""
      ],
      "execution_count": null,
      "outputs": []
    },
    {
      "cell_type": "code",
      "metadata": {
        "id": "XqSvcS5wakPA",
        "outputId": "433ec30f-7bd3-4f7c-e477-1af381fa25f3",
        "colab": {
          "base_uri": "https://localhost:8080/",
          "height": 35
        }
      },
      "source": [
        "np.sqrt(np.mean(np.matmul((np.matmul(X,w) - Y).T , (np.matmul(X,w) - Y))))"
      ],
      "execution_count": null,
      "outputs": [
        {
          "output_type": "execute_result",
          "data": {
            "text/plain": [
              "505.13989300617703"
            ]
          },
          "metadata": {
            "tags": []
          },
          "execution_count": 95
        }
      ]
    },
    {
      "cell_type": "code",
      "metadata": {
        "id": "ggIzp6pGFC0v"
      },
      "source": [
        "#initialize a linear_model.LinearRegression() model with its default parameters,\n",
        "reg = LinearRegression(fit_intercept=True,normalize=False)"
      ],
      "execution_count": null,
      "outputs": []
    },
    {
      "cell_type": "code",
      "metadata": {
        "id": "0T1soFBuFC05",
        "outputId": "cd5253bb-70ca-4dec-ec2c-b252abbb3ba2",
        "colab": {
          "base_uri": "https://localhost:8080/",
          "height": 35
        }
      },
      "source": [
        "#train model_3.1 using the fit method, \n",
        "# training_subject_ex(not include'total_UPDRS','motor_UPDRS' ) and \n",
        "#total_training_subject_ex_targets  which extrcact from \"./data/subject_split/train.csv\" and group by subject and aggreagate mean, std\n",
        "reg.fit(training,total_training_target)"
      ],
      "execution_count": null,
      "outputs": [
        {
          "output_type": "execute_result",
          "data": {
            "text/plain": [
              "LinearRegression(copy_X=True, fit_intercept=True, n_jobs=None, normalize=False)"
            ]
          },
          "metadata": {
            "tags": []
          },
          "execution_count": 97
        }
      ]
    },
    {
      "cell_type": "code",
      "metadata": {
        "id": "JmL34ZFGERAe"
      },
      "source": [
        ""
      ],
      "execution_count": null,
      "outputs": []
    },
    {
      "cell_type": "code",
      "metadata": {
        "id": "TbWkUbfGGEz3",
        "outputId": "938c8532-8ec4-4dd8-b76c-5ee8eb0b0bf6",
        "colab": {
          "base_uri": "https://localhost:8080/",
          "height": 35
        }
      },
      "source": [
        "\n",
        "reg.score(tuning, total_tuning_target)\n"
      ],
      "execution_count": null,
      "outputs": [
        {
          "output_type": "execute_result",
          "data": {
            "text/plain": [
              "-1.0280801358289389"
            ]
          },
          "metadata": {
            "tags": []
          },
          "execution_count": 98
        }
      ]
    },
    {
      "cell_type": "code",
      "metadata": {
        "id": "oMSup4EpMedv"
      },
      "source": [
        "#to get the output for  prediction_target_subject_x,tuning_subject_ex is not include'total_UPDRS','motor_UPDRS''subject# \n",
        "prediction_target=reg.predict(tuning)"
      ],
      "execution_count": null,
      "outputs": []
    },
    {
      "cell_type": "code",
      "metadata": {
        "id": "z3pZ54tbMeeO"
      },
      "source": [
        "from sklearn.metrics import mean_squared_error"
      ],
      "execution_count": null,
      "outputs": []
    },
    {
      "cell_type": "code",
      "metadata": {
        "id": "LwLElgJFMeeV",
        "outputId": "88e41908-108e-4945-f4ae-b1a378e1deaa",
        "colab": {
          "base_uri": "https://localhost:8080/",
          "height": 35
        }
      },
      "source": [
        "#mean_squared_error of model_3.1 :tuning_subject_ex and tuning_targets_subject_ex are extracted from \"./data/subject_split/dev.csv\" \n",
        "#grouby subject and aggregate\n",
        "#tuning_subject_ex does not include'total_UPDRS','motor_UPDRS''subject' \n",
        "reg.score(tuning, total_tuning_target)\n",
        "mse_model_3_1 =mean_squared_error(total_tuning_target,prediction_target)\n",
        "mse_model_3_1 "
      ],
      "execution_count": null,
      "outputs": [
        {
          "output_type": "execute_result",
          "data": {
            "text/plain": [
              "209.89720174648025"
            ]
          },
          "metadata": {
            "tags": []
          },
          "execution_count": 101
        }
      ]
    },
    {
      "cell_type": "code",
      "metadata": {
        "id": "6a_TOtYJMeea",
        "outputId": "282b5782-41b3-48ce-e314-4cdeea170102",
        "colab": {
          "base_uri": "https://localhost:8080/",
          "height": 35
        }
      },
      "source": [
        "#root mean_squared_error model_3.1 tuning_subject and tuning_targets_subject are extracted from \"./data/subject_split/dev.csv\" \n",
        "#(not include'total_UPDRS','motor_UPDRS''age','sex','test_time' )\n",
        "np.sqrt(mse_model_3_1 )\n"
      ],
      "execution_count": null,
      "outputs": [
        {
          "output_type": "execute_result",
          "data": {
            "text/plain": [
              "14.487829435304663"
            ]
          },
          "metadata": {
            "tags": []
          },
          "execution_count": 102
        }
      ]
    },
    {
      "cell_type": "code",
      "metadata": {
        "id": "BZEBLXDx0LLC",
        "outputId": "d0ebf4fe-d4b5-47e6-ea53-e4405414cd90",
        "colab": {
          "base_uri": "https://localhost:8080/",
          "height": 105
        }
      },
      "source": [
        "reg.coef_\n"
      ],
      "execution_count": null,
      "outputs": [
        {
          "output_type": "execute_result",
          "data": {
            "text/plain": [
              "array([ 0.00000000e+00, -2.28181329e+03,  3.00205300e+04, -4.28791383e+04,\n",
              "        5.54414671e+02,  1.51357863e+04,  5.70114381e+02,  3.33607056e+00,\n",
              "        5.62994618e+02, -2.38005419e+02, -6.41596375e+00, -4.44278582e+02,\n",
              "       -1.26918064e+01,  8.57426804e-02,  4.09050293e-01, -9.63485744e+00,\n",
              "        2.23658562e+01])"
            ]
          },
          "metadata": {
            "tags": []
          },
          "execution_count": 103
        }
      ]
    },
    {
      "cell_type": "code",
      "metadata": {
        "id": "F_VJ7lIoJwvf",
        "outputId": "76f6840a-aba6-41e3-fda6-50943ddcfeeb",
        "colab": {
          "base_uri": "https://localhost:8080/",
          "height": 105
        }
      },
      "source": [
        "w"
      ],
      "execution_count": null,
      "outputs": [
        {
          "output_type": "execute_result",
          "data": {
            "text/plain": [
              "array([ 3.36310981e+01, -2.28181261e+03,  3.00205147e+04, -4.28795911e+04,\n",
              "        5.54414009e+02,  1.51359371e+04,  5.70114394e+02,  3.33607009e+00,\n",
              "        5.62994706e+02, -2.38005419e+02, -6.41596375e+00, -4.44278608e+02,\n",
              "       -1.26918064e+01,  8.57426804e-02,  4.09050293e-01, -9.63485744e+00,\n",
              "        2.23658562e+01])"
            ]
          },
          "metadata": {
            "tags": []
          },
          "execution_count": 104
        }
      ]
    },
    {
      "cell_type": "code",
      "metadata": {
        "id": "T1B26ZmJJ51i",
        "outputId": "1d4aa311-1e24-44ab-a05f-054a37c83757",
        "colab": {
          "base_uri": "https://localhost:8080/",
          "height": 246
        }
      },
      "source": [
        "X"
      ],
      "execution_count": null,
      "outputs": [
        {
          "output_type": "execute_result",
          "data": {
            "text/plain": [
              "array([[1.0000e+00, 3.4800e-03, 2.2260e-05, ..., 3.8029e-01, 6.2114e-01,\n",
              "        1.8399e-01],\n",
              "       [1.0000e+00, 5.6300e-03, 2.9600e-05, ..., 4.5259e-01, 7.2558e-01,\n",
              "        1.4219e-01],\n",
              "       [1.0000e+00, 3.5400e-03, 2.8400e-05, ..., 5.6362e-01, 5.9660e-01,\n",
              "        1.8287e-01],\n",
              "       ...,\n",
              "       [1.0000e+00, 3.9800e-03, 3.3000e-05, ..., 4.4357e-01, 6.2159e-01,\n",
              "        1.6353e-01],\n",
              "       [1.0000e+00, 5.3600e-03, 4.8870e-05, ..., 5.7086e-01, 5.6998e-01,\n",
              "        2.3169e-01],\n",
              "       [1.0000e+00, 4.2800e-03, 4.6540e-05, ..., 6.0654e-01, 6.3592e-01,\n",
              "        1.9203e-01]])"
            ]
          },
          "metadata": {
            "tags": []
          },
          "execution_count": 110
        }
      ]
    }
  ]
}