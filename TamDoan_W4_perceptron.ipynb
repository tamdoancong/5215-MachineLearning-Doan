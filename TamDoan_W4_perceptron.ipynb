{
  "nbformat": 4,
  "nbformat_minor": 0,
  "metadata": {
    "colab": {
      "name": "TamDoan_W4_perceptron.ipynb",
      "provenance": [],
      "collapsed_sections": [],
      "authorship_tag": "ABX9TyPg6eionq3fELQC5c7nd1EW",
      "include_colab_link": true
    },
    "kernelspec": {
      "name": "python3",
      "display_name": "Python 3"
    }
  },
  "cells": [
    {
      "cell_type": "markdown",
      "metadata": {
        "id": "view-in-github",
        "colab_type": "text"
      },
      "source": [
        "<a href=\"https://colab.research.google.com/github/tamdoancong/5215-MachineLearning-Doan/blob/master/TamDoan_W4_perceptron.ipynb\" target=\"_parent\"><img src=\"https://colab.research.google.com/assets/colab-badge.svg\" alt=\"Open In Colab\"/></a>"
      ]
    },
    {
      "cell_type": "code",
      "metadata": {
        "id": "C6UXaWr-qhEe",
        "outputId": "588a80c8-7ca7-450c-f5c9-2179d4ce5266",
        "colab": {
          "base_uri": "https://localhost:8080/",
          "height": 459
        }
      },
      "source": [
        "#Download the dataset and uzip it\n",
        "!wget -O data.zip https://drive.google.com/u/0/uc?id=1DEMhy3x7ws8Eyv0VGzJNFeYkuXhFDXhC&export=download\n",
        "!unzip -o data.zip "
      ],
      "execution_count": null,
      "outputs": [
        {
          "output_type": "stream",
          "text": [
            "--2020-09-22 10:05:49--  https://drive.google.com/u/0/uc?id=1DEMhy3x7ws8Eyv0VGzJNFeYkuXhFDXhC\n",
            "Resolving drive.google.com (drive.google.com)... 74.125.142.138, 74.125.142.101, 74.125.142.139, ...\n",
            "Connecting to drive.google.com (drive.google.com)|74.125.142.138|:443... connected.\n",
            "HTTP request sent, awaiting response... 302 Moved Temporarily\n",
            "Location: https://doc-00-4g-docs.googleusercontent.com/docs/securesc/ha0ro937gcuc7l7deffksulhg5h7mbp1/iht57nbgjj4h24g8c16upmtcheg63bb7/1600769100000/04063593624032689852/*/1DEMhy3x7ws8Eyv0VGzJNFeYkuXhFDXhC [following]\n",
            "Warning: wildcards not supported in HTTP.\n",
            "--2020-09-22 10:05:49--  https://doc-00-4g-docs.googleusercontent.com/docs/securesc/ha0ro937gcuc7l7deffksulhg5h7mbp1/iht57nbgjj4h24g8c16upmtcheg63bb7/1600769100000/04063593624032689852/*/1DEMhy3x7ws8Eyv0VGzJNFeYkuXhFDXhC\n",
            "Resolving doc-00-4g-docs.googleusercontent.com (doc-00-4g-docs.googleusercontent.com)... 74.125.20.132, 2607:f8b0:400e:c07::84\n",
            "Connecting to doc-00-4g-docs.googleusercontent.com (doc-00-4g-docs.googleusercontent.com)|74.125.20.132|:443... connected.\n",
            "HTTP request sent, awaiting response... 200 OK\n",
            "Length: 687986 (672K) [application/x-zip-compressed]\n",
            "Saving to: ‘data.zip’\n",
            "\n",
            "data.zip            100%[===================>] 671.86K  --.-KB/s    in 0.005s  \n",
            "\n",
            "2020-09-22 10:05:49 (124 MB/s) - ‘data.zip’ saved [687986/687986]\n",
            "\n",
            "Archive:  data.zip\n",
            "  inflating: data/random_split/dev.csv  \n",
            "  inflating: data/random_split/test.csv  \n",
            "  inflating: data/random_split/train.csv  \n",
            "  inflating: data/subject_split/dev.csv  \n",
            "  inflating: data/subject_split/test.csv  \n",
            "  inflating: data/subject_split/train.csv  \n"
          ],
          "name": "stdout"
        }
      ]
    },
    {
      "cell_type": "code",
      "metadata": {
        "id": "Lj6mY71Xr3s0"
      },
      "source": [
        ""
      ],
      "execution_count": null,
      "outputs": []
    },
    {
      "cell_type": "code",
      "metadata": {
        "id": "Gv078AAJeF9x"
      },
      "source": [
        "#import the libraries\n",
        "import pandas as pd\n",
        "import numpy as np\n",
        "from sklearn.linear_model import LinearRegression\n",
        "import matplotlib.pyplot as plt\n",
        "#this code sets the font size globaly for matplotlib\n",
        "plt.rcParams.update({'font.size': 18})\n"
      ],
      "execution_count": null,
      "outputs": []
    },
    {
      "cell_type": "code",
      "metadata": {
        "id": "HK2uOVtnc6CJ"
      },
      "source": [
        "#load training data\n",
        "training=pd.read_csv(\"./data/subject_split/train.csv\")\n",
        "#training"
      ],
      "execution_count": null,
      "outputs": []
    },
    {
      "cell_type": "code",
      "metadata": {
        "id": "o-8_VGyCdQuq",
        "outputId": "844a989a-e45e-423d-decb-0fdef484d20e",
        "colab": {
          "base_uri": "https://localhost:8080/",
          "height": 35
        }
      },
      "source": [
        "#label training data\n",
        "total_training_target=training['total_UPDRS']\n",
        "motor_training_target=training['motor_UPDRS']\n",
        "total_training_target.mean()"
      ],
      "execution_count": null,
      "outputs": [
        {
          "output_type": "execute_result",
          "data": {
            "text/plain": [
              "32.76167450980395"
            ]
          },
          "metadata": {
            "tags": []
          },
          "execution_count": 135
        }
      ]
    },
    {
      "cell_type": "code",
      "metadata": {
        "id": "KB4x5uSuOJEm"
      },
      "source": [
        "total_training_target=total_training_target.to_numpy()\n",
        "motor_training_target=motor_training_target.to_numpy()"
      ],
      "execution_count": null,
      "outputs": []
    },
    {
      "cell_type": "code",
      "metadata": {
        "id": "JVSma2-sQiBX"
      },
      "source": [
        "m1=total_training_target.mean()\n",
        "m2=motor_tuning_target.mean()"
      ],
      "execution_count": null,
      "outputs": []
    },
    {
      "cell_type": "code",
      "metadata": {
        "id": "-rJ4aBoSQJ5n"
      },
      "source": [
        "totalandmortor=total_training_target+motor_training_target"
      ],
      "execution_count": null,
      "outputs": []
    },
    {
      "cell_type": "code",
      "metadata": {
        "id": "hPCpogEfHFaO"
      },
      "source": [
        "y=[]\n",
        "for a in totalandmortor:\n",
        "  if a>(m1+m2): y.append(1)\n",
        "  else: y.append(-1)"
      ],
      "execution_count": null,
      "outputs": []
    },
    {
      "cell_type": "code",
      "metadata": {
        "id": "x4fKVQx4ANcd"
      },
      "source": [
        "\n"
      ],
      "execution_count": null,
      "outputs": []
    },
    {
      "cell_type": "code",
      "metadata": {
        "id": "0tdula6x2zH0"
      },
      "source": [
        "linear_example=pd.DataFrame()\n",
        "linear_example[\"x1\"]=total_training_target\n",
        "linear_example[\"x2\"]=motor_training_target\n",
        "linear_example[\"y\"]=y"
      ],
      "execution_count": null,
      "outputs": []
    },
    {
      "cell_type": "code",
      "metadata": {
        "id": "cRhrbOg4Lz6e",
        "outputId": "a5513f9a-4704-4c1a-f355-fe7b225bb2f6",
        "colab": {
          "base_uri": "https://localhost:8080/",
          "height": 87
        }
      },
      "source": [
        "linear_example.count()"
      ],
      "execution_count": null,
      "outputs": [
        {
          "output_type": "execute_result",
          "data": {
            "text/plain": [
              "x1    2805\n",
              "x2    2805\n",
              "y     2805\n",
              "dtype: int64"
            ]
          },
          "metadata": {
            "tags": []
          },
          "execution_count": 141
        }
      ]
    },
    {
      "cell_type": "code",
      "metadata": {
        "id": "vmUktwFs07pF",
        "outputId": "b94fcb0d-d3df-449f-d5ab-4b6f972b90ef",
        "colab": {
          "base_uri": "https://localhost:8080/",
          "height": 513
        }
      },
      "source": [
        "fig, (ax1) = plt.subplots(1, figsize=(8, 8))\n",
        "ax1.set_xlabel('x1')\n",
        "ax1.set_ylabel('x2')\n",
        "ax1.grid(True)\n",
        "ax1.scatter(    linear_example[linear_example[\"y\"]==1][\"x1\"], \n",
        "                linear_example[linear_example[\"y\"]==1][\"x2\"], \n",
        "                s=100,\n",
        "                c = \"green\", \n",
        "                marker = \"+\")\n",
        "ax1.scatter(    linear_example[linear_example[\"y\"]==-1][\"x1\"], \n",
        "                linear_example[linear_example[\"y\"]==-1][\"x2\"], \n",
        "                s=100,\n",
        "                c = \"orange\", \n",
        "                marker = \"_\")\n",
        "plt.show()"
      ],
      "execution_count": null,
      "outputs": [
        {
          "output_type": "display_data",
          "data": {
            "image/png": "[encoded data removed]",
            "text/plain": [
              "<Figure size 576x576 with 1 Axes>"
            ]
          },
          "metadata": {
            "tags": [],
            "needs_background": "light"
          }
        }
      ]
    },
    {
      "cell_type": "markdown",
      "metadata": {
        "id": "Wor6OtfHCYPJ"
      },
      "source": [
        ""
      ]
    }
  ]
}