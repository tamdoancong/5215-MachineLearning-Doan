{
  "nbformat": 4,
  "nbformat_minor": 0,
  "metadata": {
    "colab": {
      "name": "TamDoan_Perceptron.ipynb",
      "provenance": [],
      "authorship_tag": "ABX9TyPDTJyGOGz8jqbpdF8VpO/k",
      "include_colab_link": true
    },
    "kernelspec": {
      "name": "python3",
      "display_name": "Python 3"
    }
  },
  "cells": [
    {
      "cell_type": "markdown",
      "metadata": {
        "id": "view-in-github",
        "colab_type": "text"
      },
      "source": [
        "<a href=\"https://colab.research.google.com/github/tamdoancong/5215-MachineLearning-Doan/blob/master/TamDoan_Perceptron.ipynb\" target=\"_parent\"><img src=\"https://colab.research.google.com/assets/colab-badge.svg\" alt=\"Open In Colab\"/></a>"
      ]
    },
    {
      "cell_type": "code",
      "metadata": {
        "id": "izZuXrx0HXVo",
        "outputId": "8c38c373-34f8-4d12-8954-45d446f24097",
        "colab": {
          "base_uri": "https://localhost:8080/",
          "height": 357
        }
      },
      "source": [
        "import numpy as np\n",
        "import random\n",
        "import pandas as pd\n",
        "import matplotlib.pyplot as plt\n",
        "#this code sets the font size globaly for matplotlib\n",
        "plt.rcParams.update({'font.size': 18})\n",
        "\n",
        "linear_example=pd.DataFrame()\n",
        "linear_example[\"x1\"]=[0.5,0.4,0.4,0.6,0.6,1.5,1.4,1.4,1.6,1.6]\n",
        "linear_example[\"x2\"]=[0.5,0.4,0.6,0.4,0.6,1.5,1.4,1.6,1.4,1.6]\n",
        "linear_example[\"y\"]=[1,1,1,1,1,-1,-1,-1,-1,-1]\n",
        "linear_example\n",
        "\n",
        "\n"
      ],
      "execution_count": 876,
      "outputs": [
        {
          "output_type": "execute_result",
          "data": {
            "text/html": [
              "<div>\n",
              "<style scoped>\n",
              "    .dataframe tbody tr th:only-of-type {\n",
              "        vertical-align: middle;\n",
              "    }\n",
              "\n",
              "    .dataframe tbody tr th {\n",
              "        vertical-align: top;\n",
              "    }\n",
              "\n",
              "    .dataframe thead th {\n",
              "        text-align: right;\n",
              "    }\n",
              "</style>\n",
              "<table border=\"1\" class=\"dataframe\">\n",
              "  <thead>\n",
              "    <tr style=\"text-align: right;\">\n",
              "      <th></th>\n",
              "      <th>x1</th>\n",
              "      <th>x2</th>\n",
              "      <th>y</th>\n",
              "    </tr>\n",
              "  </thead>\n",
              "  <tbody>\n",
              "    <tr>\n",
              "      <th>0</th>\n",
              "      <td>0.5</td>\n",
              "      <td>0.5</td>\n",
              "      <td>1</td>\n",
              "    </tr>\n",
              "    <tr>\n",
              "      <th>1</th>\n",
              "      <td>0.4</td>\n",
              "      <td>0.4</td>\n",
              "      <td>1</td>\n",
              "    </tr>\n",
              "    <tr>\n",
              "      <th>2</th>\n",
              "      <td>0.4</td>\n",
              "      <td>0.6</td>\n",
              "      <td>1</td>\n",
              "    </tr>\n",
              "    <tr>\n",
              "      <th>3</th>\n",
              "      <td>0.6</td>\n",
              "      <td>0.4</td>\n",
              "      <td>1</td>\n",
              "    </tr>\n",
              "    <tr>\n",
              "      <th>4</th>\n",
              "      <td>0.6</td>\n",
              "      <td>0.6</td>\n",
              "      <td>1</td>\n",
              "    </tr>\n",
              "    <tr>\n",
              "      <th>5</th>\n",
              "      <td>1.5</td>\n",
              "      <td>1.5</td>\n",
              "      <td>-1</td>\n",
              "    </tr>\n",
              "    <tr>\n",
              "      <th>6</th>\n",
              "      <td>1.4</td>\n",
              "      <td>1.4</td>\n",
              "      <td>-1</td>\n",
              "    </tr>\n",
              "    <tr>\n",
              "      <th>7</th>\n",
              "      <td>1.4</td>\n",
              "      <td>1.6</td>\n",
              "      <td>-1</td>\n",
              "    </tr>\n",
              "    <tr>\n",
              "      <th>8</th>\n",
              "      <td>1.6</td>\n",
              "      <td>1.4</td>\n",
              "      <td>-1</td>\n",
              "    </tr>\n",
              "    <tr>\n",
              "      <th>9</th>\n",
              "      <td>1.6</td>\n",
              "      <td>1.6</td>\n",
              "      <td>-1</td>\n",
              "    </tr>\n",
              "  </tbody>\n",
              "</table>\n",
              "</div>"
            ],
            "text/plain": [
              "    x1   x2  y\n",
              "0  0.5  0.5  1\n",
              "1  0.4  0.4  1\n",
              "2  0.4  0.6  1\n",
              "3  0.6  0.4  1\n",
              "4  0.6  0.6  1\n",
              "5  1.5  1.5 -1\n",
              "6  1.4  1.4 -1\n",
              "7  1.4  1.6 -1\n",
              "8  1.6  1.4 -1\n",
              "9  1.6  1.6 -1"
            ]
          },
          "metadata": {
            "tags": []
          },
          "execution_count": 876
        }
      ]
    },
    {
      "cell_type": "code",
      "metadata": {
        "id": "OMj8nQKsXXVR",
        "outputId": "cf811029-0a7f-4dee-c300-56b265b07f97",
        "colab": {
          "base_uri": "https://localhost:8080/",
          "height": 357
        }
      },
      "source": [
        "linear_example[\"x0\"]=1\n",
        "linear_example[['x0','x1','x2','y']]"
      ],
      "execution_count": 877,
      "outputs": [
        {
          "output_type": "execute_result",
          "data": {
            "text/html": [
              "<div>\n",
              "<style scoped>\n",
              "    .dataframe tbody tr th:only-of-type {\n",
              "        vertical-align: middle;\n",
              "    }\n",
              "\n",
              "    .dataframe tbody tr th {\n",
              "        vertical-align: top;\n",
              "    }\n",
              "\n",
              "    .dataframe thead th {\n",
              "        text-align: right;\n",
              "    }\n",
              "</style>\n",
              "<table border=\"1\" class=\"dataframe\">\n",
              "  <thead>\n",
              "    <tr style=\"text-align: right;\">\n",
              "      <th></th>\n",
              "      <th>x0</th>\n",
              "      <th>x1</th>\n",
              "      <th>x2</th>\n",
              "      <th>y</th>\n",
              "    </tr>\n",
              "  </thead>\n",
              "  <tbody>\n",
              "    <tr>\n",
              "      <th>0</th>\n",
              "      <td>1</td>\n",
              "      <td>0.5</td>\n",
              "      <td>0.5</td>\n",
              "      <td>1</td>\n",
              "    </tr>\n",
              "    <tr>\n",
              "      <th>1</th>\n",
              "      <td>1</td>\n",
              "      <td>0.4</td>\n",
              "      <td>0.4</td>\n",
              "      <td>1</td>\n",
              "    </tr>\n",
              "    <tr>\n",
              "      <th>2</th>\n",
              "      <td>1</td>\n",
              "      <td>0.4</td>\n",
              "      <td>0.6</td>\n",
              "      <td>1</td>\n",
              "    </tr>\n",
              "    <tr>\n",
              "      <th>3</th>\n",
              "      <td>1</td>\n",
              "      <td>0.6</td>\n",
              "      <td>0.4</td>\n",
              "      <td>1</td>\n",
              "    </tr>\n",
              "    <tr>\n",
              "      <th>4</th>\n",
              "      <td>1</td>\n",
              "      <td>0.6</td>\n",
              "      <td>0.6</td>\n",
              "      <td>1</td>\n",
              "    </tr>\n",
              "    <tr>\n",
              "      <th>5</th>\n",
              "      <td>1</td>\n",
              "      <td>1.5</td>\n",
              "      <td>1.5</td>\n",
              "      <td>-1</td>\n",
              "    </tr>\n",
              "    <tr>\n",
              "      <th>6</th>\n",
              "      <td>1</td>\n",
              "      <td>1.4</td>\n",
              "      <td>1.4</td>\n",
              "      <td>-1</td>\n",
              "    </tr>\n",
              "    <tr>\n",
              "      <th>7</th>\n",
              "      <td>1</td>\n",
              "      <td>1.4</td>\n",
              "      <td>1.6</td>\n",
              "      <td>-1</td>\n",
              "    </tr>\n",
              "    <tr>\n",
              "      <th>8</th>\n",
              "      <td>1</td>\n",
              "      <td>1.6</td>\n",
              "      <td>1.4</td>\n",
              "      <td>-1</td>\n",
              "    </tr>\n",
              "    <tr>\n",
              "      <th>9</th>\n",
              "      <td>1</td>\n",
              "      <td>1.6</td>\n",
              "      <td>1.6</td>\n",
              "      <td>-1</td>\n",
              "    </tr>\n",
              "  </tbody>\n",
              "</table>\n",
              "</div>"
            ],
            "text/plain": [
              "   x0   x1   x2  y\n",
              "0   1  0.5  0.5  1\n",
              "1   1  0.4  0.4  1\n",
              "2   1  0.4  0.6  1\n",
              "3   1  0.6  0.4  1\n",
              "4   1  0.6  0.6  1\n",
              "5   1  1.5  1.5 -1\n",
              "6   1  1.4  1.4 -1\n",
              "7   1  1.4  1.6 -1\n",
              "8   1  1.6  1.4 -1\n",
              "9   1  1.6  1.6 -1"
            ]
          },
          "metadata": {
            "tags": []
          },
          "execution_count": 877
        }
      ]
    },
    {
      "cell_type": "code",
      "metadata": {
        "id": "LlZXTnXkXvRS"
      },
      "source": [
        ""
      ],
      "execution_count": 877,
      "outputs": []
    },
    {
      "cell_type": "code",
      "metadata": {
        "id": "u_fZUz4vVdWY",
        "outputId": "734bfa74-fb76-46bf-c2c2-c9612ea56a62",
        "colab": {
          "base_uri": "https://localhost:8080/",
          "height": 35
        }
      },
      "source": [
        "len(linear_example. columns) \n"
      ],
      "execution_count": 878,
      "outputs": [
        {
          "output_type": "execute_result",
          "data": {
            "text/plain": [
              "4"
            ]
          },
          "metadata": {
            "tags": []
          },
          "execution_count": 878
        }
      ]
    },
    {
      "cell_type": "code",
      "metadata": {
        "id": "SWleH-ASWYAp",
        "outputId": "f82458f1-4385-4e01-fa3b-32eaf537c260",
        "colab": {
          "base_uri": "https://localhost:8080/",
          "height": 35
        }
      },
      "source": [
        "# Weight initialization, normally choose close to 0\n",
        "w=[]\n",
        "for i in range(0,len(linear_example. columns)-1 ):\n",
        "  w.append(random.random())\n",
        "w"
      ],
      "execution_count": 879,
      "outputs": [
        {
          "output_type": "execute_result",
          "data": {
            "text/plain": [
              "[0.21277380559218395, 0.5380408430565278, 0.6299682802652835]"
            ]
          },
          "metadata": {
            "tags": []
          },
          "execution_count": 879
        }
      ]
    },
    {
      "cell_type": "code",
      "metadata": {
        "id": "vy7ngNaKqZwQ"
      },
      "source": [
        ""
      ],
      "execution_count": 879,
      "outputs": []
    },
    {
      "cell_type": "code",
      "metadata": {
        "id": "nc0aE1bJX4AH"
      },
      "source": [
        "def Fx2(x1):\n",
        "  w_0 = w[0]\n",
        "  w_1 = w[1]\n",
        "  w_2 = w[2]\n",
        "  x2=(-w[0]-w[1]*x1)/w[2]\n",
        "  return  x2"
      ],
      "execution_count": 880,
      "outputs": []
    },
    {
      "cell_type": "code",
      "metadata": {
        "id": "ABY-SA0IZbWS"
      },
      "source": [
        "x1=linear_example['x1']"
      ],
      "execution_count": 881,
      "outputs": []
    },
    {
      "cell_type": "code",
      "metadata": {
        "id": "Gis2Q_0XY_ys",
        "outputId": "d2e75d1a-ff88-47e3-f74c-6cb4d78d18ea",
        "colab": {
          "base_uri": "https://localhost:8080/",
          "height": 211
        }
      },
      "source": [
        "Fx2(x1)"
      ],
      "execution_count": 882,
      "outputs": [
        {
          "output_type": "execute_result",
          "data": {
            "text/plain": [
              "0   -0.764791\n",
              "1   -0.679384\n",
              "2   -0.679384\n",
              "3   -0.850199\n",
              "4   -0.850199\n",
              "5   -1.618867\n",
              "6   -1.533460\n",
              "7   -1.533460\n",
              "8   -1.704275\n",
              "9   -1.704275\n",
              "Name: x1, dtype: float64"
            ]
          },
          "metadata": {
            "tags": []
          },
          "execution_count": 882
        }
      ]
    },
    {
      "cell_type": "code",
      "metadata": {
        "id": "0AEXKSflZ-lJ"
      },
      "source": [
        ""
      ],
      "execution_count": 882,
      "outputs": []
    },
    {
      "cell_type": "code",
      "metadata": {
        "id": "whfSna_YYwXO"
      },
      "source": [
        "def draw(linear_example):\n",
        "  fig, (ax1) = plt.subplots(1, figsize=(4, 10))\n",
        "  ax1.scatter(    linear_example[linear_example[\"y\"]==1]['x1'], \n",
        "                  linear_example[linear_example[\"y\"]==1][\"x2\"], \n",
        "                  s=100,\n",
        "                  c = \"green\", \n",
        "                  marker = \"+\")\n",
        "  ax1.scatter(    linear_example[linear_example[\"y\"]==-1][\"x1\"], \n",
        "                  linear_example[linear_example[\"y\"]==-1][\"x2\"], \n",
        "                  s=100,\n",
        "                  c = \"orange\", \n",
        "                  marker = \"_\")\n",
        "  ax1.set_xlim(0,2)\n",
        "  ax1.set_ylim(-4,4)\n",
        "  ax1.set_xlabel('x1')\n",
        "  ax1.set_ylabel('x2')\n",
        "  ax1.grid(True)\n",
        "  x1 = np.linspace(0, 2, 1000)\n",
        "  ax1.plot(x1, Fx2(x1));\n",
        "  plt.show()"
      ],
      "execution_count": 883,
      "outputs": []
    },
    {
      "cell_type": "code",
      "metadata": {
        "id": "CAtf6EC8iKIW",
        "outputId": "206c66e6-6188-46ed-d840-7f8a782901f9",
        "colab": {
          "base_uri": "https://localhost:8080/",
          "height": 629
        }
      },
      "source": [
        "draw(linear_example)"
      ],
      "execution_count": 884,
      "outputs": [
        {
          "output_type": "display_data",
          "data": {
            "image/png": "[encoded data removed]",
            "text/plain": [
              "<Figure size 288x720 with 1 Axes>"
            ]
          },
          "metadata": {
            "tags": [],
            "needs_background": "light"
          }
        }
      ]
    },
    {
      "cell_type": "code",
      "metadata": {
        "id": "0LGRd53nb3lZ"
      },
      "source": [
        "def update_w( w,learning_rate,num):\n",
        "  y=linear_example['y'].to_numpy()\n",
        "  y_predict=np.sign(np.dot(linear_example[[\"x0\",\"x1\",\"x2\"]].to_numpy(),w))\n",
        "  X=linear_example[[\"x0\",\"x1\",\"x2\"]].to_numpy()\n",
        "  error=y-y_predict\n",
        "  \n",
        "  \n",
        "  for i in range(num):\n",
        "    if error.sum()!=0:\n",
        "      w+=np.dot(learning_rate*error,X)\n",
        "      y_predict=np.sign(np.dot(linear_example[[\"x0\",\"x1\",\"x2\"]].to_numpy(),w))\n",
        "      error=y-y_predict\n",
        "      print(error.sum())\n",
        "  return w\n",
        "      \n",
        "  \n",
        "      \n",
        "  \n",
        "  \n",
        "\n",
        "  \n",
        "\n"
      ],
      "execution_count": 885,
      "outputs": []
    },
    {
      "cell_type": "code",
      "metadata": {
        "id": "hk8EQhaNcRTs",
        "outputId": "599c64ef-8955-4b77-95a6-016b37966aaa",
        "colab": {
          "base_uri": "https://localhost:8080/",
          "height": 123
        }
      },
      "source": [
        "update_w(w,.01,100)"
      ],
      "execution_count": 886,
      "outputs": [
        {
          "output_type": "stream",
          "text": [
            "-10.0\n",
            "-10.0\n",
            "-10.0\n",
            "10.0\n",
            "0.0\n"
          ],
          "name": "stdout"
        },
        {
          "output_type": "execute_result",
          "data": {
            "text/plain": [
              "array([-0.08722619, -0.01195916,  0.07996828])"
            ]
          },
          "metadata": {
            "tags": []
          },
          "execution_count": 886
        }
      ]
    },
    {
      "cell_type": "code",
      "metadata": {
        "id": "sQZTGV2h15aA",
        "outputId": "da528ee7-4e35-4927-93a3-f63f202756b9",
        "colab": {
          "base_uri": "https://localhost:8080/",
          "height": 123
        }
      },
      "source": [
        "w=update_w(w,.01,100)\n",
        "w"
      ],
      "execution_count": 887,
      "outputs": [
        {
          "output_type": "stream",
          "text": [
            "-10.0\n",
            "-10.0\n",
            "-10.0\n",
            "10.0\n",
            "0.0\n"
          ],
          "name": "stdout"
        },
        {
          "output_type": "execute_result",
          "data": {
            "text/plain": [
              "array([-0.08722619, -0.01195916,  0.07996828])"
            ]
          },
          "metadata": {
            "tags": []
          },
          "execution_count": 887
        }
      ]
    },
    {
      "cell_type": "code",
      "metadata": {
        "id": "6SN1Rxmu2O3s"
      },
      "source": [
        ""
      ],
      "execution_count": 887,
      "outputs": []
    },
    {
      "cell_type": "code",
      "metadata": {
        "id": "SO43Yd4aolAP",
        "outputId": "6f1b4fd6-839a-4cdf-d427-7a7bf200fe3e",
        "colab": {
          "base_uri": "https://localhost:8080/",
          "height": 211
        }
      },
      "source": [
        "Fx2(x1)"
      ],
      "execution_count": 888,
      "outputs": [
        {
          "output_type": "execute_result",
          "data": {
            "text/plain": [
              "0    1.165534\n",
              "1    1.150579\n",
              "2    1.150579\n",
              "3    1.180489\n",
              "4    1.180489\n",
              "5    1.315083\n",
              "6    1.300128\n",
              "7    1.300128\n",
              "8    1.330038\n",
              "9    1.330038\n",
              "Name: x1, dtype: float64"
            ]
          },
          "metadata": {
            "tags": []
          },
          "execution_count": 888
        }
      ]
    },
    {
      "cell_type": "code",
      "metadata": {
        "id": "yOTATn0-oUSC",
        "outputId": "c353540f-0943-4bbb-a779-093575cbff59",
        "colab": {
          "base_uri": "https://localhost:8080/",
          "height": 629
        }
      },
      "source": [
        "draw(linear_example)"
      ],
      "execution_count": 889,
      "outputs": [
        {
          "output_type": "display_data",
          "data": {
            "image/png": "[encoded data removed]",
            "text/plain": [
              "<Figure size 288x720 with 1 Axes>"
            ]
          },
          "metadata": {
            "tags": [],
            "needs_background": "light"
          }
        }
      ]
    }
  ]
}