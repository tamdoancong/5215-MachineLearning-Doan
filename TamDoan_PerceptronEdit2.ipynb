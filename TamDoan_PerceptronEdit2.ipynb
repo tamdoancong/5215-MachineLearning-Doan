{
  "nbformat": 4,
  "nbformat_minor": 0,
  "metadata": {
    "colab": {
      "name": "TamDoan_PerceptronEdit2.ipynb",
      "provenance": [],
      "collapsed_sections": [],
      "authorship_tag": "ABX9TyNt04E15lTEjr24F+8qOf62",
      "include_colab_link": true
    },
    "kernelspec": {
      "name": "python3",
      "display_name": "Python 3"
    }
  },
  "cells": [
    {
      "cell_type": "markdown",
      "metadata": {
        "id": "view-in-github",
        "colab_type": "text"
      },
      "source": [
        "<a href=\"https://colab.research.google.com/github/tamdoancong/5215-MachineLearning-Doan/blob/master/TamDoan_PerceptronEdit2.ipynb\" target=\"_parent\"><img src=\"https://colab.research.google.com/assets/colab-badge.svg\" alt=\"Open In Colab\"/></a>"
      ]
    },
    {
      "cell_type": "code",
      "metadata": {
        "id": "izZuXrx0HXVo"
      },
      "source": [
        "import numpy as np\n",
        "import random\n",
        "import pandas as pd\n",
        "import matplotlib.pyplot as plt\n",
        "#this code sets the font size globaly for matplotlib\n",
        "plt.rcParams.update({'font.size': 18})"
      ],
      "execution_count": 122,
      "outputs": []
    },
    {
      "cell_type": "markdown",
      "metadata": {
        "id": "EXqdyakQCnQg"
      },
      "source": [
        "## Data initialization"
      ]
    },
    {
      "cell_type": "code",
      "metadata": {
        "id": "OMj8nQKsXXVR",
        "outputId": "3abec399-9a3f-4fb9-8b77-5c1321ba4f93",
        "colab": {
          "base_uri": "https://localhost:8080/",
          "height": 357
        }
      },
      "source": [
        "data=pd.DataFrame()\n",
        "data[\"x1\"]=[0.5,0.4,0.4,0.6,0.6,1.5,1.4,1.4,1.6,1.6]\n",
        "data[\"x2\"]=[0.5,0.4,0.6,0.4,0.6,1.5,1.4,1.6,1.4,1.6]\n",
        "data[\"y\"]=[1,1,1,1,1,-1,-1,-1,-1,-1]\n",
        "data[\"x0\"]=1\n",
        "data[['x0','x1','x2','y']]\n",
        "data"
      ],
      "execution_count": 123,
      "outputs": [
        {
          "output_type": "execute_result",
          "data": {
            "text/html": [
              "<div>\n",
              "<style scoped>\n",
              "    .dataframe tbody tr th:only-of-type {\n",
              "        vertical-align: middle;\n",
              "    }\n",
              "\n",
              "    .dataframe tbody tr th {\n",
              "        vertical-align: top;\n",
              "    }\n",
              "\n",
              "    .dataframe thead th {\n",
              "        text-align: right;\n",
              "    }\n",
              "</style>\n",
              "<table border=\"1\" class=\"dataframe\">\n",
              "  <thead>\n",
              "    <tr style=\"text-align: right;\">\n",
              "      <th></th>\n",
              "      <th>x1</th>\n",
              "      <th>x2</th>\n",
              "      <th>y</th>\n",
              "      <th>x0</th>\n",
              "    </tr>\n",
              "  </thead>\n",
              "  <tbody>\n",
              "    <tr>\n",
              "      <th>0</th>\n",
              "      <td>0.5</td>\n",
              "      <td>0.5</td>\n",
              "      <td>1</td>\n",
              "      <td>1</td>\n",
              "    </tr>\n",
              "    <tr>\n",
              "      <th>1</th>\n",
              "      <td>0.4</td>\n",
              "      <td>0.4</td>\n",
              "      <td>1</td>\n",
              "      <td>1</td>\n",
              "    </tr>\n",
              "    <tr>\n",
              "      <th>2</th>\n",
              "      <td>0.4</td>\n",
              "      <td>0.6</td>\n",
              "      <td>1</td>\n",
              "      <td>1</td>\n",
              "    </tr>\n",
              "    <tr>\n",
              "      <th>3</th>\n",
              "      <td>0.6</td>\n",
              "      <td>0.4</td>\n",
              "      <td>1</td>\n",
              "      <td>1</td>\n",
              "    </tr>\n",
              "    <tr>\n",
              "      <th>4</th>\n",
              "      <td>0.6</td>\n",
              "      <td>0.6</td>\n",
              "      <td>1</td>\n",
              "      <td>1</td>\n",
              "    </tr>\n",
              "    <tr>\n",
              "      <th>5</th>\n",
              "      <td>1.5</td>\n",
              "      <td>1.5</td>\n",
              "      <td>-1</td>\n",
              "      <td>1</td>\n",
              "    </tr>\n",
              "    <tr>\n",
              "      <th>6</th>\n",
              "      <td>1.4</td>\n",
              "      <td>1.4</td>\n",
              "      <td>-1</td>\n",
              "      <td>1</td>\n",
              "    </tr>\n",
              "    <tr>\n",
              "      <th>7</th>\n",
              "      <td>1.4</td>\n",
              "      <td>1.6</td>\n",
              "      <td>-1</td>\n",
              "      <td>1</td>\n",
              "    </tr>\n",
              "    <tr>\n",
              "      <th>8</th>\n",
              "      <td>1.6</td>\n",
              "      <td>1.4</td>\n",
              "      <td>-1</td>\n",
              "      <td>1</td>\n",
              "    </tr>\n",
              "    <tr>\n",
              "      <th>9</th>\n",
              "      <td>1.6</td>\n",
              "      <td>1.6</td>\n",
              "      <td>-1</td>\n",
              "      <td>1</td>\n",
              "    </tr>\n",
              "  </tbody>\n",
              "</table>\n",
              "</div>"
            ],
            "text/plain": [
              "    x1   x2  y  x0\n",
              "0  0.5  0.5  1   1\n",
              "1  0.4  0.4  1   1\n",
              "2  0.4  0.6  1   1\n",
              "3  0.6  0.4  1   1\n",
              "4  0.6  0.6  1   1\n",
              "5  1.5  1.5 -1   1\n",
              "6  1.4  1.4 -1   1\n",
              "7  1.4  1.6 -1   1\n",
              "8  1.6  1.4 -1   1\n",
              "9  1.6  1.6 -1   1"
            ]
          },
          "metadata": {
            "tags": []
          },
          "execution_count": 123
        }
      ]
    },
    {
      "cell_type": "markdown",
      "metadata": {
        "id": "OzkZNOm0C0ot"
      },
      "source": [
        "##weight initializatio"
      ]
    },
    {
      "cell_type": "code",
      "metadata": {
        "id": "u_fZUz4vVdWY",
        "outputId": "78600541-0a86-4573-b59a-df8b33389de4",
        "colab": {
          "base_uri": "https://localhost:8080/",
          "height": 35
        }
      },
      "source": [
        "len(data. columns) \n"
      ],
      "execution_count": 124,
      "outputs": [
        {
          "output_type": "execute_result",
          "data": {
            "text/plain": [
              "4"
            ]
          },
          "metadata": {
            "tags": []
          },
          "execution_count": 124
        }
      ]
    },
    {
      "cell_type": "code",
      "metadata": {
        "id": "SWleH-ASWYAp",
        "outputId": "ac0a074a-09df-467d-e558-3745712ec01d",
        "colab": {
          "base_uri": "https://localhost:8080/",
          "height": 35
        }
      },
      "source": [
        "# Weight initialization, normally choose close to 0\n",
        "w=[]\n",
        "for i in range(0,len(data. columns)-1 ):\n",
        "  w.append(random.random())\n",
        "w"
      ],
      "execution_count": 125,
      "outputs": [
        {
          "output_type": "execute_result",
          "data": {
            "text/plain": [
              "[0.7781398137929841, 0.12100495787170396, 0.3649315699894137]"
            ]
          },
          "metadata": {
            "tags": []
          },
          "execution_count": 125
        }
      ]
    },
    {
      "cell_type": "markdown",
      "metadata": {
        "id": "0rzRn13-CDEZ"
      },
      "source": [
        "# Draw the decision boundary"
      ]
    },
    {
      "cell_type": "code",
      "metadata": {
        "id": "nc0aE1bJX4AH"
      },
      "source": [
        "def Fx2(x1):\n",
        "  x2=(-w[0]-w[1]*x1)/w[2]\n",
        "  return  x2"
      ],
      "execution_count": 126,
      "outputs": []
    },
    {
      "cell_type": "code",
      "metadata": {
        "id": "ABY-SA0IZbWS"
      },
      "source": [
        "x1=data['x1']"
      ],
      "execution_count": 127,
      "outputs": []
    },
    {
      "cell_type": "code",
      "metadata": {
        "id": "Gis2Q_0XY_ys",
        "outputId": "72d61a4f-b088-4569-d00c-21264ba81564",
        "colab": {
          "base_uri": "https://localhost:8080/",
          "height": 211
        }
      },
      "source": [
        "Fx2(x1)"
      ],
      "execution_count": 128,
      "outputs": [
        {
          "output_type": "execute_result",
          "data": {
            "text/plain": [
              "0   -2.298081\n",
              "1   -2.264923\n",
              "2   -2.264923\n",
              "3   -2.331239\n",
              "4   -2.331239\n",
              "5   -2.629664\n",
              "6   -2.596505\n",
              "7   -2.596505\n",
              "8   -2.662822\n",
              "9   -2.662822\n",
              "Name: x1, dtype: float64"
            ]
          },
          "metadata": {
            "tags": []
          },
          "execution_count": 128
        }
      ]
    },
    {
      "cell_type": "markdown",
      "metadata": {
        "id": "pS_HoEOiDKby"
      },
      "source": [
        "##draw the plot"
      ]
    },
    {
      "cell_type": "code",
      "metadata": {
        "id": "whfSna_YYwXO"
      },
      "source": [
        "def draw(data):\n",
        "  fig, (ax1) = plt.subplots(1, figsize=(4, 10))\n",
        "  ax1.scatter(    data[data[\"y\"]==1]['x1'], \n",
        "                  data[data[\"y\"]==1][\"x2\"], \n",
        "                  s=100,\n",
        "                  c = \"green\", \n",
        "                  marker = \"+\")\n",
        "  ax1.scatter(    data[data[\"y\"]==-1][\"x1\"], \n",
        "                  data[data[\"y\"]==-1][\"x2\"], \n",
        "                  s=100,\n",
        "                  c = \"orange\", \n",
        "                  marker = \"_\")\n",
        "  ax1.set_xlim(0,2)\n",
        "  ax1.set_ylim(-4,4)\n",
        "  ax1.set_xlabel('x1')\n",
        "  ax1.set_ylabel('x2')\n",
        "  ax1.grid(True)\n",
        "  x1 = np.linspace(0, 2, 1000)\n",
        "  ax1.plot(x1, Fx2(x1));\n",
        "  plt.show()"
      ],
      "execution_count": 129,
      "outputs": []
    },
    {
      "cell_type": "code",
      "metadata": {
        "id": "CAtf6EC8iKIW",
        "outputId": "6ff1345b-6a1a-4bec-e059-1dfd0bce38d3",
        "colab": {
          "base_uri": "https://localhost:8080/",
          "height": 629
        }
      },
      "source": [
        "draw(data)"
      ],
      "execution_count": 130,
      "outputs": [
        {
          "output_type": "display_data",
          "data": {
            "image/png": "[encoded data removed]",
            "text/plain": [
              "<Figure size 288x720 with 1 Axes>"
            ]
          },
          "metadata": {
            "tags": [],
            "needs_background": "light"
          }
        }
      ]
    },
    {
      "cell_type": "markdown",
      "metadata": {
        "id": "WpUAPqAjJD3K"
      },
      "source": [
        "## Update Weight"
      ]
    },
    {
      "cell_type": "code",
      "metadata": {
        "id": "0LGRd53nb3lZ"
      },
      "source": [
        "#fuction update weight\n",
        "def update_w( w,learning_rate,num):\n",
        "  # get y from data frame \n",
        "  y=data['y'].to_numpy()\n",
        "  # put x0, x1,x2 in numpy array\n",
        "  X=data[[\"x0\",\"x1\",\"x2\"]].to_numpy()\n",
        "  # y_predict \n",
        "  y_predict=np.sign(np.dot(X,w))\n",
        "  \n",
        "  error=y-y_predict\n",
        "  \n",
        "  \n",
        "  for i in range(num):\n",
        "    if error.sum()!=0:\n",
        "      w+=np.dot(learning_rate*error,X)\n",
        "      y_predict=np.sign(np.dot(X,w))\n",
        "      error=y-y_predict\n",
        "      print(error.sum())\n",
        "  return w\n",
        "      \n",
        "  \n",
        "      \n",
        "  \n",
        "  \n",
        "\n",
        "  \n",
        "\n"
      ],
      "execution_count": 131,
      "outputs": []
    },
    {
      "cell_type": "code",
      "metadata": {
        "id": "hk8EQhaNcRTs",
        "outputId": "84329cfb-11ac-4975-8e9b-6a9b8ed171ce",
        "colab": {
          "base_uri": "https://localhost:8080/",
          "height": 87
        }
      },
      "source": [
        "#call update_w function\n",
        "update_w(w,.01,100)"
      ],
      "execution_count": 132,
      "outputs": [
        {
          "output_type": "stream",
          "text": [
            "-10.0\n",
            "-10.0\n",
            "0.0\n"
          ],
          "name": "stdout"
        },
        {
          "output_type": "execute_result",
          "data": {
            "text/plain": [
              "array([ 0.47813981, -0.32899504, -0.08506843])"
            ]
          },
          "metadata": {
            "tags": []
          },
          "execution_count": 132
        }
      ]
    },
    {
      "cell_type": "code",
      "metadata": {
        "id": "sQZTGV2h15aA",
        "outputId": "fc237f2b-0863-4a91-f4c1-0d18df86f899",
        "colab": {
          "base_uri": "https://localhost:8080/",
          "height": 87
        }
      },
      "source": [
        "#update w after call update_w function \n",
        "w=update_w(w,.01,100)\n",
        "w"
      ],
      "execution_count": 133,
      "outputs": [
        {
          "output_type": "stream",
          "text": [
            "-10.0\n",
            "-10.0\n",
            "0.0\n"
          ],
          "name": "stdout"
        },
        {
          "output_type": "execute_result",
          "data": {
            "text/plain": [
              "array([ 0.47813981, -0.32899504, -0.08506843])"
            ]
          },
          "metadata": {
            "tags": []
          },
          "execution_count": 133
        }
      ]
    },
    {
      "cell_type": "code",
      "metadata": {
        "id": "SO43Yd4aolAP",
        "outputId": "2a3dd19e-8719-4bf8-a3f6-fd1afee34a8d",
        "colab": {
          "base_uri": "https://localhost:8080/",
          "height": 211
        }
      },
      "source": [
        "# call Fx2 function with w update\n",
        "Fx2(x1)"
      ],
      "execution_count": 134,
      "outputs": [
        {
          "output_type": "execute_result",
          "data": {
            "text/plain": [
              "0    3.686941\n",
              "1    4.073683\n",
              "2    4.073683\n",
              "3    3.300199\n",
              "4    3.300199\n",
              "5   -0.180475\n",
              "6    0.206266\n",
              "7    0.206266\n",
              "8   -0.567217\n",
              "9   -0.567217\n",
              "Name: x1, dtype: float64"
            ]
          },
          "metadata": {
            "tags": []
          },
          "execution_count": 134
        }
      ]
    },
    {
      "cell_type": "code",
      "metadata": {
        "id": "yOTATn0-oUSC",
        "outputId": "09c80f54-9ae0-4edb-b672-b3cb8d890b94",
        "colab": {
          "base_uri": "https://localhost:8080/",
          "height": 629
        }
      },
      "source": [
        "#draw with update w \n",
        "draw(data)"
      ],
      "execution_count": 135,
      "outputs": [
        {
          "output_type": "display_data",
          "data": {
            "image/png": "[encoded data removed]",
            "text/plain": [
              "<Figure size 288x720 with 1 Axes>"
            ]
          },
          "metadata": {
            "tags": [],
            "needs_background": "light"
          }
        }
      ]
    }
  ]
}