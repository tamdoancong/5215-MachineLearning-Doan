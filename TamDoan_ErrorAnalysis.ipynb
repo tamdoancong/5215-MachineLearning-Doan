{
  "nbformat": 4,
  "nbformat_minor": 0,
  "metadata": {
    "colab": {
      "name": "TamDoan_ErrorAnalysis.ipynb",
      "provenance": [],
      "collapsed_sections": [],
      "authorship_tag": "ABX9TyO7PI0+DQ/2HeX0MKjASmi9",
      "include_colab_link": true
    },
    "kernelspec": {
      "name": "python3",
      "display_name": "Python 3"
    }
  },
  "cells": [
    {
      "cell_type": "markdown",
      "metadata": {
        "id": "view-in-github",
        "colab_type": "text"
      },
      "source": [
        "<a href=\"https://colab.research.google.com/github/tamdoancong/5215-MachineLearning-Doan/blob/master/TamDoan_ErrorAnalysis.ipynb\" target=\"_parent\"><img src=\"https://colab.research.google.com/assets/colab-badge.svg\" alt=\"Open In Colab\"/></a>"
      ]
    },
    {
      "cell_type": "code",
      "metadata": {
        "id": "JXtjPVbnnp3y",
        "outputId": "b54dcc81-1813-4264-b73d-e4029fb5685f",
        "colab": {
          "base_uri": "https://localhost:8080/",
          "height": 459
        }
      },
      "source": [
        "!wget -O data.zip https://drive.google.com/u/0/uc?id=1DEMhy3x7ws8Eyv0VGzJNFeYkuXhFDXhC&export=download\n",
        "!unzip -o data.zip "
      ],
      "execution_count": null,
      "outputs": [
        {
          "output_type": "stream",
          "text": [
            "--2020-09-25 07:30:42--  https://drive.google.com/u/0/uc?id=1DEMhy3x7ws8Eyv0VGzJNFeYkuXhFDXhC\n",
            "Resolving drive.google.com (drive.google.com)... 74.125.142.113, 74.125.142.102, 74.125.142.100, ...\n",
            "Connecting to drive.google.com (drive.google.com)|74.125.142.113|:443... connected.\n",
            "HTTP request sent, awaiting response... 302 Moved Temporarily\n",
            "Location: https://doc-00-4g-docs.googleusercontent.com/docs/securesc/ha0ro937gcuc7l7deffksulhg5h7mbp1/ghe32bvv8jo8016vlsmncudcht9e54kg/1601019000000/04063593624032689852/*/1DEMhy3x7ws8Eyv0VGzJNFeYkuXhFDXhC [following]\n",
            "Warning: wildcards not supported in HTTP.\n",
            "--2020-09-25 07:30:43--  https://doc-00-4g-docs.googleusercontent.com/docs/securesc/ha0ro937gcuc7l7deffksulhg5h7mbp1/ghe32bvv8jo8016vlsmncudcht9e54kg/1601019000000/04063593624032689852/*/1DEMhy3x7ws8Eyv0VGzJNFeYkuXhFDXhC\n",
            "Resolving doc-00-4g-docs.googleusercontent.com (doc-00-4g-docs.googleusercontent.com)... 74.125.28.132, 2607:f8b0:400e:c04::84\n",
            "Connecting to doc-00-4g-docs.googleusercontent.com (doc-00-4g-docs.googleusercontent.com)|74.125.28.132|:443... connected.\n",
            "HTTP request sent, awaiting response... 200 OK\n",
            "Length: 687986 (672K) [application/x-zip-compressed]\n",
            "Saving to: ‘data.zip’\n",
            "\n",
            "data.zip            100%[===================>] 671.86K  --.-KB/s    in 0.006s  \n",
            "\n",
            "2020-09-25 07:30:43 (116 MB/s) - ‘data.zip’ saved [687986/687986]\n",
            "\n",
            "Archive:  data.zip\n",
            "  inflating: data/random_split/dev.csv  \n",
            "  inflating: data/random_split/test.csv  \n",
            "  inflating: data/random_split/train.csv  \n",
            "  inflating: data/subject_split/dev.csv  \n",
            "  inflating: data/subject_split/test.csv  \n",
            "  inflating: data/subject_split/train.csv  \n"
          ],
          "name": "stdout"
        }
      ]
    },
    {
      "cell_type": "code",
      "metadata": {
        "id": "ebW4VdpQ2Ebi"
      },
      "source": [
        "import pandas as pd\n",
        "import numpy as np\n",
        "from sklearn.linear_model import LinearRegression"
      ],
      "execution_count": null,
      "outputs": []
    },
    {
      "cell_type": "markdown",
      "metadata": {
        "id": "V_UV5EVoYZOf"
      },
      "source": [
        "7/ Error Analysis"
      ]
    },
    {
      "cell_type": "code",
      "metadata": {
        "id": "vYfadpOC3JH9",
        "outputId": "3ad4581e-9e19-4b5d-8448-b027a6315023",
        "colab": {
          "base_uri": "https://localhost:8080/",
          "height": 437
        }
      },
      "source": [
        "training=pd.read_csv(\"./data/subject_split/train.csv\")\n",
        "training"
      ],
      "execution_count": null,
      "outputs": [
        {
          "output_type": "execute_result",
          "data": {
            "text/html": [
              "<div>\n",
              "<style scoped>\n",
              "    .dataframe tbody tr th:only-of-type {\n",
              "        vertical-align: middle;\n",
              "    }\n",
              "\n",
              "    .dataframe tbody tr th {\n",
              "        vertical-align: top;\n",
              "    }\n",
              "\n",
              "    .dataframe thead th {\n",
              "        text-align: right;\n",
              "    }\n",
              "</style>\n",
              "<table border=\"1\" class=\"dataframe\">\n",
              "  <thead>\n",
              "    <tr style=\"text-align: right;\">\n",
              "      <th></th>\n",
              "      <th>subject#</th>\n",
              "      <th>age</th>\n",
              "      <th>sex</th>\n",
              "      <th>test_time</th>\n",
              "      <th>motor_UPDRS</th>\n",
              "      <th>total_UPDRS</th>\n",
              "      <th>Jitter(%)</th>\n",
              "      <th>Jitter(Abs)</th>\n",
              "      <th>Jitter:RAP</th>\n",
              "      <th>Jitter:PPQ5</th>\n",
              "      <th>Jitter:DDP</th>\n",
              "      <th>Shimmer</th>\n",
              "      <th>Shimmer(dB)</th>\n",
              "      <th>Shimmer:APQ3</th>\n",
              "      <th>Shimmer:APQ5</th>\n",
              "      <th>Shimmer:APQ11</th>\n",
              "      <th>Shimmer:DDA</th>\n",
              "      <th>NHR</th>\n",
              "      <th>HNR</th>\n",
              "      <th>RPDE</th>\n",
              "      <th>DFA</th>\n",
              "      <th>PPE</th>\n",
              "    </tr>\n",
              "  </thead>\n",
              "  <tbody>\n",
              "    <tr>\n",
              "      <th>0</th>\n",
              "      <td>29</td>\n",
              "      <td>78</td>\n",
              "      <td>0</td>\n",
              "      <td>43.390</td>\n",
              "      <td>25.667</td>\n",
              "      <td>31.734</td>\n",
              "      <td>0.00348</td>\n",
              "      <td>0.000022</td>\n",
              "      <td>0.00152</td>\n",
              "      <td>0.00177</td>\n",
              "      <td>0.00457</td>\n",
              "      <td>0.03651</td>\n",
              "      <td>0.388</td>\n",
              "      <td>0.01632</td>\n",
              "      <td>0.02150</td>\n",
              "      <td>0.03624</td>\n",
              "      <td>0.04897</td>\n",
              "      <td>0.008005</td>\n",
              "      <td>24.885</td>\n",
              "      <td>0.38029</td>\n",
              "      <td>0.62114</td>\n",
              "      <td>0.18399</td>\n",
              "    </tr>\n",
              "    <tr>\n",
              "      <th>1</th>\n",
              "      <td>23</td>\n",
              "      <td>59</td>\n",
              "      <td>1</td>\n",
              "      <td>23.449</td>\n",
              "      <td>12.718</td>\n",
              "      <td>21.914</td>\n",
              "      <td>0.00563</td>\n",
              "      <td>0.000030</td>\n",
              "      <td>0.00287</td>\n",
              "      <td>0.00292</td>\n",
              "      <td>0.00862</td>\n",
              "      <td>0.03186</td>\n",
              "      <td>0.283</td>\n",
              "      <td>0.01562</td>\n",
              "      <td>0.02046</td>\n",
              "      <td>0.02887</td>\n",
              "      <td>0.04687</td>\n",
              "      <td>0.011275</td>\n",
              "      <td>21.013</td>\n",
              "      <td>0.45259</td>\n",
              "      <td>0.72558</td>\n",
              "      <td>0.14219</td>\n",
              "    </tr>\n",
              "    <tr>\n",
              "      <th>2</th>\n",
              "      <td>5</td>\n",
              "      <td>75</td>\n",
              "      <td>0</td>\n",
              "      <td>84.392</td>\n",
              "      <td>31.000</td>\n",
              "      <td>41.752</td>\n",
              "      <td>0.00354</td>\n",
              "      <td>0.000028</td>\n",
              "      <td>0.00168</td>\n",
              "      <td>0.00219</td>\n",
              "      <td>0.00503</td>\n",
              "      <td>0.03045</td>\n",
              "      <td>0.281</td>\n",
              "      <td>0.01594</td>\n",
              "      <td>0.01871</td>\n",
              "      <td>0.02651</td>\n",
              "      <td>0.04781</td>\n",
              "      <td>0.013284</td>\n",
              "      <td>22.085</td>\n",
              "      <td>0.56362</td>\n",
              "      <td>0.59660</td>\n",
              "      <td>0.18287</td>\n",
              "    </tr>\n",
              "    <tr>\n",
              "      <th>3</th>\n",
              "      <td>19</td>\n",
              "      <td>55</td>\n",
              "      <td>0</td>\n",
              "      <td>103.850</td>\n",
              "      <td>18.000</td>\n",
              "      <td>26.781</td>\n",
              "      <td>0.00602</td>\n",
              "      <td>0.000046</td>\n",
              "      <td>0.00208</td>\n",
              "      <td>0.00233</td>\n",
              "      <td>0.00624</td>\n",
              "      <td>0.01902</td>\n",
              "      <td>0.168</td>\n",
              "      <td>0.00894</td>\n",
              "      <td>0.01041</td>\n",
              "      <td>0.01606</td>\n",
              "      <td>0.02682</td>\n",
              "      <td>0.011945</td>\n",
              "      <td>22.663</td>\n",
              "      <td>0.63037</td>\n",
              "      <td>0.69406</td>\n",
              "      <td>0.26387</td>\n",
              "    </tr>\n",
              "    <tr>\n",
              "      <th>4</th>\n",
              "      <td>38</td>\n",
              "      <td>67</td>\n",
              "      <td>0</td>\n",
              "      <td>140.880</td>\n",
              "      <td>19.982</td>\n",
              "      <td>27.473</td>\n",
              "      <td>0.00414</td>\n",
              "      <td>0.000022</td>\n",
              "      <td>0.00183</td>\n",
              "      <td>0.00233</td>\n",
              "      <td>0.00550</td>\n",
              "      <td>0.03073</td>\n",
              "      <td>0.272</td>\n",
              "      <td>0.01636</td>\n",
              "      <td>0.02040</td>\n",
              "      <td>0.02387</td>\n",
              "      <td>0.04909</td>\n",
              "      <td>0.014141</td>\n",
              "      <td>21.436</td>\n",
              "      <td>0.55022</td>\n",
              "      <td>0.57203</td>\n",
              "      <td>0.26542</td>\n",
              "    </tr>\n",
              "    <tr>\n",
              "      <th>...</th>\n",
              "      <td>...</td>\n",
              "      <td>...</td>\n",
              "      <td>...</td>\n",
              "      <td>...</td>\n",
              "      <td>...</td>\n",
              "      <td>...</td>\n",
              "      <td>...</td>\n",
              "      <td>...</td>\n",
              "      <td>...</td>\n",
              "      <td>...</td>\n",
              "      <td>...</td>\n",
              "      <td>...</td>\n",
              "      <td>...</td>\n",
              "      <td>...</td>\n",
              "      <td>...</td>\n",
              "      <td>...</td>\n",
              "      <td>...</td>\n",
              "      <td>...</td>\n",
              "      <td>...</td>\n",
              "      <td>...</td>\n",
              "      <td>...</td>\n",
              "      <td>...</td>\n",
              "    </tr>\n",
              "    <tr>\n",
              "      <th>2800</th>\n",
              "      <td>5</td>\n",
              "      <td>75</td>\n",
              "      <td>0</td>\n",
              "      <td>42.406</td>\n",
              "      <td>31.000</td>\n",
              "      <td>40.383</td>\n",
              "      <td>0.00371</td>\n",
              "      <td>0.000031</td>\n",
              "      <td>0.00147</td>\n",
              "      <td>0.00207</td>\n",
              "      <td>0.00440</td>\n",
              "      <td>0.03158</td>\n",
              "      <td>0.274</td>\n",
              "      <td>0.01667</td>\n",
              "      <td>0.01827</td>\n",
              "      <td>0.02287</td>\n",
              "      <td>0.05000</td>\n",
              "      <td>0.013616</td>\n",
              "      <td>20.865</td>\n",
              "      <td>0.52891</td>\n",
              "      <td>0.62243</td>\n",
              "      <td>0.20829</td>\n",
              "    </tr>\n",
              "    <tr>\n",
              "      <th>2801</th>\n",
              "      <td>38</td>\n",
              "      <td>67</td>\n",
              "      <td>0</td>\n",
              "      <td>42.896</td>\n",
              "      <td>19.414</td>\n",
              "      <td>25.828</td>\n",
              "      <td>0.00588</td>\n",
              "      <td>0.000034</td>\n",
              "      <td>0.00306</td>\n",
              "      <td>0.00346</td>\n",
              "      <td>0.00918</td>\n",
              "      <td>0.03288</td>\n",
              "      <td>0.314</td>\n",
              "      <td>0.01684</td>\n",
              "      <td>0.01923</td>\n",
              "      <td>0.02618</td>\n",
              "      <td>0.05053</td>\n",
              "      <td>0.021522</td>\n",
              "      <td>20.162</td>\n",
              "      <td>0.57128</td>\n",
              "      <td>0.62273</td>\n",
              "      <td>0.26681</td>\n",
              "    </tr>\n",
              "    <tr>\n",
              "      <th>2802</th>\n",
              "      <td>21</td>\n",
              "      <td>73</td>\n",
              "      <td>0</td>\n",
              "      <td>123.830</td>\n",
              "      <td>29.217</td>\n",
              "      <td>39.480</td>\n",
              "      <td>0.00398</td>\n",
              "      <td>0.000033</td>\n",
              "      <td>0.00199</td>\n",
              "      <td>0.00218</td>\n",
              "      <td>0.00598</td>\n",
              "      <td>0.03541</td>\n",
              "      <td>0.309</td>\n",
              "      <td>0.01967</td>\n",
              "      <td>0.01998</td>\n",
              "      <td>0.02526</td>\n",
              "      <td>0.05902</td>\n",
              "      <td>0.011939</td>\n",
              "      <td>22.404</td>\n",
              "      <td>0.44357</td>\n",
              "      <td>0.62159</td>\n",
              "      <td>0.16353</td>\n",
              "    </tr>\n",
              "    <tr>\n",
              "      <th>2803</th>\n",
              "      <td>7</td>\n",
              "      <td>72</td>\n",
              "      <td>0</td>\n",
              "      <td>119.300</td>\n",
              "      <td>16.416</td>\n",
              "      <td>23.099</td>\n",
              "      <td>0.00536</td>\n",
              "      <td>0.000049</td>\n",
              "      <td>0.00214</td>\n",
              "      <td>0.00292</td>\n",
              "      <td>0.00643</td>\n",
              "      <td>0.03332</td>\n",
              "      <td>0.298</td>\n",
              "      <td>0.01681</td>\n",
              "      <td>0.02000</td>\n",
              "      <td>0.02854</td>\n",
              "      <td>0.05043</td>\n",
              "      <td>0.035802</td>\n",
              "      <td>21.462</td>\n",
              "      <td>0.57086</td>\n",
              "      <td>0.56998</td>\n",
              "      <td>0.23169</td>\n",
              "    </tr>\n",
              "    <tr>\n",
              "      <th>2804</th>\n",
              "      <td>25</td>\n",
              "      <td>76</td>\n",
              "      <td>0</td>\n",
              "      <td>13.401</td>\n",
              "      <td>24.812</td>\n",
              "      <td>45.541</td>\n",
              "      <td>0.00428</td>\n",
              "      <td>0.000047</td>\n",
              "      <td>0.00200</td>\n",
              "      <td>0.00234</td>\n",
              "      <td>0.00599</td>\n",
              "      <td>0.03569</td>\n",
              "      <td>0.325</td>\n",
              "      <td>0.01651</td>\n",
              "      <td>0.02052</td>\n",
              "      <td>0.03584</td>\n",
              "      <td>0.04953</td>\n",
              "      <td>0.017075</td>\n",
              "      <td>19.554</td>\n",
              "      <td>0.60654</td>\n",
              "      <td>0.63592</td>\n",
              "      <td>0.19203</td>\n",
              "    </tr>\n",
              "  </tbody>\n",
              "</table>\n",
              "<p>2805 rows × 22 columns</p>\n",
              "</div>"
            ],
            "text/plain": [
              "      subject#  age  sex  test_time  ...     HNR     RPDE      DFA      PPE\n",
              "0           29   78    0     43.390  ...  24.885  0.38029  0.62114  0.18399\n",
              "1           23   59    1     23.449  ...  21.013  0.45259  0.72558  0.14219\n",
              "2            5   75    0     84.392  ...  22.085  0.56362  0.59660  0.18287\n",
              "3           19   55    0    103.850  ...  22.663  0.63037  0.69406  0.26387\n",
              "4           38   67    0    140.880  ...  21.436  0.55022  0.57203  0.26542\n",
              "...        ...  ...  ...        ...  ...     ...      ...      ...      ...\n",
              "2800         5   75    0     42.406  ...  20.865  0.52891  0.62243  0.20829\n",
              "2801        38   67    0     42.896  ...  20.162  0.57128  0.62273  0.26681\n",
              "2802        21   73    0    123.830  ...  22.404  0.44357  0.62159  0.16353\n",
              "2803         7   72    0    119.300  ...  21.462  0.57086  0.56998  0.23169\n",
              "2804        25   76    0     13.401  ...  19.554  0.60654  0.63592  0.19203\n",
              "\n",
              "[2805 rows x 22 columns]"
            ]
          },
          "metadata": {
            "tags": []
          },
          "execution_count": 190
        }
      ]
    },
    {
      "cell_type": "code",
      "metadata": {
        "id": "cEmx0Mrl3VsY"
      },
      "source": [
        "training_target=training['total_UPDRS']"
      ],
      "execution_count": null,
      "outputs": []
    },
    {
      "cell_type": "code",
      "metadata": {
        "id": "zlwYcgZz21TW",
        "outputId": "725fc9a3-7619-4c33-f021-5c10167e2b43",
        "colab": {
          "base_uri": "https://localhost:8080/",
          "height": 437
        }
      },
      "source": [
        "tuning=pd.read_csv(\"./data/subject_split/dev.csv\")\n",
        "tuning"
      ],
      "execution_count": null,
      "outputs": [
        {
          "output_type": "execute_result",
          "data": {
            "text/html": [
              "<div>\n",
              "<style scoped>\n",
              "    .dataframe tbody tr th:only-of-type {\n",
              "        vertical-align: middle;\n",
              "    }\n",
              "\n",
              "    .dataframe tbody tr th {\n",
              "        vertical-align: top;\n",
              "    }\n",
              "\n",
              "    .dataframe thead th {\n",
              "        text-align: right;\n",
              "    }\n",
              "</style>\n",
              "<table border=\"1\" class=\"dataframe\">\n",
              "  <thead>\n",
              "    <tr style=\"text-align: right;\">\n",
              "      <th></th>\n",
              "      <th>subject#</th>\n",
              "      <th>age</th>\n",
              "      <th>sex</th>\n",
              "      <th>test_time</th>\n",
              "      <th>motor_UPDRS</th>\n",
              "      <th>total_UPDRS</th>\n",
              "      <th>Jitter(%)</th>\n",
              "      <th>Jitter(Abs)</th>\n",
              "      <th>Jitter:RAP</th>\n",
              "      <th>Jitter:PPQ5</th>\n",
              "      <th>Jitter:DDP</th>\n",
              "      <th>Shimmer</th>\n",
              "      <th>Shimmer(dB)</th>\n",
              "      <th>Shimmer:APQ3</th>\n",
              "      <th>Shimmer:APQ5</th>\n",
              "      <th>Shimmer:APQ11</th>\n",
              "      <th>Shimmer:DDA</th>\n",
              "      <th>NHR</th>\n",
              "      <th>HNR</th>\n",
              "      <th>RPDE</th>\n",
              "      <th>DFA</th>\n",
              "      <th>PPE</th>\n",
              "    </tr>\n",
              "  </thead>\n",
              "  <tbody>\n",
              "    <tr>\n",
              "      <th>0</th>\n",
              "      <td>6</td>\n",
              "      <td>63</td>\n",
              "      <td>0</td>\n",
              "      <td>124.3400</td>\n",
              "      <td>27.482</td>\n",
              "      <td>42.2220</td>\n",
              "      <td>0.00747</td>\n",
              "      <td>0.000052</td>\n",
              "      <td>0.00440</td>\n",
              "      <td>0.00423</td>\n",
              "      <td>0.01319</td>\n",
              "      <td>0.08700</td>\n",
              "      <td>0.765</td>\n",
              "      <td>0.04757</td>\n",
              "      <td>0.05336</td>\n",
              "      <td>0.06483</td>\n",
              "      <td>0.14272</td>\n",
              "      <td>0.028651</td>\n",
              "      <td>18.697</td>\n",
              "      <td>0.48090</td>\n",
              "      <td>0.70231</td>\n",
              "      <td>0.243810</td>\n",
              "    </tr>\n",
              "    <tr>\n",
              "      <th>1</th>\n",
              "      <td>6</td>\n",
              "      <td>63</td>\n",
              "      <td>0</td>\n",
              "      <td>159.3400</td>\n",
              "      <td>29.037</td>\n",
              "      <td>44.5560</td>\n",
              "      <td>0.00482</td>\n",
              "      <td>0.000037</td>\n",
              "      <td>0.00233</td>\n",
              "      <td>0.00242</td>\n",
              "      <td>0.00698</td>\n",
              "      <td>0.04564</td>\n",
              "      <td>0.431</td>\n",
              "      <td>0.02336</td>\n",
              "      <td>0.02980</td>\n",
              "      <td>0.03640</td>\n",
              "      <td>0.07009</td>\n",
              "      <td>0.023922</td>\n",
              "      <td>21.714</td>\n",
              "      <td>0.52553</td>\n",
              "      <td>0.64583</td>\n",
              "      <td>0.227670</td>\n",
              "    </tr>\n",
              "    <tr>\n",
              "      <th>2</th>\n",
              "      <td>15</td>\n",
              "      <td>65</td>\n",
              "      <td>0</td>\n",
              "      <td>117.5200</td>\n",
              "      <td>15.000</td>\n",
              "      <td>20.6670</td>\n",
              "      <td>0.00209</td>\n",
              "      <td>0.000012</td>\n",
              "      <td>0.00066</td>\n",
              "      <td>0.00088</td>\n",
              "      <td>0.00199</td>\n",
              "      <td>0.01176</td>\n",
              "      <td>0.105</td>\n",
              "      <td>0.00529</td>\n",
              "      <td>0.00615</td>\n",
              "      <td>0.00919</td>\n",
              "      <td>0.01586</td>\n",
              "      <td>0.009900</td>\n",
              "      <td>29.605</td>\n",
              "      <td>0.41836</td>\n",
              "      <td>0.53587</td>\n",
              "      <td>0.120140</td>\n",
              "    </tr>\n",
              "    <tr>\n",
              "      <th>3</th>\n",
              "      <td>18</td>\n",
              "      <td>65</td>\n",
              "      <td>0</td>\n",
              "      <td>4.3625</td>\n",
              "      <td>6.000</td>\n",
              "      <td>7.9555</td>\n",
              "      <td>0.00218</td>\n",
              "      <td>0.000016</td>\n",
              "      <td>0.00091</td>\n",
              "      <td>0.00112</td>\n",
              "      <td>0.00274</td>\n",
              "      <td>0.01545</td>\n",
              "      <td>0.134</td>\n",
              "      <td>0.00802</td>\n",
              "      <td>0.00948</td>\n",
              "      <td>0.01404</td>\n",
              "      <td>0.02406</td>\n",
              "      <td>0.003204</td>\n",
              "      <td>27.909</td>\n",
              "      <td>0.32235</td>\n",
              "      <td>0.62499</td>\n",
              "      <td>0.117190</td>\n",
              "    </tr>\n",
              "    <tr>\n",
              "      <th>4</th>\n",
              "      <td>15</td>\n",
              "      <td>65</td>\n",
              "      <td>0</td>\n",
              "      <td>166.6600</td>\n",
              "      <td>15.000</td>\n",
              "      <td>21.9030</td>\n",
              "      <td>0.00169</td>\n",
              "      <td>0.000009</td>\n",
              "      <td>0.00068</td>\n",
              "      <td>0.00074</td>\n",
              "      <td>0.00204</td>\n",
              "      <td>0.00941</td>\n",
              "      <td>0.096</td>\n",
              "      <td>0.00409</td>\n",
              "      <td>0.00478</td>\n",
              "      <td>0.00709</td>\n",
              "      <td>0.01228</td>\n",
              "      <td>0.003407</td>\n",
              "      <td>31.096</td>\n",
              "      <td>0.42936</td>\n",
              "      <td>0.55502</td>\n",
              "      <td>0.077124</td>\n",
              "    </tr>\n",
              "    <tr>\n",
              "      <th>...</th>\n",
              "      <td>...</td>\n",
              "      <td>...</td>\n",
              "      <td>...</td>\n",
              "      <td>...</td>\n",
              "      <td>...</td>\n",
              "      <td>...</td>\n",
              "      <td>...</td>\n",
              "      <td>...</td>\n",
              "      <td>...</td>\n",
              "      <td>...</td>\n",
              "      <td>...</td>\n",
              "      <td>...</td>\n",
              "      <td>...</td>\n",
              "      <td>...</td>\n",
              "      <td>...</td>\n",
              "      <td>...</td>\n",
              "      <td>...</td>\n",
              "      <td>...</td>\n",
              "      <td>...</td>\n",
              "      <td>...</td>\n",
              "      <td>...</td>\n",
              "      <td>...</td>\n",
              "    </tr>\n",
              "    <tr>\n",
              "      <th>1092</th>\n",
              "      <td>6</td>\n",
              "      <td>63</td>\n",
              "      <td>0</td>\n",
              "      <td>117.3300</td>\n",
              "      <td>27.170</td>\n",
              "      <td>41.7550</td>\n",
              "      <td>0.00493</td>\n",
              "      <td>0.000033</td>\n",
              "      <td>0.00244</td>\n",
              "      <td>0.00238</td>\n",
              "      <td>0.00733</td>\n",
              "      <td>0.02226</td>\n",
              "      <td>0.216</td>\n",
              "      <td>0.01143</td>\n",
              "      <td>0.01379</td>\n",
              "      <td>0.01985</td>\n",
              "      <td>0.03429</td>\n",
              "      <td>0.024797</td>\n",
              "      <td>23.526</td>\n",
              "      <td>0.39939</td>\n",
              "      <td>0.64157</td>\n",
              "      <td>0.158100</td>\n",
              "    </tr>\n",
              "    <tr>\n",
              "      <th>1093</th>\n",
              "      <td>11</td>\n",
              "      <td>55</td>\n",
              "      <td>0</td>\n",
              "      <td>49.4560</td>\n",
              "      <td>20.028</td>\n",
              "      <td>23.0370</td>\n",
              "      <td>0.00431</td>\n",
              "      <td>0.000035</td>\n",
              "      <td>0.00213</td>\n",
              "      <td>0.00249</td>\n",
              "      <td>0.00639</td>\n",
              "      <td>0.02189</td>\n",
              "      <td>0.191</td>\n",
              "      <td>0.01062</td>\n",
              "      <td>0.01369</td>\n",
              "      <td>0.02118</td>\n",
              "      <td>0.03186</td>\n",
              "      <td>0.023079</td>\n",
              "      <td>23.929</td>\n",
              "      <td>0.47948</td>\n",
              "      <td>0.67020</td>\n",
              "      <td>0.170330</td>\n",
              "    </tr>\n",
              "    <tr>\n",
              "      <th>1094</th>\n",
              "      <td>15</td>\n",
              "      <td>65</td>\n",
              "      <td>0</td>\n",
              "      <td>194.5500</td>\n",
              "      <td>15.000</td>\n",
              "      <td>22.6050</td>\n",
              "      <td>0.00280</td>\n",
              "      <td>0.000017</td>\n",
              "      <td>0.00119</td>\n",
              "      <td>0.00127</td>\n",
              "      <td>0.00357</td>\n",
              "      <td>0.01277</td>\n",
              "      <td>0.129</td>\n",
              "      <td>0.00576</td>\n",
              "      <td>0.00627</td>\n",
              "      <td>0.00987</td>\n",
              "      <td>0.01727</td>\n",
              "      <td>0.010317</td>\n",
              "      <td>28.281</td>\n",
              "      <td>0.41086</td>\n",
              "      <td>0.54318</td>\n",
              "      <td>0.092377</td>\n",
              "    </tr>\n",
              "    <tr>\n",
              "      <th>1095</th>\n",
              "      <td>33</td>\n",
              "      <td>66</td>\n",
              "      <td>1</td>\n",
              "      <td>79.4440</td>\n",
              "      <td>25.763</td>\n",
              "      <td>30.4540</td>\n",
              "      <td>0.00804</td>\n",
              "      <td>0.000030</td>\n",
              "      <td>0.00434</td>\n",
              "      <td>0.00509</td>\n",
              "      <td>0.01302</td>\n",
              "      <td>0.07331</td>\n",
              "      <td>0.638</td>\n",
              "      <td>0.04016</td>\n",
              "      <td>0.04703</td>\n",
              "      <td>0.05537</td>\n",
              "      <td>0.12048</td>\n",
              "      <td>0.050660</td>\n",
              "      <td>15.060</td>\n",
              "      <td>0.49334</td>\n",
              "      <td>0.56824</td>\n",
              "      <td>0.320830</td>\n",
              "    </tr>\n",
              "    <tr>\n",
              "      <th>1096</th>\n",
              "      <td>20</td>\n",
              "      <td>67</td>\n",
              "      <td>0</td>\n",
              "      <td>67.8880</td>\n",
              "      <td>10.768</td>\n",
              "      <td>16.7680</td>\n",
              "      <td>0.00595</td>\n",
              "      <td>0.000046</td>\n",
              "      <td>0.00304</td>\n",
              "      <td>0.00322</td>\n",
              "      <td>0.00913</td>\n",
              "      <td>0.03653</td>\n",
              "      <td>0.333</td>\n",
              "      <td>0.01945</td>\n",
              "      <td>0.02272</td>\n",
              "      <td>0.02464</td>\n",
              "      <td>0.05835</td>\n",
              "      <td>0.013102</td>\n",
              "      <td>22.226</td>\n",
              "      <td>0.42277</td>\n",
              "      <td>0.80078</td>\n",
              "      <td>0.245550</td>\n",
              "    </tr>\n",
              "  </tbody>\n",
              "</table>\n",
              "<p>1097 rows × 22 columns</p>\n",
              "</div>"
            ],
            "text/plain": [
              "      subject#  age  sex  test_time  ...     HNR     RPDE      DFA       PPE\n",
              "0            6   63    0   124.3400  ...  18.697  0.48090  0.70231  0.243810\n",
              "1            6   63    0   159.3400  ...  21.714  0.52553  0.64583  0.227670\n",
              "2           15   65    0   117.5200  ...  29.605  0.41836  0.53587  0.120140\n",
              "3           18   65    0     4.3625  ...  27.909  0.32235  0.62499  0.117190\n",
              "4           15   65    0   166.6600  ...  31.096  0.42936  0.55502  0.077124\n",
              "...        ...  ...  ...        ...  ...     ...      ...      ...       ...\n",
              "1092         6   63    0   117.3300  ...  23.526  0.39939  0.64157  0.158100\n",
              "1093        11   55    0    49.4560  ...  23.929  0.47948  0.67020  0.170330\n",
              "1094        15   65    0   194.5500  ...  28.281  0.41086  0.54318  0.092377\n",
              "1095        33   66    1    79.4440  ...  15.060  0.49334  0.56824  0.320830\n",
              "1096        20   67    0    67.8880  ...  22.226  0.42277  0.80078  0.245550\n",
              "\n",
              "[1097 rows x 22 columns]"
            ]
          },
          "metadata": {
            "tags": []
          },
          "execution_count": 192
        }
      ]
    },
    {
      "cell_type": "code",
      "metadata": {
        "id": "azjfWacsGxxc",
        "outputId": "550b0217-2e95-4d58-b315-f9ec65e690cd",
        "colab": {
          "base_uri": "https://localhost:8080/",
          "height": 105
        }
      },
      "source": [
        "tuning.columns"
      ],
      "execution_count": null,
      "outputs": [
        {
          "output_type": "execute_result",
          "data": {
            "text/plain": [
              "Index(['subject#', 'age', 'sex', 'test_time', 'motor_UPDRS', 'total_UPDRS',\n",
              "       'Jitter(%)', 'Jitter(Abs)', 'Jitter:RAP', 'Jitter:PPQ5', 'Jitter:DDP',\n",
              "       'Shimmer', 'Shimmer(dB)', 'Shimmer:APQ3', 'Shimmer:APQ5',\n",
              "       'Shimmer:APQ11', 'Shimmer:DDA', 'NHR', 'HNR', 'RPDE', 'DFA', 'PPE'],\n",
              "      dtype='object')"
            ]
          },
          "metadata": {
            "tags": []
          },
          "execution_count": 193
        }
      ]
    },
    {
      "cell_type": "code",
      "metadata": {
        "id": "6jHSlHFd3bix"
      },
      "source": [
        "tuning_target=tuning['total_UPDRS']"
      ],
      "execution_count": null,
      "outputs": []
    },
    {
      "cell_type": "code",
      "metadata": {
        "id": "2wmJqGQE3n2Z"
      },
      "source": [
        "\n",
        "\n",
        "\n",
        "import sklearn.linear_model as slm\n",
        "import sklearn.metrics as sm\n",
        "\n",
        "def trainLR(x, y):\n",
        "  ln = slm.LinearRegression()\n",
        "  ln.fit(x,y)\n",
        "  return ln\n",
        "\n",
        "def evaLR(ln, x,y):\n",
        "  y_pred = ln.predict(x)\n",
        "  mse = sm.mean_squared_error(y_pred, y)\n",
        "  rmse = np.sqrt(mse)\n",
        "  r2 = ln.score(x, y)\n",
        "  return {\n",
        "      \"y predict\": y_pred,\n",
        "      \"score\": r2,\n",
        "      \"rmse\": rmse,\n",
        "      \"intercept\": ln.intercept_,\n",
        "      \"coef\": ln.coef_\n",
        "  }"
      ],
      "execution_count": null,
      "outputs": []
    },
    {
      "cell_type": "code",
      "metadata": {
        "id": "SuNWP-I29M2J"
      },
      "source": [
        "trainmodel=trainLR(training,training_target)\n",
        "evaluate=evaLR(trainmodel,tuning,tuning_target)\n",
        "evaluate\n",
        "y_p=evaluate['y predict']"
      ],
      "execution_count": null,
      "outputs": []
    },
    {
      "cell_type": "code",
      "metadata": {
        "id": "Fk4aQSm1_FGs",
        "outputId": "5bfc766d-a463-40ef-ebf4-113bf3a29eef",
        "colab": {
          "base_uri": "https://localhost:8080/",
          "height": 228
        }
      },
      "source": [
        "error=tuning_target-y_p\n",
        "error"
      ],
      "execution_count": null,
      "outputs": [
        {
          "output_type": "execute_result",
          "data": {
            "text/plain": [
              "0       7.105427e-15\n",
              "1       0.000000e+00\n",
              "2      -7.105427e-15\n",
              "3      -8.881784e-16\n",
              "4      -1.421085e-14\n",
              "            ...     \n",
              "1092    0.000000e+00\n",
              "1093    7.105427e-15\n",
              "1094   -1.421085e-14\n",
              "1095    0.000000e+00\n",
              "1096    0.000000e+00\n",
              "Name: total_UPDRS, Length: 1097, dtype: float64"
            ]
          },
          "metadata": {
            "tags": []
          },
          "execution_count": 197
        }
      ]
    },
    {
      "cell_type": "code",
      "metadata": {
        "id": "pi4q_2l8Ada3",
        "outputId": "952121ea-1bfd-4274-8d5d-6c47f00f542f",
        "colab": {
          "base_uri": "https://localhost:8080/",
          "height": 35
        }
      },
      "source": [
        "np.absolute(error).max()\n"
      ],
      "execution_count": null,
      "outputs": [
        {
          "output_type": "execute_result",
          "data": {
            "text/plain": [
              "1.7763568394002505e-14"
            ]
          },
          "metadata": {
            "tags": []
          },
          "execution_count": 198
        }
      ]
    },
    {
      "cell_type": "code",
      "metadata": {
        "id": "cWSSuJUH_zp-",
        "outputId": "b97d92a3-ee5e-4c6d-e442-5130e1374071",
        "colab": {
          "base_uri": "https://localhost:8080/",
          "height": 35
        }
      },
      "source": [
        "evaluate['intercept']"
      ],
      "execution_count": null,
      "outputs": [
        {
          "output_type": "execute_result",
          "data": {
            "text/plain": [
              "-4.973799150320701e-14"
            ]
          },
          "metadata": {
            "tags": []
          },
          "execution_count": 199
        }
      ]
    },
    {
      "cell_type": "code",
      "metadata": {
        "id": "yvl2asN__9se",
        "outputId": "1474a22e-d8d0-40eb-9d88-3a9c3db1719a",
        "colab": {
          "base_uri": "https://localhost:8080/",
          "height": 123
        }
      },
      "source": [
        "coef=evaluate['coef']\n",
        "coef\n"
      ],
      "execution_count": null,
      "outputs": [
        {
          "output_type": "execute_result",
          "data": {
            "text/plain": [
              "array([ 1.48654781e-16,  5.55111512e-16, -9.99151165e-16,  6.84268361e-17,\n",
              "        3.06708467e-17,  1.00000000e+00, -1.46381560e-14,  5.59783052e-12,\n",
              "        1.16250730e-12,  6.13109010e-14, -4.20605978e-13,  1.48224937e-14,\n",
              "       -9.90871486e-16, -3.87690852e-12,  1.22796970e-14,  3.58655807e-15,\n",
              "        1.28570532e-12,  1.57095474e-15,  5.08273978e-16, -3.83644939e-16,\n",
              "       -2.04632318e-15, -1.07986536e-15])"
            ]
          },
          "metadata": {
            "tags": []
          },
          "execution_count": 200
        }
      ]
    },
    {
      "cell_type": "code",
      "metadata": {
        "id": "Sz9aMO5aCQ3t",
        "outputId": "1eecbc64-aa5f-48ba-9851-12abc496346f",
        "colab": {
          "base_uri": "https://localhost:8080/",
          "height": 35
        }
      },
      "source": [
        "coef.min()"
      ],
      "execution_count": null,
      "outputs": [
        {
          "output_type": "execute_result",
          "data": {
            "text/plain": [
              "-3.876908523126324e-12"
            ]
          },
          "metadata": {
            "tags": []
          },
          "execution_count": 201
        }
      ]
    },
    {
      "cell_type": "code",
      "metadata": {
        "id": "9cQEpTVjCgp8",
        "outputId": "731f57b3-6771-42c2-9d8f-9cf37be369c5",
        "colab": {
          "base_uri": "https://localhost:8080/",
          "height": 35
        }
      },
      "source": [
        "coef.shape"
      ],
      "execution_count": null,
      "outputs": [
        {
          "output_type": "execute_result",
          "data": {
            "text/plain": [
              "(22,)"
            ]
          },
          "metadata": {
            "tags": []
          },
          "execution_count": 202
        }
      ]
    },
    {
      "cell_type": "code",
      "metadata": {
        "id": "WnsrdaMPDs3O",
        "outputId": "c5107069-aa5e-463f-d9d9-2d087edd0e67",
        "colab": {
          "base_uri": "https://localhost:8080/",
          "height": 726
        }
      },
      "source": [
        "\n",
        "coeftable =  pd.DataFrame(coef, columns=['coef'])\n",
        "coeftable"
      ],
      "execution_count": null,
      "outputs": [
        {
          "output_type": "execute_result",
          "data": {
            "text/html": [
              "<div>\n",
              "<style scoped>\n",
              "    .dataframe tbody tr th:only-of-type {\n",
              "        vertical-align: middle;\n",
              "    }\n",
              "\n",
              "    .dataframe tbody tr th {\n",
              "        vertical-align: top;\n",
              "    }\n",
              "\n",
              "    .dataframe thead th {\n",
              "        text-align: right;\n",
              "    }\n",
              "</style>\n",
              "<table border=\"1\" class=\"dataframe\">\n",
              "  <thead>\n",
              "    <tr style=\"text-align: right;\">\n",
              "      <th></th>\n",
              "      <th>coef</th>\n",
              "    </tr>\n",
              "  </thead>\n",
              "  <tbody>\n",
              "    <tr>\n",
              "      <th>0</th>\n",
              "      <td>1.486548e-16</td>\n",
              "    </tr>\n",
              "    <tr>\n",
              "      <th>1</th>\n",
              "      <td>5.551115e-16</td>\n",
              "    </tr>\n",
              "    <tr>\n",
              "      <th>2</th>\n",
              "      <td>-9.991512e-16</td>\n",
              "    </tr>\n",
              "    <tr>\n",
              "      <th>3</th>\n",
              "      <td>6.842684e-17</td>\n",
              "    </tr>\n",
              "    <tr>\n",
              "      <th>4</th>\n",
              "      <td>3.067085e-17</td>\n",
              "    </tr>\n",
              "    <tr>\n",
              "      <th>5</th>\n",
              "      <td>1.000000e+00</td>\n",
              "    </tr>\n",
              "    <tr>\n",
              "      <th>6</th>\n",
              "      <td>-1.463816e-14</td>\n",
              "    </tr>\n",
              "    <tr>\n",
              "      <th>7</th>\n",
              "      <td>5.597831e-12</td>\n",
              "    </tr>\n",
              "    <tr>\n",
              "      <th>8</th>\n",
              "      <td>1.162507e-12</td>\n",
              "    </tr>\n",
              "    <tr>\n",
              "      <th>9</th>\n",
              "      <td>6.131090e-14</td>\n",
              "    </tr>\n",
              "    <tr>\n",
              "      <th>10</th>\n",
              "      <td>-4.206060e-13</td>\n",
              "    </tr>\n",
              "    <tr>\n",
              "      <th>11</th>\n",
              "      <td>1.482249e-14</td>\n",
              "    </tr>\n",
              "    <tr>\n",
              "      <th>12</th>\n",
              "      <td>-9.908715e-16</td>\n",
              "    </tr>\n",
              "    <tr>\n",
              "      <th>13</th>\n",
              "      <td>-3.876909e-12</td>\n",
              "    </tr>\n",
              "    <tr>\n",
              "      <th>14</th>\n",
              "      <td>1.227970e-14</td>\n",
              "    </tr>\n",
              "    <tr>\n",
              "      <th>15</th>\n",
              "      <td>3.586558e-15</td>\n",
              "    </tr>\n",
              "    <tr>\n",
              "      <th>16</th>\n",
              "      <td>1.285705e-12</td>\n",
              "    </tr>\n",
              "    <tr>\n",
              "      <th>17</th>\n",
              "      <td>1.570955e-15</td>\n",
              "    </tr>\n",
              "    <tr>\n",
              "      <th>18</th>\n",
              "      <td>5.082740e-16</td>\n",
              "    </tr>\n",
              "    <tr>\n",
              "      <th>19</th>\n",
              "      <td>-3.836449e-16</td>\n",
              "    </tr>\n",
              "    <tr>\n",
              "      <th>20</th>\n",
              "      <td>-2.046323e-15</td>\n",
              "    </tr>\n",
              "    <tr>\n",
              "      <th>21</th>\n",
              "      <td>-1.079865e-15</td>\n",
              "    </tr>\n",
              "  </tbody>\n",
              "</table>\n",
              "</div>"
            ],
            "text/plain": [
              "            coef\n",
              "0   1.486548e-16\n",
              "1   5.551115e-16\n",
              "2  -9.991512e-16\n",
              "3   6.842684e-17\n",
              "4   3.067085e-17\n",
              "5   1.000000e+00\n",
              "6  -1.463816e-14\n",
              "7   5.597831e-12\n",
              "8   1.162507e-12\n",
              "9   6.131090e-14\n",
              "10 -4.206060e-13\n",
              "11  1.482249e-14\n",
              "12 -9.908715e-16\n",
              "13 -3.876909e-12\n",
              "14  1.227970e-14\n",
              "15  3.586558e-15\n",
              "16  1.285705e-12\n",
              "17  1.570955e-15\n",
              "18  5.082740e-16\n",
              "19 -3.836449e-16\n",
              "20 -2.046323e-15\n",
              "21 -1.079865e-15"
            ]
          },
          "metadata": {
            "tags": []
          },
          "execution_count": 203
        }
      ]
    },
    {
      "cell_type": "code",
      "metadata": {
        "id": "KeqNsSdPGnPQ"
      },
      "source": [
        "feature=['subject#', 'age', 'sex', 'test_time', 'motor_UPDRS', 'total_UPDRS',\n",
        "       'Jitter(%)', 'Jitter(Abs)', 'Jitter:RAP', 'Jitter:PPQ5', 'Jitter:DDP',\n",
        "       'Shimmer', 'Shimmer(dB)', 'Shimmer:APQ3', 'Shimmer:APQ5',\n",
        "       'Shimmer:APQ11', 'Shimmer:DDA', 'NHR', 'HNR', 'RPDE', 'DFA', 'PPE']"
      ],
      "execution_count": null,
      "outputs": []
    },
    {
      "cell_type": "code",
      "metadata": {
        "id": "s_rn4-xAHGrn"
      },
      "source": [
        "coeftable['feature']=feature"
      ],
      "execution_count": null,
      "outputs": []
    },
    {
      "cell_type": "code",
      "metadata": {
        "id": "wfPK6UwTHS8R",
        "outputId": "74fae084-e525-4791-e455-af2473b97317",
        "colab": {
          "base_uri": "https://localhost:8080/",
          "height": 726
        }
      },
      "source": [
        "coeftable"
      ],
      "execution_count": null,
      "outputs": [
        {
          "output_type": "execute_result",
          "data": {
            "text/html": [
              "<div>\n",
              "<style scoped>\n",
              "    .dataframe tbody tr th:only-of-type {\n",
              "        vertical-align: middle;\n",
              "    }\n",
              "\n",
              "    .dataframe tbody tr th {\n",
              "        vertical-align: top;\n",
              "    }\n",
              "\n",
              "    .dataframe thead th {\n",
              "        text-align: right;\n",
              "    }\n",
              "</style>\n",
              "<table border=\"1\" class=\"dataframe\">\n",
              "  <thead>\n",
              "    <tr style=\"text-align: right;\">\n",
              "      <th></th>\n",
              "      <th>coef</th>\n",
              "      <th>feature</th>\n",
              "    </tr>\n",
              "  </thead>\n",
              "  <tbody>\n",
              "    <tr>\n",
              "      <th>0</th>\n",
              "      <td>1.486548e-16</td>\n",
              "      <td>subject#</td>\n",
              "    </tr>\n",
              "    <tr>\n",
              "      <th>1</th>\n",
              "      <td>5.551115e-16</td>\n",
              "      <td>age</td>\n",
              "    </tr>\n",
              "    <tr>\n",
              "      <th>2</th>\n",
              "      <td>-9.991512e-16</td>\n",
              "      <td>sex</td>\n",
              "    </tr>\n",
              "    <tr>\n",
              "      <th>3</th>\n",
              "      <td>6.842684e-17</td>\n",
              "      <td>test_time</td>\n",
              "    </tr>\n",
              "    <tr>\n",
              "      <th>4</th>\n",
              "      <td>3.067085e-17</td>\n",
              "      <td>motor_UPDRS</td>\n",
              "    </tr>\n",
              "    <tr>\n",
              "      <th>5</th>\n",
              "      <td>1.000000e+00</td>\n",
              "      <td>total_UPDRS</td>\n",
              "    </tr>\n",
              "    <tr>\n",
              "      <th>6</th>\n",
              "      <td>-1.463816e-14</td>\n",
              "      <td>Jitter(%)</td>\n",
              "    </tr>\n",
              "    <tr>\n",
              "      <th>7</th>\n",
              "      <td>5.597831e-12</td>\n",
              "      <td>Jitter(Abs)</td>\n",
              "    </tr>\n",
              "    <tr>\n",
              "      <th>8</th>\n",
              "      <td>1.162507e-12</td>\n",
              "      <td>Jitter:RAP</td>\n",
              "    </tr>\n",
              "    <tr>\n",
              "      <th>9</th>\n",
              "      <td>6.131090e-14</td>\n",
              "      <td>Jitter:PPQ5</td>\n",
              "    </tr>\n",
              "    <tr>\n",
              "      <th>10</th>\n",
              "      <td>-4.206060e-13</td>\n",
              "      <td>Jitter:DDP</td>\n",
              "    </tr>\n",
              "    <tr>\n",
              "      <th>11</th>\n",
              "      <td>1.482249e-14</td>\n",
              "      <td>Shimmer</td>\n",
              "    </tr>\n",
              "    <tr>\n",
              "      <th>12</th>\n",
              "      <td>-9.908715e-16</td>\n",
              "      <td>Shimmer(dB)</td>\n",
              "    </tr>\n",
              "    <tr>\n",
              "      <th>13</th>\n",
              "      <td>-3.876909e-12</td>\n",
              "      <td>Shimmer:APQ3</td>\n",
              "    </tr>\n",
              "    <tr>\n",
              "      <th>14</th>\n",
              "      <td>1.227970e-14</td>\n",
              "      <td>Shimmer:APQ5</td>\n",
              "    </tr>\n",
              "    <tr>\n",
              "      <th>15</th>\n",
              "      <td>3.586558e-15</td>\n",
              "      <td>Shimmer:APQ11</td>\n",
              "    </tr>\n",
              "    <tr>\n",
              "      <th>16</th>\n",
              "      <td>1.285705e-12</td>\n",
              "      <td>Shimmer:DDA</td>\n",
              "    </tr>\n",
              "    <tr>\n",
              "      <th>17</th>\n",
              "      <td>1.570955e-15</td>\n",
              "      <td>NHR</td>\n",
              "    </tr>\n",
              "    <tr>\n",
              "      <th>18</th>\n",
              "      <td>5.082740e-16</td>\n",
              "      <td>HNR</td>\n",
              "    </tr>\n",
              "    <tr>\n",
              "      <th>19</th>\n",
              "      <td>-3.836449e-16</td>\n",
              "      <td>RPDE</td>\n",
              "    </tr>\n",
              "    <tr>\n",
              "      <th>20</th>\n",
              "      <td>-2.046323e-15</td>\n",
              "      <td>DFA</td>\n",
              "    </tr>\n",
              "    <tr>\n",
              "      <th>21</th>\n",
              "      <td>-1.079865e-15</td>\n",
              "      <td>PPE</td>\n",
              "    </tr>\n",
              "  </tbody>\n",
              "</table>\n",
              "</div>"
            ],
            "text/plain": [
              "            coef        feature\n",
              "0   1.486548e-16       subject#\n",
              "1   5.551115e-16            age\n",
              "2  -9.991512e-16            sex\n",
              "3   6.842684e-17      test_time\n",
              "4   3.067085e-17    motor_UPDRS\n",
              "5   1.000000e+00    total_UPDRS\n",
              "6  -1.463816e-14      Jitter(%)\n",
              "7   5.597831e-12    Jitter(Abs)\n",
              "8   1.162507e-12     Jitter:RAP\n",
              "9   6.131090e-14    Jitter:PPQ5\n",
              "10 -4.206060e-13     Jitter:DDP\n",
              "11  1.482249e-14        Shimmer\n",
              "12 -9.908715e-16    Shimmer(dB)\n",
              "13 -3.876909e-12   Shimmer:APQ3\n",
              "14  1.227970e-14   Shimmer:APQ5\n",
              "15  3.586558e-15  Shimmer:APQ11\n",
              "16  1.285705e-12    Shimmer:DDA\n",
              "17  1.570955e-15            NHR\n",
              "18  5.082740e-16            HNR\n",
              "19 -3.836449e-16           RPDE\n",
              "20 -2.046323e-15            DFA\n",
              "21 -1.079865e-15            PPE"
            ]
          },
          "metadata": {
            "tags": []
          },
          "execution_count": 206
        }
      ]
    },
    {
      "cell_type": "code",
      "metadata": {
        "id": "SOyk0sz8Hi2W",
        "outputId": "e6b5e7f5-c4a9-4dd6-fa1f-5670317b5d0b",
        "colab": {
          "base_uri": "https://localhost:8080/",
          "height": 79
        }
      },
      "source": [
        "#select row have max coef value\n",
        "coeftable[coeftable.coef==coeftable.coef.max()]\n",
        "  "
      ],
      "execution_count": null,
      "outputs": [
        {
          "output_type": "execute_result",
          "data": {
            "text/html": [
              "<div>\n",
              "<style scoped>\n",
              "    .dataframe tbody tr th:only-of-type {\n",
              "        vertical-align: middle;\n",
              "    }\n",
              "\n",
              "    .dataframe tbody tr th {\n",
              "        vertical-align: top;\n",
              "    }\n",
              "\n",
              "    .dataframe thead th {\n",
              "        text-align: right;\n",
              "    }\n",
              "</style>\n",
              "<table border=\"1\" class=\"dataframe\">\n",
              "  <thead>\n",
              "    <tr style=\"text-align: right;\">\n",
              "      <th></th>\n",
              "      <th>coef</th>\n",
              "      <th>feature</th>\n",
              "    </tr>\n",
              "  </thead>\n",
              "  <tbody>\n",
              "    <tr>\n",
              "      <th>5</th>\n",
              "      <td>1.0</td>\n",
              "      <td>total_UPDRS</td>\n",
              "    </tr>\n",
              "  </tbody>\n",
              "</table>\n",
              "</div>"
            ],
            "text/plain": [
              "   coef      feature\n",
              "5   1.0  total_UPDRS"
            ]
          },
          "metadata": {
            "tags": []
          },
          "execution_count": 211
        }
      ]
    },
    {
      "cell_type": "code",
      "metadata": {
        "id": "sEOX-5mbN-H1",
        "outputId": "9325b6c2-d430-4d6c-bd46-4f12883292ad",
        "colab": {
          "base_uri": "https://localhost:8080/",
          "height": 79
        }
      },
      "source": [
        "#select row have min coef value\n",
        "coeftable[coeftable.coef==coeftable.coef.min()]"
      ],
      "execution_count": null,
      "outputs": [
        {
          "output_type": "execute_result",
          "data": {
            "text/html": [
              "<div>\n",
              "<style scoped>\n",
              "    .dataframe tbody tr th:only-of-type {\n",
              "        vertical-align: middle;\n",
              "    }\n",
              "\n",
              "    .dataframe tbody tr th {\n",
              "        vertical-align: top;\n",
              "    }\n",
              "\n",
              "    .dataframe thead th {\n",
              "        text-align: right;\n",
              "    }\n",
              "</style>\n",
              "<table border=\"1\" class=\"dataframe\">\n",
              "  <thead>\n",
              "    <tr style=\"text-align: right;\">\n",
              "      <th></th>\n",
              "      <th>coef</th>\n",
              "      <th>feature</th>\n",
              "    </tr>\n",
              "  </thead>\n",
              "  <tbody>\n",
              "    <tr>\n",
              "      <th>13</th>\n",
              "      <td>-3.876909e-12</td>\n",
              "      <td>Shimmer:APQ3</td>\n",
              "    </tr>\n",
              "  </tbody>\n",
              "</table>\n",
              "</div>"
            ],
            "text/plain": [
              "            coef       feature\n",
              "13 -3.876909e-12  Shimmer:APQ3"
            ]
          },
          "metadata": {
            "tags": []
          },
          "execution_count": 212
        }
      ]
    },
    {
      "cell_type": "code",
      "metadata": {
        "id": "VxI30cSFIpuZ"
      },
      "source": [
        ""
      ],
      "execution_count": null,
      "outputs": []
    }
  ]
}