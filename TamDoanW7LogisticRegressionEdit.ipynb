{
  "nbformat": 4,
  "nbformat_minor": 0,
  "metadata": {
    "colab": {
      "name": "TamDoanW7LogisticRegressionEdit.ipynb",
      "provenance": [],
      "collapsed_sections": [],
      "authorship_tag": "ABX9TyNNkkUUDEUIhVlWwkOw72pp",
      "include_colab_link": true
    },
    "kernelspec": {
      "name": "python3",
      "display_name": "Python 3"
    }
  },
  "cells": [
    {
      "cell_type": "markdown",
      "metadata": {
        "id": "view-in-github",
        "colab_type": "text"
      },
      "source": [
        "<a href=\"https://colab.research.google.com/github/tamdoancong/5215-MachineLearning-Doan/blob/master/TamDoanW7LogisticRegressionEdit.ipynb\" target=\"_parent\"><img src=\"https://colab.research.google.com/assets/colab-badge.svg\" alt=\"Open In Colab\"/></a>"
      ]
    },
    {
      "cell_type": "code",
      "metadata": {
        "id": "YGcvrqJlDSCB"
      },
      "source": [
        "#import libraries\n",
        "import random\n",
        "import pandas as pd\n",
        "from mpl_toolkits.mplot3d import Axes3D\n",
        "import matplotlib.pyplot as plt\n",
        "import numpy as np\n",
        "from sklearn.linear_model import LogisticRegression,LinearRegression,Perceptron\n",
        "from sklearn.metrics import mean_squared_error, r2_score\n",
        "import math\n",
        "from matplotlib import cm\n",
        "from matplotlib.ticker import LinearLocator, FormatStrFormatter\n",
        "from matplotlib.colors import ListedColormap, LinearSegmentedColormap\n",
        "pd.options.display.max_rows=12\n",
        "plt.rcParams.update({'font.size': 18})"
      ],
      "execution_count": 552,
      "outputs": []
    },
    {
      "cell_type": "code",
      "metadata": {
        "id": "lUNpKWg1H2u_"
      },
      "source": [
        ""
      ],
      "execution_count": 552,
      "outputs": []
    },
    {
      "cell_type": "code",
      "metadata": {
        "id": "yfo0wVEF34vi"
      },
      "source": [
        "#Suleyman code\n",
        "def plot_hyperplane(ax1,c,color,clf,xmin,xmax):\n",
        "    coef = clf.coef_\n",
        "    intercept = clf.intercept_\n",
        "    def line(x0):\n",
        "        return (-(x0 * coef[c, 0]) - intercept[c]) / coef[c, 1]\n",
        "    ax1.plot([xmin, xmax], [line(xmin), line(xmax)],\n",
        "                ls=\"--\", color=color)"
      ],
      "execution_count": 553,
      "outputs": []
    },
    {
      "cell_type": "code",
      "metadata": {
        "id": "H1hBIzEaCY4h"
      },
      "source": [
        "##Suleyman code\n",
        "def decision_point(clf):\n",
        "    coef = clf.coef_\n",
        "    intercept = clf.intercept_\n",
        "    return (-intercept[0])/coef[0,0]"
      ],
      "execution_count": 554,
      "outputs": []
    },
    {
      "cell_type": "code",
      "metadata": {
        "id": "9lWAin_C6C4m",
        "outputId": "c1b76f10-4020-4c69-f13c-8cd1c065ac11",
        "colab": {
          "base_uri": "https://localhost:8080/",
          "height": 35
        }
      },
      "source": [
        "#download the data\n",
        "!git clone https://github.com/sopolat/HomeworkFiles.git"
      ],
      "execution_count": 555,
      "outputs": [
        {
          "output_type": "stream",
          "text": [
            "fatal: destination path 'HomeworkFiles' already exists and is not an empty directory.\n"
          ],
          "name": "stdout"
        }
      ]
    },
    {
      "cell_type": "code",
      "metadata": {
        "id": "Eh4Tjfj_6pMc"
      },
      "source": [
        "#load training dataframes\n",
        "sl_c = pd.read_csv(\"/content/HomeworkFiles/iris/train/iris_versicolor_vs_virginica.sl.c.train.csv\")\n",
        "sl_pl = pd.read_csv(\"/content/HomeworkFiles/iris/train/iris_versicolor_vs_virginica.sl.pl.train.csv\")\n",
        "sl_pw_c = pd.read_csv(\"/content/HomeworkFiles/iris/train/iris_versicolor_vs_virginica.sl_pw.c.train.csv\")\n",
        "sl_pw_pl = pd.read_csv(\"/content/HomeworkFiles/iris/train/iris_versicolor_vs_virginica.sl_pw.pl.train.csv\")\n",
        "#load dev set\n",
        "sl_c_d = pd.read_csv(\"/content/HomeworkFiles/iris/tune/iris_versicolor_vs_virginica.sl.c.tune.csv\")\n",
        "sl_pl_d = pd.read_csv(\"/content/HomeworkFiles/iris/tune/iris_versicolor_vs_virginica.sl.pl.tune.csv\")\n",
        "sl_pw_c_d = pd.read_csv(\"/content/HomeworkFiles/iris/tune/iris_versicolor_vs_virginica.sl_pw.c.tune.csv\")\n",
        "sl_pw_pl_d = pd.read_csv(\"/content/HomeworkFiles/iris/tune/iris_versicolor_vs_virginica.sl_pw.pl.tune.csv\")"
      ],
      "execution_count": 556,
      "outputs": []
    },
    {
      "cell_type": "code",
      "metadata": {
        "id": "HbdSN4lxLz_d"
      },
      "source": [
        "#update class labels\n",
        "sl_c.loc[sl_c[\"iris class\"]==\"Iris-virginica\",\"iris class\"]=1\n",
        "sl_c.loc[sl_c[\"iris class\"]==\"Iris-versicolor\",\"iris class\"]=0\n",
        "sl_c[\"iris class\"]=sl_c[\"iris class\"].astype('int')\n",
        "\n",
        "sl_pw_c.loc[sl_pw_c[\"iris class\"]==\"Iris-virginica\",\"iris class\"]=1\n",
        "sl_pw_c.loc[sl_pw_c[\"iris class\"]==\"Iris-versicolor\",\"iris class\"]=0\n",
        "sl_pw_c[\"iris class\"]=sl_pw_c[\"iris class\"].astype('int')\n",
        "\n",
        "\n",
        "sl_c_d.loc[sl_c_d[\"iris class\"]==\"Iris-virginica\",\"iris class\"]=1\n",
        "sl_c_d.loc[sl_c_d[\"iris class\"]==\"Iris-versicolor\",\"iris class\"]=0\n",
        "sl_c_d[\"iris class\"]=sl_c_d[\"iris class\"].astype('int')\n",
        "\n",
        "sl_pw_c_d.loc[sl_pw_c_d[\"iris class\"]==\"Iris-virginica\",\"iris class\"]=1\n",
        "sl_pw_c_d.loc[sl_pw_c_d[\"iris class\"]==\"Iris-versicolor\",\"iris class\"]=0\n",
        "sl_pw_c_d[\"iris class\"]=sl_pw_c_d[\"iris class\"].astype('int')"
      ],
      "execution_count": 557,
      "outputs": []
    },
    {
      "cell_type": "code",
      "metadata": {
        "id": "3WILI-yWMFCi",
        "outputId": "e969de57-a952-4e7d-92bb-8a03d16c3126",
        "colab": {
          "base_uri": "https://localhost:8080/",
          "height": 417
        }
      },
      "source": [
        "sl_pw_c_d\n"
      ],
      "execution_count": 558,
      "outputs": [
        {
          "output_type": "execute_result",
          "data": {
            "text/html": [
              "<div>\n",
              "<style scoped>\n",
              "    .dataframe tbody tr th:only-of-type {\n",
              "        vertical-align: middle;\n",
              "    }\n",
              "\n",
              "    .dataframe tbody tr th {\n",
              "        vertical-align: top;\n",
              "    }\n",
              "\n",
              "    .dataframe thead th {\n",
              "        text-align: right;\n",
              "    }\n",
              "</style>\n",
              "<table border=\"1\" class=\"dataframe\">\n",
              "  <thead>\n",
              "    <tr style=\"text-align: right;\">\n",
              "      <th></th>\n",
              "      <th>sepal length</th>\n",
              "      <th>petal width</th>\n",
              "      <th>iris class</th>\n",
              "    </tr>\n",
              "  </thead>\n",
              "  <tbody>\n",
              "    <tr>\n",
              "      <th>0</th>\n",
              "      <td>6.7</td>\n",
              "      <td>1.7</td>\n",
              "      <td>0</td>\n",
              "    </tr>\n",
              "    <tr>\n",
              "      <th>1</th>\n",
              "      <td>6.1</td>\n",
              "      <td>1.4</td>\n",
              "      <td>1</td>\n",
              "    </tr>\n",
              "    <tr>\n",
              "      <th>2</th>\n",
              "      <td>5.5</td>\n",
              "      <td>1.0</td>\n",
              "      <td>0</td>\n",
              "    </tr>\n",
              "    <tr>\n",
              "      <th>3</th>\n",
              "      <td>5.8</td>\n",
              "      <td>1.2</td>\n",
              "      <td>0</td>\n",
              "    </tr>\n",
              "    <tr>\n",
              "      <th>4</th>\n",
              "      <td>6.4</td>\n",
              "      <td>1.3</td>\n",
              "      <td>0</td>\n",
              "    </tr>\n",
              "    <tr>\n",
              "      <th>...</th>\n",
              "      <td>...</td>\n",
              "      <td>...</td>\n",
              "      <td>...</td>\n",
              "    </tr>\n",
              "    <tr>\n",
              "      <th>45</th>\n",
              "      <td>6.1</td>\n",
              "      <td>1.2</td>\n",
              "      <td>0</td>\n",
              "    </tr>\n",
              "    <tr>\n",
              "      <th>46</th>\n",
              "      <td>5.5</td>\n",
              "      <td>1.3</td>\n",
              "      <td>0</td>\n",
              "    </tr>\n",
              "    <tr>\n",
              "      <th>47</th>\n",
              "      <td>6.4</td>\n",
              "      <td>2.1</td>\n",
              "      <td>1</td>\n",
              "    </tr>\n",
              "    <tr>\n",
              "      <th>48</th>\n",
              "      <td>6.2</td>\n",
              "      <td>1.5</td>\n",
              "      <td>0</td>\n",
              "    </tr>\n",
              "    <tr>\n",
              "      <th>49</th>\n",
              "      <td>6.7</td>\n",
              "      <td>2.1</td>\n",
              "      <td>1</td>\n",
              "    </tr>\n",
              "  </tbody>\n",
              "</table>\n",
              "<p>50 rows × 3 columns</p>\n",
              "</div>"
            ],
            "text/plain": [
              "    sepal length  petal width  iris class\n",
              "0            6.7          1.7           0\n",
              "1            6.1          1.4           1\n",
              "2            5.5          1.0           0\n",
              "3            5.8          1.2           0\n",
              "4            6.4          1.3           0\n",
              "..           ...          ...         ...\n",
              "45           6.1          1.2           0\n",
              "46           5.5          1.3           0\n",
              "47           6.4          2.1           1\n",
              "48           6.2          1.5           0\n",
              "49           6.7          2.1           1\n",
              "\n",
              "[50 rows x 3 columns]"
            ]
          },
          "metadata": {
            "tags": []
          },
          "execution_count": 558
        }
      ]
    },
    {
      "cell_type": "code",
      "metadata": {
        "id": "ZQ1QTmKFy25r",
        "outputId": "b43e97b4-5b14-471a-c892-a031067cd4c0",
        "colab": {
          "base_uri": "https://localhost:8080/",
          "height": 417
        }
      },
      "source": [
        "X=sl_pw_c_d.drop('iris class',axis=1)\n",
        "X['x0']=1\n",
        "X=X[['x0','sepal length','petal width']]\n",
        "X\n"
      ],
      "execution_count": 559,
      "outputs": [
        {
          "output_type": "execute_result",
          "data": {
            "text/html": [
              "<div>\n",
              "<style scoped>\n",
              "    .dataframe tbody tr th:only-of-type {\n",
              "        vertical-align: middle;\n",
              "    }\n",
              "\n",
              "    .dataframe tbody tr th {\n",
              "        vertical-align: top;\n",
              "    }\n",
              "\n",
              "    .dataframe thead th {\n",
              "        text-align: right;\n",
              "    }\n",
              "</style>\n",
              "<table border=\"1\" class=\"dataframe\">\n",
              "  <thead>\n",
              "    <tr style=\"text-align: right;\">\n",
              "      <th></th>\n",
              "      <th>x0</th>\n",
              "      <th>sepal length</th>\n",
              "      <th>petal width</th>\n",
              "    </tr>\n",
              "  </thead>\n",
              "  <tbody>\n",
              "    <tr>\n",
              "      <th>0</th>\n",
              "      <td>1</td>\n",
              "      <td>6.7</td>\n",
              "      <td>1.7</td>\n",
              "    </tr>\n",
              "    <tr>\n",
              "      <th>1</th>\n",
              "      <td>1</td>\n",
              "      <td>6.1</td>\n",
              "      <td>1.4</td>\n",
              "    </tr>\n",
              "    <tr>\n",
              "      <th>2</th>\n",
              "      <td>1</td>\n",
              "      <td>5.5</td>\n",
              "      <td>1.0</td>\n",
              "    </tr>\n",
              "    <tr>\n",
              "      <th>3</th>\n",
              "      <td>1</td>\n",
              "      <td>5.8</td>\n",
              "      <td>1.2</td>\n",
              "    </tr>\n",
              "    <tr>\n",
              "      <th>4</th>\n",
              "      <td>1</td>\n",
              "      <td>6.4</td>\n",
              "      <td>1.3</td>\n",
              "    </tr>\n",
              "    <tr>\n",
              "      <th>...</th>\n",
              "      <td>...</td>\n",
              "      <td>...</td>\n",
              "      <td>...</td>\n",
              "    </tr>\n",
              "    <tr>\n",
              "      <th>45</th>\n",
              "      <td>1</td>\n",
              "      <td>6.1</td>\n",
              "      <td>1.2</td>\n",
              "    </tr>\n",
              "    <tr>\n",
              "      <th>46</th>\n",
              "      <td>1</td>\n",
              "      <td>5.5</td>\n",
              "      <td>1.3</td>\n",
              "    </tr>\n",
              "    <tr>\n",
              "      <th>47</th>\n",
              "      <td>1</td>\n",
              "      <td>6.4</td>\n",
              "      <td>2.1</td>\n",
              "    </tr>\n",
              "    <tr>\n",
              "      <th>48</th>\n",
              "      <td>1</td>\n",
              "      <td>6.2</td>\n",
              "      <td>1.5</td>\n",
              "    </tr>\n",
              "    <tr>\n",
              "      <th>49</th>\n",
              "      <td>1</td>\n",
              "      <td>6.7</td>\n",
              "      <td>2.1</td>\n",
              "    </tr>\n",
              "  </tbody>\n",
              "</table>\n",
              "<p>50 rows × 3 columns</p>\n",
              "</div>"
            ],
            "text/plain": [
              "    x0  sepal length  petal width\n",
              "0    1           6.7          1.7\n",
              "1    1           6.1          1.4\n",
              "2    1           5.5          1.0\n",
              "3    1           5.8          1.2\n",
              "4    1           6.4          1.3\n",
              "..  ..           ...          ...\n",
              "45   1           6.1          1.2\n",
              "46   1           5.5          1.3\n",
              "47   1           6.4          2.1\n",
              "48   1           6.2          1.5\n",
              "49   1           6.7          2.1\n",
              "\n",
              "[50 rows x 3 columns]"
            ]
          },
          "metadata": {
            "tags": []
          },
          "execution_count": 559
        }
      ]
    },
    {
      "cell_type": "code",
      "metadata": {
        "id": "tBj4wlZeML2M",
        "outputId": "fe54e06c-3356-492a-eb51-574a19b56576",
        "colab": {
          "base_uri": "https://localhost:8080/",
          "height": 35
        }
      },
      "source": [
        "#initial weight \n",
        "w=[]\n",
        "for i in range(0,len(X.columns)):\n",
        "\n",
        "  w.append(random.random())\n",
        "w"
      ],
      "execution_count": 560,
      "outputs": [
        {
          "output_type": "execute_result",
          "data": {
            "text/plain": [
              "[0.8946747073541108, 0.10613503475564912, 0.06958524931869392]"
            ]
          },
          "metadata": {
            "tags": []
          },
          "execution_count": 560
        }
      ]
    },
    {
      "cell_type": "code",
      "metadata": {
        "id": "zw2nv_3PQgae"
      },
      "source": [
        "def Fx2(x1):\n",
        "  \n",
        "  x2 = -(w[0] + w[1] * x1) / w[2]\n",
        "  return  x2"
      ],
      "execution_count": 561,
      "outputs": []
    },
    {
      "cell_type": "code",
      "metadata": {
        "id": "3p9A690RQ3o-"
      },
      "source": [
        "x1=sl_pw_c_d['sepal length']"
      ],
      "execution_count": 562,
      "outputs": []
    },
    {
      "cell_type": "code",
      "metadata": {
        "id": "x0JnTQPWQ_Cz",
        "outputId": "b55ff25d-3e15-442f-e5cd-2528c9d29a18",
        "colab": {
          "base_uri": "https://localhost:8080/",
          "height": 228
        }
      },
      "source": [
        "Fx2(x1)"
      ],
      "execution_count": 563,
      "outputs": [
        {
          "output_type": "execute_result",
          "data": {
            "text/plain": [
              "0    -23.076434\n",
              "1    -22.161283\n",
              "2    -21.246132\n",
              "3    -21.703708\n",
              "4    -22.618859\n",
              "        ...    \n",
              "45   -22.161283\n",
              "46   -21.246132\n",
              "47   -22.618859\n",
              "48   -22.313808\n",
              "49   -23.076434\n",
              "Name: sepal length, Length: 50, dtype: float64"
            ]
          },
          "metadata": {
            "tags": []
          },
          "execution_count": 563
        }
      ]
    },
    {
      "cell_type": "code",
      "metadata": {
        "id": "xn2b2ZTTdhur"
      },
      "source": [
        "class1 = sl_pw_c_d[sl_pw_c_d['iris class'] == 1 ]\n",
        "class0 = sl_pw_c_d[sl_pw_c_d['iris class'] == 0 ]"
      ],
      "execution_count": 564,
      "outputs": []
    },
    {
      "cell_type": "code",
      "metadata": {
        "id": "7pAn0KaPRJDn",
        "outputId": "64a139c1-f514-4ab4-8e04-f3a87f4ca421",
        "colab": {
          "base_uri": "https://localhost:8080/",
          "height": 535
        }
      },
      "source": [
        "fig, (g) = plt.subplots(1, figsize=(16, 8))\n",
        "plt.scatter(class1['sepal length'], class1['petal width'], marker= \"+\", c= \"green\",s=188 )\n",
        "plt.scatter(class0['sepal length'], class0['petal width'], marker= \".\", c= \"blue\",s=188 )\n",
        "\n",
        "g.set_xlim(4.5,8.5)\n",
        "g.set_ylim(.5,3)\n",
        "g.grid(True)\n",
        "x1 = np.linspace(4.5, 8.5, 1000)\n",
        "plt.plot(x1, Fx2(x1),color='red', marker=\"_\");\n",
        "plt.xlabel(\"x1 is sepal length\")\n",
        "plt.ylabel(\"x2 is petal width\")\n",
        "plt.title(\" iris class as g(sepal length, petal width\")\n",
        "plt.show()"
      ],
      "execution_count": 565,
      "outputs": [
        {
          "output_type": "display_data",
          "data": {
            "image/png": "[encoded data removed]",
            "text/plain": [
              "<Figure size 1152x576 with 1 Axes>"
            ]
          },
          "metadata": {
            "tags": [],
            "needs_background": "light"
          }
        }
      ]
    },
    {
      "cell_type": "code",
      "metadata": {
        "id": "qaQOMcWDs7J0"
      },
      "source": [
        "model=LogisticRegression()\n"
      ],
      "execution_count": 566,
      "outputs": []
    },
    {
      "cell_type": "code",
      "metadata": {
        "id": "xEyKvVlgtqKJ",
        "outputId": "603ee054-d82b-4117-db0c-4e6abc2dc518",
        "colab": {
          "base_uri": "https://localhost:8080/",
          "height": 105
        }
      },
      "source": [
        "model.fit(sl_pw_c.drop(['iris class'],axis=1),sl_pw_c['iris class'])"
      ],
      "execution_count": 567,
      "outputs": [
        {
          "output_type": "execute_result",
          "data": {
            "text/plain": [
              "LogisticRegression(C=1.0, class_weight=None, dual=False, fit_intercept=True,\n",
              "                   intercept_scaling=1, l1_ratio=None, max_iter=100,\n",
              "                   multi_class='auto', n_jobs=None, penalty='l2',\n",
              "                   random_state=None, solver='lbfgs', tol=0.0001, verbose=0,\n",
              "                   warm_start=False)"
            ]
          },
          "metadata": {
            "tags": []
          },
          "execution_count": 567
        }
      ]
    },
    {
      "cell_type": "code",
      "metadata": {
        "id": "BGUTPZ-wuEaH",
        "outputId": "930520d4-db82-4ba9-a5b9-be1eb4884dde",
        "colab": {
          "base_uri": "https://localhost:8080/",
          "height": 193
        }
      },
      "source": [
        "p=model.predict_proba(sl_pw_c_d.drop('iris class',axis=1))\n",
        "p[:,1]"
      ],
      "execution_count": 568,
      "outputs": [
        {
          "output_type": "execute_result",
          "data": {
            "text/plain": [
              "array([0.6068585 , 0.27654967, 0.0658971 , 0.14105357, 0.2691448 ,\n",
              "       0.16825156, 0.41940582, 0.61313587, 0.14563657, 0.94049831,\n",
              "       0.75863368, 0.89570276, 0.32013653, 0.15034242, 0.11271281,\n",
              "       0.46156585, 0.08647867, 0.84984294, 0.77586448, 0.2485376 ,\n",
              "       0.615727  , 0.22171074, 0.50428291, 0.09348364, 0.15661195,\n",
              "       0.57451045, 0.90756101, 0.15661195, 0.13099917, 0.09765459,\n",
              "       0.04396404, 0.92015442, 0.68255396, 0.25264553, 0.76063075,\n",
              "       0.04050391, 0.67441219, 0.66372697, 0.83498764, 0.16825156,\n",
              "       0.91449508, 0.94195791, 0.51087805, 0.51087805, 0.27654967,\n",
              "       0.17511401, 0.14563657, 0.79473391, 0.35847899, 0.83347511])"
            ]
          },
          "metadata": {
            "tags": []
          },
          "execution_count": 568
        }
      ]
    },
    {
      "cell_type": "code",
      "metadata": {
        "id": "A1qSCpxTuUP_"
      },
      "source": [
        ""
      ],
      "execution_count": 568,
      "outputs": []
    },
    {
      "cell_type": "code",
      "metadata": {
        "id": "uAFDYJPxzRDE"
      },
      "source": [
        "#y= sl_pw_c_d['iris class'].to_numpy()\n",
        "#X=X.to_numpy()"
      ],
      "execution_count": 569,
      "outputs": []
    },
    {
      "cell_type": "code",
      "metadata": {
        "id": "ZXFgKiwM1XTI"
      },
      "source": [
        "gx=np.dot(X,w)"
      ],
      "execution_count": 570,
      "outputs": []
    },
    {
      "cell_type": "code",
      "metadata": {
        "id": "31SjhWdX3K3w",
        "outputId": "519d90c5-8abb-42f0-9398-d18ddd064a9b",
        "colab": {
          "base_uri": "https://localhost:8080/",
          "height": 193
        }
      },
      "source": [
        "py1=1/(1+ np.exp(-gx))\n",
        "py1"
      ],
      "execution_count": 571,
      "outputs": [
        {
          "output_type": "execute_result",
          "data": {
            "text/plain": [
              "array([0.8486529 , 0.83746931, 0.82462506, 0.83114448, 0.84082773,\n",
              "       0.83063091, 0.84408343, 0.83737362, 0.82762363, 0.86587891,\n",
              "       0.84860775, 0.84945463, 0.8369712 , 0.82404491, 0.82662864,\n",
              "       0.84685669, 0.82562912, 0.85038705, 0.85750424, 0.8224494 ,\n",
              "       0.84542923, 0.83651993, 0.8495894 , 0.82715183, 0.82913252,\n",
              "       0.84263492, 0.8552566 , 0.82913252, 0.82964971, 0.8321679 ,\n",
              "       0.81681785, 0.85034233, 0.84633637, 0.83940212, 0.85620244,\n",
              "       0.81522445, 0.84954449, 0.84495099, 0.85963792, 0.83063091,\n",
              "       0.85656553, 0.85566507, 0.83836663, 0.83836663, 0.83746931,\n",
              "       0.83556609, 0.82762363, 0.84813759, 0.83984696, 0.85219335])"
            ]
          },
          "metadata": {
            "tags": []
          },
          "execution_count": 571
        }
      ]
    },
    {
      "cell_type": "code",
      "metadata": {
        "id": "3OJEqKcD5fMf",
        "outputId": "d7a975e1-353a-488d-adc2-db88de3bf789",
        "colab": {
          "base_uri": "https://localhost:8080/",
          "height": 193
        }
      },
      "source": [
        "error=y-py1\n",
        "error"
      ],
      "execution_count": 572,
      "outputs": [
        {
          "output_type": "execute_result",
          "data": {
            "text/plain": [
              "array([-0.8486529 ,  0.16253069, -0.82462506, -0.83114448, -0.84082773,\n",
              "       -0.83063091, -0.84408343,  0.16262638, -0.82762363,  0.13412109,\n",
              "        0.15139225,  0.15054537,  0.1630288 , -0.82404491, -0.82662864,\n",
              "       -0.84685669, -0.82562912,  0.14961295,  0.14249576,  0.1775506 ,\n",
              "        0.15457077, -0.83651993, -0.8495894 , -0.82715183, -0.82913252,\n",
              "        0.15736508,  0.1447434 , -0.82913252, -0.82964971, -0.8321679 ,\n",
              "       -0.81681785,  0.14965767,  0.15366363, -0.83940212,  0.14379756,\n",
              "       -0.81522445,  0.15045551,  0.15504901,  0.14036208, -0.83063091,\n",
              "        0.14343447,  0.14433493,  0.16163337, -0.83836663, -0.83746931,\n",
              "       -0.83556609, -0.82762363,  0.15186241, -0.83984696,  0.14780665])"
            ]
          },
          "metadata": {
            "tags": []
          },
          "execution_count": 572
        }
      ]
    },
    {
      "cell_type": "code",
      "metadata": {
        "id": "VzUrQfxmJLit"
      },
      "source": [
        "def Logistic_update_w(X,w,y,learning_rate,num,a):\n",
        "  y=y.to_numpy()\n",
        "  X=X.to_numpy()\n",
        "  gx=np.dot(X,w)\n",
        "  py1=1/(1+ np.exp(-gx))\n",
        "  error=y-py1\n",
        "  temperror=[0]\n",
        "  for i in range(num):\n",
        "    if np.absolute(((error-temperror).sum())/len(error))>a:\n",
        "      temperror=error\n",
        "      w+=np.dot(learning_rate*error,X)\n",
        "      gx=np.dot(X,w)\n",
        "      py1=1/(1+ np.exp(-gx))\n",
        "      error=y-py1\n",
        "      \n",
        "  return w"
      ],
      "execution_count": 573,
      "outputs": []
    },
    {
      "cell_type": "code",
      "metadata": {
        "id": "2TxR5MOYC20u"
      },
      "source": [
        "y= sl_pw_c_d['iris class']\n",
        "X=X"
      ],
      "execution_count": 574,
      "outputs": []
    },
    {
      "cell_type": "code",
      "metadata": {
        "id": "4OQGabCzPtTb",
        "outputId": "972d7b41-4f7c-4dac-8105-770628fdf3c3",
        "colab": {
          "base_uri": "https://localhost:8080/",
          "height": 35
        }
      },
      "source": [
        "Logistic_update_w(X,w,y,.01,100,.0001)"
      ],
      "execution_count": 575,
      "outputs": [
        {
          "output_type": "execute_result",
          "data": {
            "text/plain": [
              "array([-0.49279391, -0.8180436 ,  6.06607192])"
            ]
          },
          "metadata": {
            "tags": []
          },
          "execution_count": 575
        }
      ]
    }
  ]
}