{
  "nbformat": 4,
  "nbformat_minor": 0,
  "metadata": {
    "colab": {
      "name": "TamDoanW7LogisticRegressionEdit.ipynb",
      "provenance": [],
      "collapsed_sections": [],
      "authorship_tag": "ABX9TyODLGV4uybnDPPJf1Hx/NGv",
      "include_colab_link": true
    },
    "kernelspec": {
      "name": "python3",
      "display_name": "Python 3"
    }
  },
  "cells": [
    {
      "cell_type": "markdown",
      "metadata": {
        "id": "view-in-github",
        "colab_type": "text"
      },
      "source": [
        "<a href=\"https://colab.research.google.com/github/tamdoancong/5215-MachineLearning-Doan/blob/master/TamDoanW7LogisticRegressionEdit.ipynb\" target=\"_parent\"><img src=\"https://colab.research.google.com/assets/colab-badge.svg\" alt=\"Open In Colab\"/></a>"
      ]
    },
    {
      "cell_type": "code",
      "metadata": {
        "id": "YGcvrqJlDSCB"
      },
      "source": [
        "#import libraries\n",
        "import random\n",
        "import pandas as pd\n",
        "from mpl_toolkits.mplot3d import Axes3D\n",
        "import matplotlib.pyplot as plt\n",
        "import numpy as np\n",
        "from sklearn.linear_model import LogisticRegression,LinearRegression,Perceptron\n",
        "from sklearn.metrics import mean_squared_error, r2_score\n",
        "import math\n",
        "from matplotlib import cm\n",
        "from matplotlib.ticker import LinearLocator, FormatStrFormatter\n",
        "from matplotlib.colors import ListedColormap, LinearSegmentedColormap\n",
        "pd.options.display.max_rows=12\n",
        "plt.rcParams.update({'font.size': 18})"
      ],
      "execution_count": 542,
      "outputs": []
    },
    {
      "cell_type": "code",
      "metadata": {
        "id": "lUNpKWg1H2u_"
      },
      "source": [
        ""
      ],
      "execution_count": 542,
      "outputs": []
    },
    {
      "cell_type": "code",
      "metadata": {
        "id": "9lWAin_C6C4m",
        "outputId": "800a8590-a6eb-404e-bf3a-a4407f5d29a2",
        "colab": {
          "base_uri": "https://localhost:8080/",
          "height": 35
        }
      },
      "source": [
        "#download the data\n",
        "!git clone https://github.com/sopolat/HomeworkFiles.git"
      ],
      "execution_count": 543,
      "outputs": [
        {
          "output_type": "stream",
          "text": [
            "fatal: destination path 'HomeworkFiles' already exists and is not an empty directory.\n"
          ],
          "name": "stdout"
        }
      ]
    },
    {
      "cell_type": "code",
      "metadata": {
        "id": "Eh4Tjfj_6pMc"
      },
      "source": [
        "#load training dataframes\n",
        "sl_c = pd.read_csv(\"/content/HomeworkFiles/iris/train/iris_versicolor_vs_virginica.sl.c.train.csv\")\n",
        "sl_pl = pd.read_csv(\"/content/HomeworkFiles/iris/train/iris_versicolor_vs_virginica.sl.pl.train.csv\")\n",
        "sl_pw_c = pd.read_csv(\"/content/HomeworkFiles/iris/train/iris_versicolor_vs_virginica.sl_pw.c.train.csv\")\n",
        "sl_pw_pl = pd.read_csv(\"/content/HomeworkFiles/iris/train/iris_versicolor_vs_virginica.sl_pw.pl.train.csv\")\n",
        "#load dev set\n",
        "sl_c_d = pd.read_csv(\"/content/HomeworkFiles/iris/tune/iris_versicolor_vs_virginica.sl.c.tune.csv\")\n",
        "sl_pl_d = pd.read_csv(\"/content/HomeworkFiles/iris/tune/iris_versicolor_vs_virginica.sl.pl.tune.csv\")\n",
        "sl_pw_c_d = pd.read_csv(\"/content/HomeworkFiles/iris/tune/iris_versicolor_vs_virginica.sl_pw.c.tune.csv\")\n",
        "sl_pw_pl_d = pd.read_csv(\"/content/HomeworkFiles/iris/tune/iris_versicolor_vs_virginica.sl_pw.pl.tune.csv\")"
      ],
      "execution_count": 544,
      "outputs": []
    },
    {
      "cell_type": "code",
      "metadata": {
        "id": "HbdSN4lxLz_d"
      },
      "source": [
        "#update class labels\n",
        "sl_c.loc[sl_c[\"iris class\"]==\"Iris-virginica\",\"iris class\"]=1\n",
        "sl_c.loc[sl_c[\"iris class\"]==\"Iris-versicolor\",\"iris class\"]=0\n",
        "sl_c[\"iris class\"]=sl_c[\"iris class\"].astype('int')\n",
        "\n",
        "sl_pw_c.loc[sl_pw_c[\"iris class\"]==\"Iris-virginica\",\"iris class\"]=1\n",
        "sl_pw_c.loc[sl_pw_c[\"iris class\"]==\"Iris-versicolor\",\"iris class\"]=0\n",
        "sl_pw_c[\"iris class\"]=sl_pw_c[\"iris class\"].astype('int')\n",
        "\n",
        "\n",
        "sl_c_d.loc[sl_c_d[\"iris class\"]==\"Iris-virginica\",\"iris class\"]=1\n",
        "sl_c_d.loc[sl_c_d[\"iris class\"]==\"Iris-versicolor\",\"iris class\"]=0\n",
        "sl_c_d[\"iris class\"]=sl_c_d[\"iris class\"].astype('int')\n",
        "\n",
        "sl_pw_c_d.loc[sl_pw_c_d[\"iris class\"]==\"Iris-virginica\",\"iris class\"]=1\n",
        "sl_pw_c_d.loc[sl_pw_c_d[\"iris class\"]==\"Iris-versicolor\",\"iris class\"]=0\n",
        "sl_pw_c_d[\"iris class\"]=sl_pw_c_d[\"iris class\"].astype('int')"
      ],
      "execution_count": 545,
      "outputs": []
    },
    {
      "cell_type": "code",
      "metadata": {
        "id": "3WILI-yWMFCi",
        "outputId": "93deef63-e4f0-4d8b-8357-bc31605b765b",
        "colab": {
          "base_uri": "https://localhost:8080/",
          "height": 417
        }
      },
      "source": [
        "sl_pw_c_d\n"
      ],
      "execution_count": 546,
      "outputs": [
        {
          "output_type": "execute_result",
          "data": {
            "text/html": [
              "<div>\n",
              "<style scoped>\n",
              "    .dataframe tbody tr th:only-of-type {\n",
              "        vertical-align: middle;\n",
              "    }\n",
              "\n",
              "    .dataframe tbody tr th {\n",
              "        vertical-align: top;\n",
              "    }\n",
              "\n",
              "    .dataframe thead th {\n",
              "        text-align: right;\n",
              "    }\n",
              "</style>\n",
              "<table border=\"1\" class=\"dataframe\">\n",
              "  <thead>\n",
              "    <tr style=\"text-align: right;\">\n",
              "      <th></th>\n",
              "      <th>sepal length</th>\n",
              "      <th>petal width</th>\n",
              "      <th>iris class</th>\n",
              "    </tr>\n",
              "  </thead>\n",
              "  <tbody>\n",
              "    <tr>\n",
              "      <th>0</th>\n",
              "      <td>6.7</td>\n",
              "      <td>1.7</td>\n",
              "      <td>0</td>\n",
              "    </tr>\n",
              "    <tr>\n",
              "      <th>1</th>\n",
              "      <td>6.1</td>\n",
              "      <td>1.4</td>\n",
              "      <td>1</td>\n",
              "    </tr>\n",
              "    <tr>\n",
              "      <th>2</th>\n",
              "      <td>5.5</td>\n",
              "      <td>1.0</td>\n",
              "      <td>0</td>\n",
              "    </tr>\n",
              "    <tr>\n",
              "      <th>3</th>\n",
              "      <td>5.8</td>\n",
              "      <td>1.2</td>\n",
              "      <td>0</td>\n",
              "    </tr>\n",
              "    <tr>\n",
              "      <th>4</th>\n",
              "      <td>6.4</td>\n",
              "      <td>1.3</td>\n",
              "      <td>0</td>\n",
              "    </tr>\n",
              "    <tr>\n",
              "      <th>...</th>\n",
              "      <td>...</td>\n",
              "      <td>...</td>\n",
              "      <td>...</td>\n",
              "    </tr>\n",
              "    <tr>\n",
              "      <th>45</th>\n",
              "      <td>6.1</td>\n",
              "      <td>1.2</td>\n",
              "      <td>0</td>\n",
              "    </tr>\n",
              "    <tr>\n",
              "      <th>46</th>\n",
              "      <td>5.5</td>\n",
              "      <td>1.3</td>\n",
              "      <td>0</td>\n",
              "    </tr>\n",
              "    <tr>\n",
              "      <th>47</th>\n",
              "      <td>6.4</td>\n",
              "      <td>2.1</td>\n",
              "      <td>1</td>\n",
              "    </tr>\n",
              "    <tr>\n",
              "      <th>48</th>\n",
              "      <td>6.2</td>\n",
              "      <td>1.5</td>\n",
              "      <td>0</td>\n",
              "    </tr>\n",
              "    <tr>\n",
              "      <th>49</th>\n",
              "      <td>6.7</td>\n",
              "      <td>2.1</td>\n",
              "      <td>1</td>\n",
              "    </tr>\n",
              "  </tbody>\n",
              "</table>\n",
              "<p>50 rows × 3 columns</p>\n",
              "</div>"
            ],
            "text/plain": [
              "    sepal length  petal width  iris class\n",
              "0            6.7          1.7           0\n",
              "1            6.1          1.4           1\n",
              "2            5.5          1.0           0\n",
              "3            5.8          1.2           0\n",
              "4            6.4          1.3           0\n",
              "..           ...          ...         ...\n",
              "45           6.1          1.2           0\n",
              "46           5.5          1.3           0\n",
              "47           6.4          2.1           1\n",
              "48           6.2          1.5           0\n",
              "49           6.7          2.1           1\n",
              "\n",
              "[50 rows x 3 columns]"
            ]
          },
          "metadata": {
            "tags": []
          },
          "execution_count": 546
        }
      ]
    },
    {
      "cell_type": "code",
      "metadata": {
        "id": "ZQ1QTmKFy25r",
        "outputId": "9dfeb073-822a-4f57-fa36-c62c0bd435a7",
        "colab": {
          "base_uri": "https://localhost:8080/",
          "height": 417
        }
      },
      "source": [
        "#ad x0 to data array for more convinent in caculate update weight\n",
        "X=sl_pw_c_d.drop('iris class',axis=1)\n",
        "X['x0']=1\n",
        "X=X[['x0','sepal length','petal width']]\n",
        "X\n"
      ],
      "execution_count": 547,
      "outputs": [
        {
          "output_type": "execute_result",
          "data": {
            "text/html": [
              "<div>\n",
              "<style scoped>\n",
              "    .dataframe tbody tr th:only-of-type {\n",
              "        vertical-align: middle;\n",
              "    }\n",
              "\n",
              "    .dataframe tbody tr th {\n",
              "        vertical-align: top;\n",
              "    }\n",
              "\n",
              "    .dataframe thead th {\n",
              "        text-align: right;\n",
              "    }\n",
              "</style>\n",
              "<table border=\"1\" class=\"dataframe\">\n",
              "  <thead>\n",
              "    <tr style=\"text-align: right;\">\n",
              "      <th></th>\n",
              "      <th>x0</th>\n",
              "      <th>sepal length</th>\n",
              "      <th>petal width</th>\n",
              "    </tr>\n",
              "  </thead>\n",
              "  <tbody>\n",
              "    <tr>\n",
              "      <th>0</th>\n",
              "      <td>1</td>\n",
              "      <td>6.7</td>\n",
              "      <td>1.7</td>\n",
              "    </tr>\n",
              "    <tr>\n",
              "      <th>1</th>\n",
              "      <td>1</td>\n",
              "      <td>6.1</td>\n",
              "      <td>1.4</td>\n",
              "    </tr>\n",
              "    <tr>\n",
              "      <th>2</th>\n",
              "      <td>1</td>\n",
              "      <td>5.5</td>\n",
              "      <td>1.0</td>\n",
              "    </tr>\n",
              "    <tr>\n",
              "      <th>3</th>\n",
              "      <td>1</td>\n",
              "      <td>5.8</td>\n",
              "      <td>1.2</td>\n",
              "    </tr>\n",
              "    <tr>\n",
              "      <th>4</th>\n",
              "      <td>1</td>\n",
              "      <td>6.4</td>\n",
              "      <td>1.3</td>\n",
              "    </tr>\n",
              "    <tr>\n",
              "      <th>...</th>\n",
              "      <td>...</td>\n",
              "      <td>...</td>\n",
              "      <td>...</td>\n",
              "    </tr>\n",
              "    <tr>\n",
              "      <th>45</th>\n",
              "      <td>1</td>\n",
              "      <td>6.1</td>\n",
              "      <td>1.2</td>\n",
              "    </tr>\n",
              "    <tr>\n",
              "      <th>46</th>\n",
              "      <td>1</td>\n",
              "      <td>5.5</td>\n",
              "      <td>1.3</td>\n",
              "    </tr>\n",
              "    <tr>\n",
              "      <th>47</th>\n",
              "      <td>1</td>\n",
              "      <td>6.4</td>\n",
              "      <td>2.1</td>\n",
              "    </tr>\n",
              "    <tr>\n",
              "      <th>48</th>\n",
              "      <td>1</td>\n",
              "      <td>6.2</td>\n",
              "      <td>1.5</td>\n",
              "    </tr>\n",
              "    <tr>\n",
              "      <th>49</th>\n",
              "      <td>1</td>\n",
              "      <td>6.7</td>\n",
              "      <td>2.1</td>\n",
              "    </tr>\n",
              "  </tbody>\n",
              "</table>\n",
              "<p>50 rows × 3 columns</p>\n",
              "</div>"
            ],
            "text/plain": [
              "    x0  sepal length  petal width\n",
              "0    1           6.7          1.7\n",
              "1    1           6.1          1.4\n",
              "2    1           5.5          1.0\n",
              "3    1           5.8          1.2\n",
              "4    1           6.4          1.3\n",
              "..  ..           ...          ...\n",
              "45   1           6.1          1.2\n",
              "46   1           5.5          1.3\n",
              "47   1           6.4          2.1\n",
              "48   1           6.2          1.5\n",
              "49   1           6.7          2.1\n",
              "\n",
              "[50 rows x 3 columns]"
            ]
          },
          "metadata": {
            "tags": []
          },
          "execution_count": 547
        }
      ]
    },
    {
      "cell_type": "code",
      "metadata": {
        "id": "9VqlIBZ38LHs",
        "outputId": "7b79a1eb-ac18-4ba1-b550-eb3fb0fc09ab",
        "colab": {
          "base_uri": "https://localhost:8080/",
          "height": 35
        }
      },
      "source": [
        "X.columns"
      ],
      "execution_count": 548,
      "outputs": [
        {
          "output_type": "execute_result",
          "data": {
            "text/plain": [
              "Index(['x0', 'sepal length', 'petal width'], dtype='object')"
            ]
          },
          "metadata": {
            "tags": []
          },
          "execution_count": 548
        }
      ]
    },
    {
      "cell_type": "code",
      "metadata": {
        "id": "tBj4wlZeML2M",
        "outputId": "31bc5157-dc59-4b5e-86b9-86a48ea20921",
        "colab": {
          "base_uri": "https://localhost:8080/",
          "height": 35
        }
      },
      "source": [
        "#initial weight \n",
        "w=[]\n",
        "for i in range( 0, len(X.columns)):\n",
        "  w.append(random.random())\n",
        "\n",
        "w\n"
      ],
      "execution_count": 549,
      "outputs": [
        {
          "output_type": "execute_result",
          "data": {
            "text/plain": [
              "[0.9997963704711919, 0.16164170383428744, 0.2818516220604116]"
            ]
          },
          "metadata": {
            "tags": []
          },
          "execution_count": 549
        }
      ]
    },
    {
      "cell_type": "code",
      "metadata": {
        "id": "zw2nv_3PQgae"
      },
      "source": [
        "# find decision boundary we need solve : y1=1/(1+e^(-g(x)))=1/2 -> (1+e^(-g(x)))=2 ->g(x)=0\n",
        "#->W0x0+w1x1+w2x2=0 -> x2=-(w0+w1x1)/w2\n",
        "def Fx2(x1):\n",
        "  \n",
        "  x2 = -(w[0] + w[1] * x1) / w[2]\n",
        "  return  x2"
      ],
      "execution_count": 550,
      "outputs": []
    },
    {
      "cell_type": "code",
      "metadata": {
        "id": "3p9A690RQ3o-"
      },
      "source": [
        "x1=sl_pw_c_d['sepal length'].to_numpy()"
      ],
      "execution_count": 551,
      "outputs": []
    },
    {
      "cell_type": "code",
      "metadata": {
        "id": "x0JnTQPWQ_Cz",
        "outputId": "0273d619-95b8-4326-f052-c9f2c9967fd0",
        "colab": {
          "base_uri": "https://localhost:8080/",
          "height": 193
        }
      },
      "source": [
        "Fx2(x1)"
      ],
      "execution_count": 552,
      "outputs": [
        {
          "output_type": "execute_result",
          "data": {
            "text/plain": [
              "array([-7.38968884, -7.04558927, -6.7014897 , -6.87353948, -7.21763905,\n",
              "       -6.81618955, -7.27498898, -6.81618955, -6.7014897 , -7.96318813,\n",
              "       -7.27498898, -7.16028913, -6.98823934, -6.52943991, -6.7014897 ,\n",
              "       -7.38968884, -6.7014897 , -7.27498898, -7.73378841, -6.35739013,\n",
              "       -7.21763905, -7.04558927, -7.5043887 , -6.75883963, -6.75883963,\n",
              "       -7.1029392 , -7.44703877, -6.75883963, -6.81618955, -6.98823934,\n",
              "       -6.41474006, -7.16028913, -7.21763905, -7.16028913, -7.67643848,\n",
              "       -6.35739013, -7.38968884, -7.16028913, -7.79113834, -6.81618955,\n",
              "       -7.5043887 , -7.38968884, -6.93088941, -6.93088941, -7.04558927,\n",
              "       -7.04558927, -6.7014897 , -7.21763905, -7.1029392 , -7.38968884])"
            ]
          },
          "metadata": {
            "tags": []
          },
          "execution_count": 552
        }
      ]
    },
    {
      "cell_type": "code",
      "metadata": {
        "id": "xn2b2ZTTdhur"
      },
      "source": [
        "class1 = sl_pw_c_d[sl_pw_c_d['iris class'] == 1 ]\n",
        "class0 = sl_pw_c_d[sl_pw_c_d['iris class'] == 0 ]"
      ],
      "execution_count": 553,
      "outputs": []
    },
    {
      "cell_type": "code",
      "metadata": {
        "id": "7pAn0KaPRJDn"
      },
      "source": [
        "def draw():\n",
        "  fig, (g) = plt.subplots(1, figsize=(16, 8))\n",
        "  plt.scatter(class1['sepal length'], class1['petal width'], marker= \"+\", c= \"green\",s=188 )\n",
        "  plt.scatter(class0['sepal length'], class0['petal width'], marker= \".\", c= \"blue\",s=188 )\n",
        "\n",
        "  g.set_xlim(4.5,8.5)\n",
        "  g.set_ylim(.5,3)\n",
        "  g.grid(True)\n",
        "  x1 = np.linspace(-4.5, 8.5, 10000)\n",
        "  plt.scatter(x1, Fx2(x1),color='red', marker=\"_\");\n",
        "  plt.xlabel(\"x1 is sepal length\")\n",
        "  plt.ylabel(\"x2 is petal width\")\n",
        "  plt.title(\" iris class as g(sepal length, petal width\")\n",
        "  plt.show()"
      ],
      "execution_count": 554,
      "outputs": []
    },
    {
      "cell_type": "code",
      "metadata": {
        "id": "kviMCY_QoTf1",
        "outputId": "9aa51fc5-c7a6-4c7b-8ee4-1be003148381",
        "colab": {
          "base_uri": "https://localhost:8080/",
          "height": 535
        }
      },
      "source": [
        "draw()"
      ],
      "execution_count": 555,
      "outputs": [
        {
          "output_type": "display_data",
          "data": {
            "image/png": "[encoded data removed]",
            "text/plain": [
              "<Figure size 1152x576 with 1 Axes>"
            ]
          },
          "metadata": {
            "tags": [],
            "needs_background": "light"
          }
        }
      ]
    },
    {
      "cell_type": "code",
      "metadata": {
        "id": "qaQOMcWDs7J0"
      },
      "source": [
        "model=LogisticRegression()\n"
      ],
      "execution_count": 556,
      "outputs": []
    },
    {
      "cell_type": "code",
      "metadata": {
        "id": "xEyKvVlgtqKJ",
        "outputId": "7a9f1089-2d60-4d76-cd1d-79d51f110a29",
        "colab": {
          "base_uri": "https://localhost:8080/",
          "height": 105
        }
      },
      "source": [
        "model.fit(sl_pw_c.drop(['iris class'],axis=1),sl_pw_c['iris class'])"
      ],
      "execution_count": 557,
      "outputs": [
        {
          "output_type": "execute_result",
          "data": {
            "text/plain": [
              "LogisticRegression(C=1.0, class_weight=None, dual=False, fit_intercept=True,\n",
              "                   intercept_scaling=1, l1_ratio=None, max_iter=100,\n",
              "                   multi_class='auto', n_jobs=None, penalty='l2',\n",
              "                   random_state=None, solver='lbfgs', tol=0.0001, verbose=0,\n",
              "                   warm_start=False)"
            ]
          },
          "metadata": {
            "tags": []
          },
          "execution_count": 557
        }
      ]
    },
    {
      "cell_type": "code",
      "metadata": {
        "id": "BGUTPZ-wuEaH",
        "outputId": "3e2c01b8-bf07-459f-f60e-6ac81d4ce0af",
        "colab": {
          "base_uri": "https://localhost:8080/",
          "height": 193
        }
      },
      "source": [
        "p=model.predict_proba(sl_pw_c_d.drop('iris class',axis=1))\n",
        "# probability of class 1 predict by model sklearn\n",
        "p[:,1]"
      ],
      "execution_count": 558,
      "outputs": [
        {
          "output_type": "execute_result",
          "data": {
            "text/plain": [
              "array([0.6068585 , 0.27654967, 0.0658971 , 0.14105357, 0.2691448 ,\n",
              "       0.16825156, 0.41940582, 0.61313587, 0.14563657, 0.94049831,\n",
              "       0.75863368, 0.89570276, 0.32013653, 0.15034242, 0.11271281,\n",
              "       0.46156585, 0.08647867, 0.84984294, 0.77586448, 0.2485376 ,\n",
              "       0.615727  , 0.22171074, 0.50428291, 0.09348364, 0.15661195,\n",
              "       0.57451045, 0.90756101, 0.15661195, 0.13099917, 0.09765459,\n",
              "       0.04396404, 0.92015442, 0.68255396, 0.25264553, 0.76063075,\n",
              "       0.04050391, 0.67441219, 0.66372697, 0.83498764, 0.16825156,\n",
              "       0.91449508, 0.94195791, 0.51087805, 0.51087805, 0.27654967,\n",
              "       0.17511401, 0.14563657, 0.79473391, 0.35847899, 0.83347511])"
            ]
          },
          "metadata": {
            "tags": []
          },
          "execution_count": 558
        }
      ]
    },
    {
      "cell_type": "code",
      "metadata": {
        "id": "EeeLsDRlWA4S",
        "outputId": "add0ba51-1ce9-4be3-cf85-6fead2b17682",
        "colab": {
          "base_uri": "https://localhost:8080/",
          "height": 193
        }
      },
      "source": [
        "## probability of class 0 predict by model\n",
        "p[:,0]"
      ],
      "execution_count": 559,
      "outputs": [
        {
          "output_type": "execute_result",
          "data": {
            "text/plain": [
              "array([0.3931415 , 0.72345033, 0.9341029 , 0.85894643, 0.7308552 ,\n",
              "       0.83174844, 0.58059418, 0.38686413, 0.85436343, 0.05950169,\n",
              "       0.24136632, 0.10429724, 0.67986347, 0.84965758, 0.88728719,\n",
              "       0.53843415, 0.91352133, 0.15015706, 0.22413552, 0.7514624 ,\n",
              "       0.384273  , 0.77828926, 0.49571709, 0.90651636, 0.84338805,\n",
              "       0.42548955, 0.09243899, 0.84338805, 0.86900083, 0.90234541,\n",
              "       0.95603596, 0.07984558, 0.31744604, 0.74735447, 0.23936925,\n",
              "       0.95949609, 0.32558781, 0.33627303, 0.16501236, 0.83174844,\n",
              "       0.08550492, 0.05804209, 0.48912195, 0.48912195, 0.72345033,\n",
              "       0.82488599, 0.85436343, 0.20526609, 0.64152101, 0.16652489])"
            ]
          },
          "metadata": {
            "tags": []
          },
          "execution_count": 559
        }
      ]
    },
    {
      "cell_type": "code",
      "metadata": {
        "id": "VzUrQfxmJLit"
      },
      "source": [
        "def Logistic_update_w(X,w,y,learning_rate,num,a):\n",
        "  # caculate g(x)\n",
        "  gx=np.dot(X,w)\n",
        "  # probability of class 1\n",
        "  py1=1/(1+ np.exp(-gx))\n",
        "  # error \n",
        "  error=y-py1\n",
        "  #initialize a array in purpose to store old error array, then subtract old error with new error\n",
        "  temperror=[0]\n",
        "  # for loop to control how many time update w\n",
        "  for i in range(num):\n",
        "    #caculate mean of different between old error and new error of all examples\n",
        "    if np.absolute(((error-temperror).sum())/len(error))>a:\n",
        "      #old error\n",
        "      temperror=error\n",
        "      #update weight \n",
        "      w+=np.dot(learning_rate*error,X)\n",
        "      # update g(x) base on new weight\n",
        "      gx=np.dot(X,w)\n",
        "      # probability of class 1 base on new g(x)\n",
        "      py1=1/(1+ np.exp(-gx))\n",
        "      #new error\n",
        "      error=y-py1\n",
        "  return w\n",
        "\n",
        "      \n",
        "  "
      ],
      "execution_count": 560,
      "outputs": []
    },
    {
      "cell_type": "code",
      "metadata": {
        "id": "2TxR5MOYC20u"
      },
      "source": [
        "y1= sl_pw_c_d['iris class'].to_numpy()\n",
        "X1=X.to_numpy()"
      ],
      "execution_count": 561,
      "outputs": []
    },
    {
      "cell_type": "code",
      "metadata": {
        "id": "4OQGabCzPtTb",
        "outputId": "0d8a320b-3a82-462f-c509-288c67e04cc3",
        "colab": {
          "base_uri": "https://localhost:8080/",
          "height": 35
        }
      },
      "source": [
        "w=Logistic_update_w(X1,w,y1,.2,100,.00001)\n",
        "w\n"
      ],
      "execution_count": 572,
      "outputs": [
        {
          "output_type": "execute_result",
          "data": {
            "text/plain": [
              "array([-93.49457568, -47.99473224, 246.94243175])"
            ]
          },
          "metadata": {
            "tags": []
          },
          "execution_count": 572
        }
      ]
    },
    {
      "cell_type": "code",
      "metadata": {
        "id": "89DSU8hXpDBy",
        "outputId": "69b1f82f-62a0-4829-8239-3b43292ef2a7",
        "colab": {
          "base_uri": "https://localhost:8080/",
          "height": 535
        }
      },
      "source": [
        "draw()"
      ],
      "execution_count": 573,
      "outputs": [
        {
          "output_type": "display_data",
          "data": {
            "image/png": "[encoded data removed]",
            "text/plain": [
              "<Figure size 1152x576 with 1 Axes>"
            ]
          },
          "metadata": {
            "tags": [],
            "needs_background": "light"
          }
        }
      ]
    },
    {
      "cell_type": "code",
      "metadata": {
        "id": "181Kueh3nMxC"
      },
      "source": [
        "\n"
      ],
      "execution_count": 563,
      "outputs": []
    }
  ]
}