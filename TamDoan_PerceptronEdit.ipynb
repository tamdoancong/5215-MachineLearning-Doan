{
  "nbformat": 4,
  "nbformat_minor": 0,
  "metadata": {
    "colab": {
      "name": "TamDoan_PerceptronEdit.ipynb",
      "provenance": [],
      "authorship_tag": "ABX9TyM1IWucpEUD110P+a5kz2qV",
      "include_colab_link": true
    },
    "kernelspec": {
      "name": "python3",
      "display_name": "Python 3"
    }
  },
  "cells": [
    {
      "cell_type": "markdown",
      "metadata": {
        "id": "view-in-github",
        "colab_type": "text"
      },
      "source": [
        "<a href=\"https://colab.research.google.com/github/tamdoancong/5215-MachineLearning-Doan/blob/master/TamDoan_PerceptronEdit.ipynb\" target=\"_parent\"><img src=\"https://colab.research.google.com/assets/colab-badge.svg\" alt=\"Open In Colab\"/></a>"
      ]
    },
    {
      "cell_type": "code",
      "metadata": {
        "id": "izZuXrx0HXVo",
        "outputId": "007e4f7f-9d38-40f2-d58e-aa6f31130af1",
        "colab": {
          "base_uri": "https://localhost:8080/",
          "height": 357
        }
      },
      "source": [
        "import numpy as np\n",
        "import random\n",
        "import pandas as pd\n",
        "import matplotlib.pyplot as plt\n",
        "#this code sets the font size globaly for matplotlib\n",
        "plt.rcParams.update({'font.size': 18})\n",
        "\n",
        "linear_example=pd.DataFrame()\n",
        "linear_example[\"x1\"]=[0.5,0.4,0.4,0.6,0.6,1.5,1.4,1.4,1.6,1.6]\n",
        "linear_example[\"x2\"]=[0.5,0.4,0.6,0.4,0.6,1.5,1.4,1.6,1.4,1.6]\n",
        "linear_example[\"y\"]=[1,1,1,1,1,-1,-1,-1,-1,-1]\n",
        "linear_example\n",
        "\n",
        "\n"
      ],
      "execution_count": 901,
      "outputs": [
        {
          "output_type": "execute_result",
          "data": {
            "text/html": [
              "<div>\n",
              "<style scoped>\n",
              "    .dataframe tbody tr th:only-of-type {\n",
              "        vertical-align: middle;\n",
              "    }\n",
              "\n",
              "    .dataframe tbody tr th {\n",
              "        vertical-align: top;\n",
              "    }\n",
              "\n",
              "    .dataframe thead th {\n",
              "        text-align: right;\n",
              "    }\n",
              "</style>\n",
              "<table border=\"1\" class=\"dataframe\">\n",
              "  <thead>\n",
              "    <tr style=\"text-align: right;\">\n",
              "      <th></th>\n",
              "      <th>x1</th>\n",
              "      <th>x2</th>\n",
              "      <th>y</th>\n",
              "    </tr>\n",
              "  </thead>\n",
              "  <tbody>\n",
              "    <tr>\n",
              "      <th>0</th>\n",
              "      <td>0.5</td>\n",
              "      <td>0.5</td>\n",
              "      <td>1</td>\n",
              "    </tr>\n",
              "    <tr>\n",
              "      <th>1</th>\n",
              "      <td>0.4</td>\n",
              "      <td>0.4</td>\n",
              "      <td>1</td>\n",
              "    </tr>\n",
              "    <tr>\n",
              "      <th>2</th>\n",
              "      <td>0.4</td>\n",
              "      <td>0.6</td>\n",
              "      <td>1</td>\n",
              "    </tr>\n",
              "    <tr>\n",
              "      <th>3</th>\n",
              "      <td>0.6</td>\n",
              "      <td>0.4</td>\n",
              "      <td>1</td>\n",
              "    </tr>\n",
              "    <tr>\n",
              "      <th>4</th>\n",
              "      <td>0.6</td>\n",
              "      <td>0.6</td>\n",
              "      <td>1</td>\n",
              "    </tr>\n",
              "    <tr>\n",
              "      <th>5</th>\n",
              "      <td>1.5</td>\n",
              "      <td>1.5</td>\n",
              "      <td>-1</td>\n",
              "    </tr>\n",
              "    <tr>\n",
              "      <th>6</th>\n",
              "      <td>1.4</td>\n",
              "      <td>1.4</td>\n",
              "      <td>-1</td>\n",
              "    </tr>\n",
              "    <tr>\n",
              "      <th>7</th>\n",
              "      <td>1.4</td>\n",
              "      <td>1.6</td>\n",
              "      <td>-1</td>\n",
              "    </tr>\n",
              "    <tr>\n",
              "      <th>8</th>\n",
              "      <td>1.6</td>\n",
              "      <td>1.4</td>\n",
              "      <td>-1</td>\n",
              "    </tr>\n",
              "    <tr>\n",
              "      <th>9</th>\n",
              "      <td>1.6</td>\n",
              "      <td>1.6</td>\n",
              "      <td>-1</td>\n",
              "    </tr>\n",
              "  </tbody>\n",
              "</table>\n",
              "</div>"
            ],
            "text/plain": [
              "    x1   x2  y\n",
              "0  0.5  0.5  1\n",
              "1  0.4  0.4  1\n",
              "2  0.4  0.6  1\n",
              "3  0.6  0.4  1\n",
              "4  0.6  0.6  1\n",
              "5  1.5  1.5 -1\n",
              "6  1.4  1.4 -1\n",
              "7  1.4  1.6 -1\n",
              "8  1.6  1.4 -1\n",
              "9  1.6  1.6 -1"
            ]
          },
          "metadata": {
            "tags": []
          },
          "execution_count": 901
        }
      ]
    },
    {
      "cell_type": "code",
      "metadata": {
        "id": "OMj8nQKsXXVR",
        "outputId": "c488dc87-d6c6-4517-b972-908c68dffb26",
        "colab": {
          "base_uri": "https://localhost:8080/",
          "height": 357
        }
      },
      "source": [
        "linear_example[\"x0\"]=1\n",
        "linear_example[['x0','x1','x2','y']]"
      ],
      "execution_count": 902,
      "outputs": [
        {
          "output_type": "execute_result",
          "data": {
            "text/html": [
              "<div>\n",
              "<style scoped>\n",
              "    .dataframe tbody tr th:only-of-type {\n",
              "        vertical-align: middle;\n",
              "    }\n",
              "\n",
              "    .dataframe tbody tr th {\n",
              "        vertical-align: top;\n",
              "    }\n",
              "\n",
              "    .dataframe thead th {\n",
              "        text-align: right;\n",
              "    }\n",
              "</style>\n",
              "<table border=\"1\" class=\"dataframe\">\n",
              "  <thead>\n",
              "    <tr style=\"text-align: right;\">\n",
              "      <th></th>\n",
              "      <th>x0</th>\n",
              "      <th>x1</th>\n",
              "      <th>x2</th>\n",
              "      <th>y</th>\n",
              "    </tr>\n",
              "  </thead>\n",
              "  <tbody>\n",
              "    <tr>\n",
              "      <th>0</th>\n",
              "      <td>1</td>\n",
              "      <td>0.5</td>\n",
              "      <td>0.5</td>\n",
              "      <td>1</td>\n",
              "    </tr>\n",
              "    <tr>\n",
              "      <th>1</th>\n",
              "      <td>1</td>\n",
              "      <td>0.4</td>\n",
              "      <td>0.4</td>\n",
              "      <td>1</td>\n",
              "    </tr>\n",
              "    <tr>\n",
              "      <th>2</th>\n",
              "      <td>1</td>\n",
              "      <td>0.4</td>\n",
              "      <td>0.6</td>\n",
              "      <td>1</td>\n",
              "    </tr>\n",
              "    <tr>\n",
              "      <th>3</th>\n",
              "      <td>1</td>\n",
              "      <td>0.6</td>\n",
              "      <td>0.4</td>\n",
              "      <td>1</td>\n",
              "    </tr>\n",
              "    <tr>\n",
              "      <th>4</th>\n",
              "      <td>1</td>\n",
              "      <td>0.6</td>\n",
              "      <td>0.6</td>\n",
              "      <td>1</td>\n",
              "    </tr>\n",
              "    <tr>\n",
              "      <th>5</th>\n",
              "      <td>1</td>\n",
              "      <td>1.5</td>\n",
              "      <td>1.5</td>\n",
              "      <td>-1</td>\n",
              "    </tr>\n",
              "    <tr>\n",
              "      <th>6</th>\n",
              "      <td>1</td>\n",
              "      <td>1.4</td>\n",
              "      <td>1.4</td>\n",
              "      <td>-1</td>\n",
              "    </tr>\n",
              "    <tr>\n",
              "      <th>7</th>\n",
              "      <td>1</td>\n",
              "      <td>1.4</td>\n",
              "      <td>1.6</td>\n",
              "      <td>-1</td>\n",
              "    </tr>\n",
              "    <tr>\n",
              "      <th>8</th>\n",
              "      <td>1</td>\n",
              "      <td>1.6</td>\n",
              "      <td>1.4</td>\n",
              "      <td>-1</td>\n",
              "    </tr>\n",
              "    <tr>\n",
              "      <th>9</th>\n",
              "      <td>1</td>\n",
              "      <td>1.6</td>\n",
              "      <td>1.6</td>\n",
              "      <td>-1</td>\n",
              "    </tr>\n",
              "  </tbody>\n",
              "</table>\n",
              "</div>"
            ],
            "text/plain": [
              "   x0   x1   x2  y\n",
              "0   1  0.5  0.5  1\n",
              "1   1  0.4  0.4  1\n",
              "2   1  0.4  0.6  1\n",
              "3   1  0.6  0.4  1\n",
              "4   1  0.6  0.6  1\n",
              "5   1  1.5  1.5 -1\n",
              "6   1  1.4  1.4 -1\n",
              "7   1  1.4  1.6 -1\n",
              "8   1  1.6  1.4 -1\n",
              "9   1  1.6  1.6 -1"
            ]
          },
          "metadata": {
            "tags": []
          },
          "execution_count": 902
        }
      ]
    },
    {
      "cell_type": "code",
      "metadata": {
        "id": "LlZXTnXkXvRS"
      },
      "source": [
        ""
      ],
      "execution_count": 902,
      "outputs": []
    },
    {
      "cell_type": "code",
      "metadata": {
        "id": "u_fZUz4vVdWY",
        "outputId": "61bdecb5-1675-4a84-d935-7460871227ac",
        "colab": {
          "base_uri": "https://localhost:8080/",
          "height": 35
        }
      },
      "source": [
        "len(linear_example. columns) \n"
      ],
      "execution_count": 903,
      "outputs": [
        {
          "output_type": "execute_result",
          "data": {
            "text/plain": [
              "4"
            ]
          },
          "metadata": {
            "tags": []
          },
          "execution_count": 903
        }
      ]
    },
    {
      "cell_type": "code",
      "metadata": {
        "id": "SWleH-ASWYAp",
        "outputId": "223dd225-2ef9-4015-ec94-dd41f882b6c9",
        "colab": {
          "base_uri": "https://localhost:8080/",
          "height": 35
        }
      },
      "source": [
        "# Weight initialization, normally choose close to 0\n",
        "w=[]\n",
        "for i in range(0,len(linear_example. columns)-1 ):\n",
        "  w.append(random.random())\n",
        "w"
      ],
      "execution_count": 904,
      "outputs": [
        {
          "output_type": "execute_result",
          "data": {
            "text/plain": [
              "[0.28259884056064166, 0.5586042435735983, 0.6822229790621734]"
            ]
          },
          "metadata": {
            "tags": []
          },
          "execution_count": 904
        }
      ]
    },
    {
      "cell_type": "code",
      "metadata": {
        "id": "vy7ngNaKqZwQ"
      },
      "source": [
        ""
      ],
      "execution_count": 904,
      "outputs": []
    },
    {
      "cell_type": "code",
      "metadata": {
        "id": "nc0aE1bJX4AH"
      },
      "source": [
        "def Fx2(x1):\n",
        "  w_0 = w[0]\n",
        "  w_1 = w[1]\n",
        "  w_2 = w[2]\n",
        "  x2=(-w[0]-w[1]*x1)/w[2]\n",
        "  return  x2"
      ],
      "execution_count": 905,
      "outputs": []
    },
    {
      "cell_type": "code",
      "metadata": {
        "id": "ABY-SA0IZbWS"
      },
      "source": [
        "x1=linear_example['x1']"
      ],
      "execution_count": 906,
      "outputs": []
    },
    {
      "cell_type": "code",
      "metadata": {
        "id": "Gis2Q_0XY_ys",
        "outputId": "582bdc7d-c3cc-4aa8-9e24-09ca3868fa1c",
        "colab": {
          "base_uri": "https://localhost:8080/",
          "height": 211
        }
      },
      "source": [
        "Fx2(x1)"
      ],
      "execution_count": 907,
      "outputs": [
        {
          "output_type": "execute_result",
          "data": {
            "text/plain": [
              "0   -0.823632\n",
              "1   -0.741752\n",
              "2   -0.741752\n",
              "3   -0.905512\n",
              "4   -0.905512\n",
              "5   -1.642433\n",
              "6   -1.560553\n",
              "7   -1.560553\n",
              "8   -1.724313\n",
              "9   -1.724313\n",
              "Name: x1, dtype: float64"
            ]
          },
          "metadata": {
            "tags": []
          },
          "execution_count": 907
        }
      ]
    },
    {
      "cell_type": "code",
      "metadata": {
        "id": "0AEXKSflZ-lJ"
      },
      "source": [
        ""
      ],
      "execution_count": 907,
      "outputs": []
    },
    {
      "cell_type": "code",
      "metadata": {
        "id": "whfSna_YYwXO"
      },
      "source": [
        "def draw(linear_example):\n",
        "  fig, (ax1) = plt.subplots(1, figsize=(4, 10))\n",
        "  ax1.scatter(    linear_example[linear_example[\"y\"]==1]['x1'], \n",
        "                  linear_example[linear_example[\"y\"]==1][\"x2\"], \n",
        "                  s=100,\n",
        "                  c = \"green\", \n",
        "                  marker = \"+\")\n",
        "  ax1.scatter(    linear_example[linear_example[\"y\"]==-1][\"x1\"], \n",
        "                  linear_example[linear_example[\"y\"]==-1][\"x2\"], \n",
        "                  s=100,\n",
        "                  c = \"orange\", \n",
        "                  marker = \"_\")\n",
        "  ax1.set_xlim(0,2)\n",
        "  ax1.set_ylim(-4,4)\n",
        "  ax1.set_xlabel('x1')\n",
        "  ax1.set_ylabel('x2')\n",
        "  ax1.grid(True)\n",
        "  x1 = np.linspace(0, 2, 1000)\n",
        "  ax1.plot(x1, Fx2(x1));\n",
        "  plt.show()"
      ],
      "execution_count": 908,
      "outputs": []
    },
    {
      "cell_type": "code",
      "metadata": {
        "id": "CAtf6EC8iKIW",
        "outputId": "c9dbb86c-8ba8-44ca-df33-33ad54a7c13e",
        "colab": {
          "base_uri": "https://localhost:8080/",
          "height": 629
        }
      },
      "source": [
        "draw(linear_example)"
      ],
      "execution_count": 909,
      "outputs": [
        {
          "output_type": "display_data",
          "data": {
            "image/png": "[encoded data removed]",
            "text/plain": [
              "<Figure size 288x720 with 1 Axes>"
            ]
          },
          "metadata": {
            "tags": [],
            "needs_background": "light"
          }
        }
      ]
    },
    {
      "cell_type": "code",
      "metadata": {
        "id": "0LGRd53nb3lZ"
      },
      "source": [
        "def update_w( w,learning_rate,num):\n",
        "  y=linear_example['y'].to_numpy()\n",
        "  X=linear_example[[\"x0\",\"x1\",\"x2\"]].to_numpy()\n",
        "  y_predict=np.sign(np.dot(X,w))\n",
        "  \n",
        "  error=y-y_predict\n",
        "  \n",
        "  \n",
        "  for i in range(num):\n",
        "    if error.sum()!=0:\n",
        "      w+=np.dot(learning_rate*error,X)\n",
        "      y_predict=np.sign(np.dot(X,w))\n",
        "      error=y-y_predict\n",
        "      print(error.sum())\n",
        "  return w\n",
        "      \n",
        "  \n",
        "      \n",
        "  \n",
        "  \n",
        "\n",
        "  \n",
        "\n"
      ],
      "execution_count": 910,
      "outputs": []
    },
    {
      "cell_type": "code",
      "metadata": {
        "id": "hk8EQhaNcRTs",
        "outputId": "00d3cc04-0cf0-45da-abe1-4c54938c0b9d",
        "colab": {
          "base_uri": "https://localhost:8080/",
          "height": 228
        }
      },
      "source": [
        "update_w(w,.01,100)"
      ],
      "execution_count": 911,
      "outputs": [
        {
          "output_type": "stream",
          "text": [
            "-10.0\n",
            "-10.0\n",
            "-10.0\n",
            "10.0\n",
            "-10.0\n",
            "10.0\n",
            "10.0\n",
            "-10.0\n",
            "10.0\n",
            "4.0\n",
            "0.0\n"
          ],
          "name": "stdout"
        },
        {
          "output_type": "execute_result",
          "data": {
            "text/plain": [
              "array([ 0.12259884, -0.11739576,  0.00222298])"
            ]
          },
          "metadata": {
            "tags": []
          },
          "execution_count": 911
        }
      ]
    },
    {
      "cell_type": "code",
      "metadata": {
        "id": "sQZTGV2h15aA",
        "outputId": "eafbbe13-e01d-42c9-c56f-ccb98940bf06",
        "colab": {
          "base_uri": "https://localhost:8080/",
          "height": 228
        }
      },
      "source": [
        "w=update_w(w,.01,100)\n",
        "w"
      ],
      "execution_count": 912,
      "outputs": [
        {
          "output_type": "stream",
          "text": [
            "-10.0\n",
            "-10.0\n",
            "-10.0\n",
            "10.0\n",
            "-10.0\n",
            "10.0\n",
            "10.0\n",
            "-10.0\n",
            "10.0\n",
            "4.0\n",
            "0.0\n"
          ],
          "name": "stdout"
        },
        {
          "output_type": "execute_result",
          "data": {
            "text/plain": [
              "array([ 0.12259884, -0.11739576,  0.00222298])"
            ]
          },
          "metadata": {
            "tags": []
          },
          "execution_count": 912
        }
      ]
    },
    {
      "cell_type": "code",
      "metadata": {
        "id": "6SN1Rxmu2O3s"
      },
      "source": [
        ""
      ],
      "execution_count": 912,
      "outputs": []
    },
    {
      "cell_type": "code",
      "metadata": {
        "id": "SO43Yd4aolAP",
        "outputId": "14327aaa-9060-4e0b-ca27-2469037f88d4",
        "colab": {
          "base_uri": "https://localhost:8080/",
          "height": 211
        }
      },
      "source": [
        "Fx2(x1)"
      ],
      "execution_count": 913,
      "outputs": [
        {
          "output_type": "execute_result",
          "data": {
            "text/plain": [
              "0   -28.745643\n",
              "1   -34.026653\n",
              "2   -34.026653\n",
              "3   -23.464632\n",
              "4   -23.464632\n",
              "5    24.064462\n",
              "6    18.783451\n",
              "7    18.783451\n",
              "8    29.345472\n",
              "9    29.345472\n",
              "Name: x1, dtype: float64"
            ]
          },
          "metadata": {
            "tags": []
          },
          "execution_count": 913
        }
      ]
    },
    {
      "cell_type": "code",
      "metadata": {
        "id": "yOTATn0-oUSC",
        "outputId": "a1434ad1-f686-422e-99c9-276bc0e55d50",
        "colab": {
          "base_uri": "https://localhost:8080/",
          "height": 629
        }
      },
      "source": [
        "draw(linear_example)"
      ],
      "execution_count": 914,
      "outputs": [
        {
          "output_type": "display_data",
          "data": {
            "image/png": "[encoded data removed]",
            "text/plain": [
              "<Figure size 288x720 with 1 Axes>"
            ]
          },
          "metadata": {
            "tags": [],
            "needs_background": "light"
          }
        }
      ]
    }
  ]
}